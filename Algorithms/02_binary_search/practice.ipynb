{
 "cells": [
  {
   "cell_type": "code",
   "execution_count": 2,
   "id": "58af35ed-9d65-409d-a1f6-d994f27fedca",
   "metadata": {},
   "outputs": [],
   "source": [
    "def binary_search(arr, low, high, item):\n",
    "    if low <= high:\n",
    "        mid = (low + high) // 2\n",
    "        if arr[mid] == item:\n",
    "            return mid\n",
    "        elif arr[mid] < item:\n",
    "            return binary_search(arr, mid+1, high, item)\n",
    "        else:\n",
    "            return binary_search(arr, low, mid-1, item)\n",
    "    return -1"
   ]
  },
  {
   "cell_type": "code",
   "execution_count": 5,
   "id": "50c7e5ef-4602-4f6e-8166-5fd50c2737e9",
   "metadata": {},
   "outputs": [
    {
     "data": {
      "text/plain": [
       "0"
      ]
     },
     "execution_count": 5,
     "metadata": {},
     "output_type": "execute_result"
    }
   ],
   "source": [
    "arr = [1,2,3,4,5,6,7,8,9,10]\n",
    "binary_search(arr, 0, len(arr)-1, 1)"
   ]
  },
  {
   "cell_type": "code",
   "execution_count": null,
   "id": "18c758d2-293a-435c-b92c-4587c4d7e96b",
   "metadata": {},
   "outputs": [],
   "source": []
  }
 ],
 "metadata": {
  "kernelspec": {
   "display_name": "Python 3 (ipykernel)",
   "language": "python",
   "name": "python3"
  },
  "language_info": {
   "codemirror_mode": {
    "name": "ipython",
    "version": 3
   },
   "file_extension": ".py",
   "mimetype": "text/x-python",
   "name": "python",
   "nbconvert_exporter": "python",
   "pygments_lexer": "ipython3",
   "version": "3.10.11"
  }
 },
 "nbformat": 4,
 "nbformat_minor": 5
}
