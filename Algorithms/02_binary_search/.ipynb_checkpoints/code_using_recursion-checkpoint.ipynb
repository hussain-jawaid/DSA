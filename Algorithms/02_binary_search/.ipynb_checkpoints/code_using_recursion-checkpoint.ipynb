{
 "cells": [
  {
   "cell_type": "code",
   "execution_count": 8,
   "id": "31a18f4d-1c4a-425b-a5c8-6ac2d18af173",
   "metadata": {},
   "outputs": [],
   "source": [
    "def binary_search(arr, low, high, item):\n",
    "    if low <= high:\n",
    "        # search\n",
    "        mid = (low + high) // 2\n",
    "        if arr[mid] == item:\n",
    "            return mid\n",
    "        elif arr[mid] < item:\n",
    "            return binary_search(arr, mid+1, high, item)\n",
    "        else:\n",
    "            return binary_search(arr, low, mid-1, item)\n",
    "    else:\n",
    "        return -1"
   ]
  },
  {
   "cell_type": "code",
   "execution_count": 11,
   "id": "8ce3c956-905d-49c4-9d3e-784298693a3f",
   "metadata": {},
   "outputs": [
    {
     "data": {
      "text/plain": [
       "44"
      ]
     },
     "execution_count": 11,
     "metadata": {},
     "output_type": "execute_result"
    }
   ],
   "source": [
    "arr = []\n",
    "for i in range(1, 101):\n",
    "    arr.append(i)\n",
    "\n",
    "binary_search(arr, 0, len(arr)-1, 45)"
   ]
  },
  {
   "cell_type": "code",
   "execution_count": null,
   "id": "ee11fd66-4691-4103-a0f4-0853a0626e84",
   "metadata": {},
   "outputs": [],
   "source": []
  }
 ],
 "metadata": {
  "kernelspec": {
   "display_name": "Python 3 (ipykernel)",
   "language": "python",
   "name": "python3"
  },
  "language_info": {
   "codemirror_mode": {
    "name": "ipython",
    "version": 3
   },
   "file_extension": ".py",
   "mimetype": "text/x-python",
   "name": "python",
   "nbconvert_exporter": "python",
   "pygments_lexer": "ipython3",
   "version": "3.10.11"
  }
 },
 "nbformat": 4,
 "nbformat_minor": 5
}
