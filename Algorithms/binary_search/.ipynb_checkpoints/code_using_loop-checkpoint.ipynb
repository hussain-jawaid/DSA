{
 "cells": [
  {
   "cell_type": "code",
   "execution_count": 10,
   "id": "2ff700f2-7fd9-4174-805a-212ac8ad3060",
   "metadata": {},
   "outputs": [],
   "source": [
    "def binary_search(arr, low, high, item):\n",
    "    arr.sort()\n",
    "    while low <= high:\n",
    "        mid = (low + high) // 2\n",
    "        if arr[mid] == item:\n",
    "           return mid\n",
    "        elif arr[mid] < item:\n",
    "            low = mid + 1\n",
    "        else:\n",
    "            high = mid - 1 \n",
    "    return -1"
   ]
  },
  {
   "cell_type": "code",
   "execution_count": 13,
   "id": "902ac9ab-8da5-4c8b-bdd0-a73f87bed06f",
   "metadata": {},
   "outputs": [
    {
     "data": {
      "text/plain": [
       "44"
      ]
     },
     "execution_count": 13,
     "metadata": {},
     "output_type": "execute_result"
    }
   ],
   "source": [
    "arr = []\n",
    "for i in range(1, 101):\n",
    "    arr.append(i)\n",
    "    \n",
    "binary_search(arr, 0, len(arr)-1, 45)"
   ]
  },
  {
   "cell_type": "code",
   "execution_count": null,
   "id": "82534544-be40-4963-bc2f-1e0e21e83f1d",
   "metadata": {},
   "outputs": [],
   "source": []
  }
 ],
 "metadata": {
  "kernelspec": {
   "display_name": "Python 3 (ipykernel)",
   "language": "python",
   "name": "python3"
  },
  "language_info": {
   "codemirror_mode": {
    "name": "ipython",
    "version": 3
   },
   "file_extension": ".py",
   "mimetype": "text/x-python",
   "name": "python",
   "nbconvert_exporter": "python",
   "pygments_lexer": "ipython3",
   "version": "3.10.11"
  }
 },
 "nbformat": 4,
 "nbformat_minor": 5
}
