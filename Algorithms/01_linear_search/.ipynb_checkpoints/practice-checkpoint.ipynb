{
 "cells": [
  {
   "cell_type": "code",
   "execution_count": 1,
   "id": "1b9b2e0f-b69c-4611-971a-6615147f9a1a",
   "metadata": {},
   "outputs": [],
   "source": [
    "def linear_search(arr, item):\n",
    "    for i in range(len(arr)):\n",
    "        if arr[i] == item:\n",
    "            return i\n",
    "    return -1"
   ]
  },
  {
   "cell_type": "code",
   "execution_count": 5,
   "id": "80b795a4-40d0-418d-a60b-3f1cd370e37f",
   "metadata": {},
   "outputs": [
    {
     "data": {
      "text/plain": [
       "7"
      ]
     },
     "execution_count": 5,
     "metadata": {},
     "output_type": "execute_result"
    }
   ],
   "source": [
    "arr = [12, 5,4,8,9,6,63,7]\n",
    "linear_search(arr, 7)"
   ]
  },
  {
   "cell_type": "code",
   "execution_count": null,
   "id": "94b3fb81-3712-4521-9442-f694478dabf0",
   "metadata": {},
   "outputs": [],
   "source": []
  }
 ],
 "metadata": {
  "kernelspec": {
   "display_name": "Python 3 (ipykernel)",
   "language": "python",
   "name": "python3"
  },
  "language_info": {
   "codemirror_mode": {
    "name": "ipython",
    "version": 3
   },
   "file_extension": ".py",
   "mimetype": "text/x-python",
   "name": "python",
   "nbconvert_exporter": "python",
   "pygments_lexer": "ipython3",
   "version": "3.10.11"
  }
 },
 "nbformat": 4,
 "nbformat_minor": 5
}
