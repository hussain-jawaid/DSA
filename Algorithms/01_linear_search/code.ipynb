{
 "cells": [
  {
   "cell_type": "code",
   "execution_count": 3,
   "id": "769dc07b-b02b-4687-8297-9e8fa20e7941",
   "metadata": {},
   "outputs": [],
   "source": [
    "def linear_search(arr, item):\n",
    "    count = 1\n",
    "    for i in range(len(arr)):\n",
    "        print(count, end=\" \")\n",
    "        if arr[i] == item:\n",
    "            return i\n",
    "        count += 1\n",
    "    return -1"
   ]
  },
  {
   "cell_type": "code",
   "execution_count": 4,
   "id": "e74b0b82-6ef7-48ca-a704-388b3f78d38b",
   "metadata": {},
   "outputs": [
    {
     "name": "stdout",
     "output_type": "stream",
     "text": [
      "1 2 3 4 5 6 7 8 9 10 11 12 13 14 15 16 17 18 19 20 21 22 23 24 25 26 27 28 29 30 31 32 33 34 35 36 37 38 39 40 41 42 43 44 45 46 47 48 49 50 51 52 53 54 55 56 57 58 59 60 61 62 63 64 65 66 67 68 69 70 71 72 73 74 75 76 77 78 79 80 81 82 83 84 85 86 87 88 89 90 91 92 93 94 95 96 97 98 99 100 "
     ]
    },
    {
     "data": {
      "text/plain": [
       "99"
      ]
     },
     "execution_count": 4,
     "metadata": {},
     "output_type": "execute_result"
    }
   ],
   "source": [
    "arr = []\n",
    "for i in range(1, 101):\n",
    "    arr.append(i)\n",
    "linear_search(arr, 100)"
   ]
  },
  {
   "cell_type": "code",
   "execution_count": null,
   "id": "2739e875-fff8-40b6-9fff-a037408e395f",
   "metadata": {},
   "outputs": [],
   "source": []
  }
 ],
 "metadata": {
  "kernelspec": {
   "display_name": "Python 3 (ipykernel)",
   "language": "python",
   "name": "python3"
  },
  "language_info": {
   "codemirror_mode": {
    "name": "ipython",
    "version": 3
   },
   "file_extension": ".py",
   "mimetype": "text/x-python",
   "name": "python",
   "nbconvert_exporter": "python",
   "pygments_lexer": "ipython3",
   "version": "3.10.11"
  }
 },
 "nbformat": 4,
 "nbformat_minor": 5
}
