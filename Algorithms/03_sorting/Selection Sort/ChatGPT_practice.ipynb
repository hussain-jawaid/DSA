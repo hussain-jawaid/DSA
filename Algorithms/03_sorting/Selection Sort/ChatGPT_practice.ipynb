{
 "cells": [
  {
   "cell_type": "markdown",
   "id": "9341eaa2-d2b7-41bd-955a-a221b55e1621",
   "metadata": {},
   "source": [
    "# Basic Sorting\n",
    "**Implement selection sort to sort this array in ascending order: arr = [64, 25, 12, 22, 11]**"
   ]
  },
  {
   "cell_type": "code",
   "execution_count": 1,
   "id": "646608ec-9cb8-4010-8575-6e5b69155765",
   "metadata": {},
   "outputs": [],
   "source": [
    "def selection_sort(arr):\n",
    "    n = len(arr)\n",
    "    for i in range(n):\n",
    "        min = i\n",
    "        for j in range(i+1, n):\n",
    "            if arr[min] > arr[j]:\n",
    "                min = j\n",
    "        arr[i], arr[min] = arr[min], arr[i]\n",
    "    return arr"
   ]
  },
  {
   "cell_type": "code",
   "execution_count": 2,
   "id": "87ae2aed-acb1-444c-a637-4235741c25eb",
   "metadata": {},
   "outputs": [
    {
     "data": {
      "text/plain": [
       "[11, 12, 22, 25, 64]"
      ]
     },
     "execution_count": 2,
     "metadata": {},
     "output_type": "execute_result"
    }
   ],
   "source": [
    "arr = [64, 25, 12, 22, 11]\n",
    "selection_sort(arr)"
   ]
  },
  {
   "cell_type": "markdown",
   "id": "9aa40cc9-f736-46a0-981d-3d015dfef6c7",
   "metadata": {},
   "source": [
    "# Sort in Descending Order\n",
    "**Modify your selection sort function to sort the following array in descending order:\n",
    "arr = [5, 3, 6, 2, 1, 4]**"
   ]
  },
  {
   "cell_type": "code",
   "execution_count": 4,
   "id": "2873c6b3-bbab-471b-9853-3194b840a9cd",
   "metadata": {},
   "outputs": [],
   "source": [
    "def selection_sort(arr):\n",
    "    n = len(arr)\n",
    "    for i in range(n):\n",
    "        max = i\n",
    "        for j in range(i+1, n):\n",
    "            if arr[j] > arr[max]:\n",
    "                max = j\n",
    "        arr[i], arr[max] = arr[max], arr[i]\n",
    "    return arr"
   ]
  },
  {
   "cell_type": "code",
   "execution_count": 6,
   "id": "5419f5a7-8ee2-4413-ab3c-5e4ce2647ebd",
   "metadata": {},
   "outputs": [
    {
     "data": {
      "text/plain": [
       "[6, 5, 4, 3, 2, 1]"
      ]
     },
     "execution_count": 6,
     "metadata": {},
     "output_type": "execute_result"
    }
   ],
   "source": [
    "arr = [5, 3, 6, 2, 1, 4]\n",
    "selection_sort(arr)"
   ]
  },
  {
   "cell_type": "markdown",
   "id": "b3873aca-b78b-45ee-816b-b0be1bf30159",
   "metadata": {},
   "source": [
    "# Sort a List of Strings\n",
    "**Sort the following list of strings alphabetically using selection sort:\n",
    "arr = [\"banana\", \"apple\", \"cherry\", \"date\"]**"
   ]
  },
  {
   "cell_type": "code",
   "execution_count": 27,
   "id": "e6fd3b9b-7570-4ef4-bd87-599d7968360e",
   "metadata": {},
   "outputs": [],
   "source": [
    "def selection_sort(arr):\n",
    "    n = len(arr)\n",
    "    for i in range(n):\n",
    "        min = i\n",
    "        for j in range(i+1, n):\n",
    "            if arr[min][0] > arr[j][0]:\n",
    "                min = j\n",
    "        arr[i], arr[min] = arr[min], arr[i]\n",
    "    return arr"
   ]
  },
  {
   "cell_type": "code",
   "execution_count": 28,
   "id": "f2d53bc9-aebc-4430-9647-d673f67208b9",
   "metadata": {},
   "outputs": [
    {
     "data": {
      "text/plain": [
       "['apple', 'banana', 'cherry', 'date']"
      ]
     },
     "execution_count": 28,
     "metadata": {},
     "output_type": "execute_result"
    }
   ],
   "source": [
    "arr = [\"banana\", \"apple\", \"cherry\", \"date\"]\n",
    "selection_sort(arr)"
   ]
  },
  {
   "cell_type": "markdown",
   "id": "ed800793-23a1-40d4-8d7e-f50978db7041",
   "metadata": {},
   "source": [
    "# Find the Kth Smallest Element\n",
    "**Use selection sort logic (but stop early) to find the 3rd smallest element in this array:\n",
    "arr = [10, 4, 5, 8, 6, 11, 26]**"
   ]
  },
  {
   "cell_type": "code",
   "execution_count": 41,
   "id": "6f65cf3b-4024-42b6-88d4-d86f4d935ed7",
   "metadata": {},
   "outputs": [],
   "source": [
    "def selection_sort(arr, k):\n",
    "    n = len(arr)\n",
    "    for i in range(k):\n",
    "        min = i\n",
    "        for j in range(i+1, n):\n",
    "            if arr[min] > arr[j]:\n",
    "                min = j\n",
    "        arr[i], arr[min] = arr[min], arr[i]\n",
    "    return arr[k-1]"
   ]
  },
  {
   "cell_type": "code",
   "execution_count": 46,
   "id": "2061b856-86be-4bef-aa26-e4695dd31f2e",
   "metadata": {},
   "outputs": [
    {
     "data": {
      "text/plain": [
       "6"
      ]
     },
     "execution_count": 46,
     "metadata": {},
     "output_type": "execute_result"
    }
   ],
   "source": [
    "arr = [10, 4, 5, 8, 6, 11, 26]\n",
    "selection_sort(arr, 3)"
   ]
  },
  {
   "cell_type": "markdown",
   "id": "0953b8c8-8824-4639-97f4-48dfe372cf57",
   "metadata": {},
   "source": [
    "# Count Swaps\n",
    "**Modify your selection sort function to count how many swaps it makes during sorting.\n",
    "Test it on:\n",
    "arr = [3, 1, 2, 5, 4]**"
   ]
  },
  {
   "cell_type": "code",
   "execution_count": 53,
   "id": "fe6a1046-68e8-4fe9-8843-78df3f3d6a5a",
   "metadata": {},
   "outputs": [],
   "source": [
    "def selection_sort(arr):\n",
    "    n = len(arr)\n",
    "    swaps = 0\n",
    "    for i in range(n):\n",
    "        min = i\n",
    "        for j in range(i+1, n):\n",
    "            if arr[min] > arr[j]:\n",
    "                min = j\n",
    "        if i != min:\n",
    "            arr[i], arr[min] = arr[min], arr[i]\n",
    "            swaps += 1\n",
    "    return swaps, arr"
   ]
  },
  {
   "cell_type": "code",
   "execution_count": 54,
   "id": "0e2b5eec-45e8-4fad-b0ce-ff7437b1cc35",
   "metadata": {},
   "outputs": [],
   "source": [
    "arr = [3, 1, 2, 5, 4]\n",
    "swaps, arr = selection_sort(arr)"
   ]
  },
  {
   "cell_type": "code",
   "execution_count": 55,
   "id": "93d030c5-3819-4003-82e3-5d95d219390b",
   "metadata": {},
   "outputs": [
    {
     "name": "stdout",
     "output_type": "stream",
     "text": [
      "Swaps: 3 arr: [1, 2, 3, 4, 5]\n"
     ]
    }
   ],
   "source": [
    "print(\"Swaps:\", swaps, \"arr:\", arr)"
   ]
  },
  {
   "cell_type": "code",
   "execution_count": null,
   "id": "31d987d5-b1b4-4c9f-8195-55e9665b6861",
   "metadata": {},
   "outputs": [],
   "source": []
  }
 ],
 "metadata": {
  "kernelspec": {
   "display_name": "Python 3 (ipykernel)",
   "language": "python",
   "name": "python3"
  },
  "language_info": {
   "codemirror_mode": {
    "name": "ipython",
    "version": 3
   },
   "file_extension": ".py",
   "mimetype": "text/x-python",
   "name": "python",
   "nbconvert_exporter": "python",
   "pygments_lexer": "ipython3",
   "version": "3.10.11"
  }
 },
 "nbformat": 4,
 "nbformat_minor": 5
}
