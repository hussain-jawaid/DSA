{
 "cells": [
  {
   "cell_type": "markdown",
   "id": "2818e66a-0e0c-4088-9931-d2e50c829730",
   "metadata": {},
   "source": [
    "# Sort an Array Using Merge Sort\n",
    "**Input: [7, 2, 9, 4, 1, 5]\n",
    "Task: Write a function using Merge Sort to sort the array in ascending order.**"
   ]
  },
  {
   "cell_type": "code",
   "execution_count": 9,
   "id": "bb1763d3-8326-4d74-b091-cf604594b8e9",
   "metadata": {},
   "outputs": [],
   "source": [
    "def merge(left, right):\n",
    "    i = j = 0\n",
    "    result = []\n",
    "    while i < len(left) and j < len(right):\n",
    "        if left[i] > right[j]:\n",
    "            result.append(right[j])\n",
    "            j += 1\n",
    "        else:\n",
    "            result.append(left[i])\n",
    "            i += 1\n",
    "    result.extend(left[i:])\n",
    "    result.extend(right[j:])\n",
    "\n",
    "    return result"
   ]
  },
  {
   "cell_type": "code",
   "execution_count": 10,
   "id": "5a59a71f-676b-4a04-8a9b-22f300a2df78",
   "metadata": {},
   "outputs": [],
   "source": [
    "def merge_sort(arr):\n",
    "    if len(arr) == 1:\n",
    "        return arr\n",
    "        \n",
    "    mid = len(arr)//2\n",
    "    left_half = merge_sort(arr[:mid])\n",
    "    right_half = merge_sort(arr[mid:])\n",
    "\n",
    "    return merge(left_half, right_half)"
   ]
  },
  {
   "cell_type": "code",
   "execution_count": 11,
   "id": "3fc82992-6989-4d5f-9302-0ce1dfb4f892",
   "metadata": {},
   "outputs": [
    {
     "data": {
      "text/plain": [
       "[1, 2, 4, 5, 7, 9]"
      ]
     },
     "execution_count": 11,
     "metadata": {},
     "output_type": "execute_result"
    }
   ],
   "source": [
    "arr = [7, 2, 9, 4, 1, 5]\n",
    "merge_sort(arr)"
   ]
  },
  {
   "cell_type": "markdown",
   "id": "6fb8870c-9f96-419a-8c43-e3be2514caee",
   "metadata": {},
   "source": [
    "# Count Inversions in an Array\n",
    "- An inversion is a pair of indices (i, j) such that i < j and arr[i] > arr[j].\n",
    "- Input: [2, 4, 1, 3, 5]\n",
    "- Task: Use a modified Merge Sort to count how many inversions are in the array.\n",
    "- Expected Output: 3 inversions: (2,1), (4,1), (4,3)"
   ]
  },
  {
   "cell_type": "code",
   "execution_count": 28,
   "id": "b7bac4f2-a98a-49cc-bfe7-3beceb823c1b",
   "metadata": {},
   "outputs": [],
   "source": [
    "def merge(left, right):\n",
    "    i = j = 0\n",
    "    result = []\n",
    "    inversion = 0\n",
    "\n",
    "    while i < len(left) and j < len(right):\n",
    "        if left[i] > right[j]:\n",
    "            result.append(right[j])\n",
    "            inversion += len(left) - i\n",
    "            j += 1\n",
    "        else:\n",
    "            result.append(left[i])\n",
    "            i += 1\n",
    "\n",
    "    result.extend(left[i:])\n",
    "    result.extend(right[j:])\n",
    "    return result, inversion"
   ]
  },
  {
   "cell_type": "code",
   "execution_count": 29,
   "id": "16f30c49-0b20-46e7-b8af-b0f0b7187d0c",
   "metadata": {},
   "outputs": [],
   "source": [
    "def merge_sort(arr):\n",
    "    if len(arr) <= 1:\n",
    "        return arr, 0  # Return the array itself and 0 inversions\n",
    "\n",
    "    mid = len(arr) // 2\n",
    "    left_half, inv_left = merge_sort(arr[:mid])\n",
    "    right_half, inv_right = merge_sort(arr[mid:])\n",
    "\n",
    "    merged, inv_merge = merge(left_half, right_half)\n",
    "\n",
    "    total_inversions = inv_left + inv_right + inv_merge\n",
    "    return merged, total_inversions"
   ]
  },
  {
   "cell_type": "code",
   "execution_count": 30,
   "id": "b920ffc0-f4b7-47dc-b434-f05ecb272db5",
   "metadata": {},
   "outputs": [],
   "source": [
    "arr = [2, 4, 1, 3, 5]\n",
    "sorted_arr, inv = merge_sort(arr)"
   ]
  },
  {
   "cell_type": "code",
   "execution_count": 31,
   "id": "ecace798-2db0-43b9-9470-522886148ea1",
   "metadata": {},
   "outputs": [
    {
     "data": {
      "text/plain": [
       "([1, 2, 3, 4, 5], 3)"
      ]
     },
     "execution_count": 31,
     "metadata": {},
     "output_type": "execute_result"
    }
   ],
   "source": [
    "sorted_arr, inv"
   ]
  },
  {
   "cell_type": "markdown",
   "id": "0a18786f-6e6e-4aee-8521-4f95e08ef77f",
   "metadata": {},
   "source": [
    "# Merge Two Sorted Arrays Using Merge Logic\n",
    "- Input: arr1 = [1, 3, 5], arr2 = [2, 4, 6]\n",
    "- Task: Merge them into a single sorted array using merge logic only (no .sort()).\n",
    "- Expected Output: [1, 2, 3, 4, 5, 6]"
   ]
  },
  {
   "cell_type": "code",
   "execution_count": 16,
   "id": "f050622c-b704-4d46-bc84-86b0fb54f5d1",
   "metadata": {},
   "outputs": [],
   "source": [
    "def merge(arr1, arr2):\n",
    "    i = j = 0\n",
    "    result = []\n",
    "    while i < len(arr1) and j < len(arr2):\n",
    "        if arr1[i] > arr2[j]:\n",
    "            result.append(arr2[j])\n",
    "            j += 1\n",
    "        else:\n",
    "            result.append(arr1[i])\n",
    "            i += 1\n",
    "    result.extend(arr1[i:])\n",
    "    result.extend(arr2[j:])\n",
    "\n",
    "    return result"
   ]
  },
  {
   "cell_type": "code",
   "execution_count": 18,
   "id": "bdf11433-d946-4c27-b1de-c68594fbcabf",
   "metadata": {},
   "outputs": [
    {
     "data": {
      "text/plain": [
       "[1, 2, 3, 4, 5, 6]"
      ]
     },
     "execution_count": 18,
     "metadata": {},
     "output_type": "execute_result"
    }
   ],
   "source": [
    "arr1 = [1, 3, 5]\n",
    "arr2 = [2, 4, 6]\n",
    "merge(arr1, arr2)"
   ]
  },
  {
   "cell_type": "markdown",
   "id": "b43a1141-42c3-4d2a-ab84-a72b1073fe24",
   "metadata": {},
   "source": [
    "# Count How Many Times the Merge Function Runs\n",
    "- Input: [4, 3, 2, 1]\n",
    "- Task: Modify your merge sort to count how many times the merge() function is called.\n",
    "- Expected Output: Should return a count (trace it manually or programmatically)."
   ]
  },
  {
   "cell_type": "code",
   "execution_count": 11,
   "id": "57d8ec41-17e8-4e36-91bb-c4c41f7f7af4",
   "metadata": {},
   "outputs": [],
   "source": [
    "def merge(left, right):\n",
    "    i = j = 0\n",
    "    result = []\n",
    "\n",
    "    while i < len(left) and j < len(right):\n",
    "        if left[i] > right[j]:\n",
    "            result.append(right[j])\n",
    "            j += 1\n",
    "        else:\n",
    "            result.append(left[i])\n",
    "            i += 1\n",
    "\n",
    "    result.extend(left[i:])\n",
    "    result.extend(right[j:])\n",
    "    return result"
   ]
  },
  {
   "cell_type": "code",
   "execution_count": 12,
   "id": "58b901d6-c2f2-423e-91c9-8d60a9b6e1dc",
   "metadata": {},
   "outputs": [],
   "source": [
    "def merge_sort(arr):\n",
    "    def _merge_sort(arr):\n",
    "        if len(arr) == 1:\n",
    "            return arr, 0\n",
    "            \n",
    "        mid = len(arr)//2\n",
    "        left_half, left_count = _merge_sort(arr[:mid])\n",
    "        right_half, right_count = _merge_sort(arr[mid:])\n",
    "        \n",
    "        merged = merge(left_half, right_half)\n",
    "        total_count = left_count + right_count + 1\n",
    "\n",
    "        return merged, total_count\n",
    "        \n",
    "    sorted_arr, merge_call_count = _merge_sort(arr)\n",
    "    return sorted_arr, merge_call_count"
   ]
  },
  {
   "cell_type": "code",
   "execution_count": 15,
   "id": "6b04a080-a912-48f5-a48c-972e80461dba",
   "metadata": {},
   "outputs": [],
   "source": [
    "arr = [10, 9, 8, 7, 5, 6, 4, 3, 2, 1]\n",
    "sorted_arr, merge_call_count = merge_sort(arr)"
   ]
  },
  {
   "cell_type": "code",
   "execution_count": 16,
   "id": "5ad7ff7a-01e5-4d77-b8af-c13c794b0a5a",
   "metadata": {},
   "outputs": [
    {
     "data": {
      "text/plain": [
       "([1, 2, 3, 4, 5, 6, 7, 8, 9, 10], 9)"
      ]
     },
     "execution_count": 16,
     "metadata": {},
     "output_type": "execute_result"
    }
   ],
   "source": [
    "sorted_arr, merge_call_count"
   ]
  },
  {
   "cell_type": "markdown",
   "id": "0a99eada-e39c-491c-9181-9decc0cfb6b6",
   "metadata": {},
   "source": [
    "# Stable Merge Sort with Tuples\n",
    "- Input: [('banana', 3), ('apple', 2), ('banana', 2), ('apple', 3)]\n",
    "- Task: Sort this list using Merge Sort, based on the first element in the tuple.\n",
    "- Requirement: Your merge sort must be stable (maintain the relative order for duplicates)."
   ]
  },
  {
   "cell_type": "code",
   "execution_count": 18,
   "id": "d27ed421-90e6-48ba-8504-e1a403dffb7a",
   "metadata": {},
   "outputs": [],
   "source": [
    "def merge(left, right):\n",
    "    i = j = 0\n",
    "    result = []\n",
    "\n",
    "    while i < len(left) and j < len(right):\n",
    "        if left[i][0] > right[j][0]:\n",
    "            result.append(right[j])\n",
    "            j += 1\n",
    "        else:\n",
    "            result.append(left[i])\n",
    "            i += 1\n",
    "\n",
    "    result.extend(left[i:])\n",
    "    result.extend(right[j:])\n",
    "    return result"
   ]
  },
  {
   "cell_type": "code",
   "execution_count": 19,
   "id": "bc1d3387-2a4f-4c9a-9c86-6040404ddd05",
   "metadata": {},
   "outputs": [],
   "source": [
    "def merge_sort(arr):\n",
    "    if len(arr) == 1:\n",
    "        return arr\n",
    "        \n",
    "    mid = len(arr)//2\n",
    "    left_half = merge_sort(arr[:mid])\n",
    "    right_half = merge_sort(arr[mid:])\n",
    "\n",
    "    return merge(left_half, right_half)"
   ]
  },
  {
   "cell_type": "code",
   "execution_count": 21,
   "id": "cf6b9640-3cd9-4ef3-8017-e0f314b0a3c4",
   "metadata": {},
   "outputs": [
    {
     "data": {
      "text/plain": [
       "[('apple', 2), ('apple', 3), ('banana', 3), ('banana', 2)]"
      ]
     },
     "execution_count": 21,
     "metadata": {},
     "output_type": "execute_result"
    }
   ],
   "source": [
    "arr = [('banana', 3), ('apple', 2), ('banana', 2), ('apple', 3)]\n",
    "merge_sort(arr)"
   ]
  },
  {
   "cell_type": "code",
   "execution_count": null,
   "id": "f4a275e1-b2c6-48cc-ba03-e236f8a07f6b",
   "metadata": {},
   "outputs": [],
   "source": []
  }
 ],
 "metadata": {
  "kernelspec": {
   "display_name": "Python 3 (ipykernel)",
   "language": "python",
   "name": "python3"
  },
  "language_info": {
   "codemirror_mode": {
    "name": "ipython",
    "version": 3
   },
   "file_extension": ".py",
   "mimetype": "text/x-python",
   "name": "python",
   "nbconvert_exporter": "python",
   "pygments_lexer": "ipython3",
   "version": "3.10.11"
  }
 },
 "nbformat": 4,
 "nbformat_minor": 5
}
