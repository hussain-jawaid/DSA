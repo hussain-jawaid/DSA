{
 "cells": [
  {
   "cell_type": "markdown",
   "id": "d0ecfceb-c3d7-496a-ad46-6d0bc89f242a",
   "metadata": {},
   "source": [
    "# Basic Bubble Sort Implementation\n",
    "**Write a function that sorts an array using the Bubble Sort algorithm.\n",
    "Input: [5, 2, 9, 1, 5, 6]**"
   ]
  },
  {
   "cell_type": "code",
   "execution_count": 10,
   "id": "477e2aeb-e250-407d-ba52-89458f3b7d71",
   "metadata": {},
   "outputs": [],
   "source": [
    "def bubble_sort(arr):\n",
    "    n = len(arr)\n",
    "    for i in range(n):\n",
    "        flag = 0\n",
    "        for j in range(n-1-i):\n",
    "            if arr[j] > arr[j+1]:\n",
    "                arr[j], arr[j+1] = arr[j+1], arr[j]\n",
    "                falg = 1\n",
    "        if flag == 0:\n",
    "            break\n",
    "    return arr"
   ]
  },
  {
   "cell_type": "code",
   "execution_count": 11,
   "id": "74903fec-d19d-4758-8a09-76005de38afc",
   "metadata": {},
   "outputs": [],
   "source": [
    "arr = [5, 2, 9, 1, 5, 6]\n",
    "arr = [1, 2, 4, 5]"
   ]
  },
  {
   "cell_type": "code",
   "execution_count": 12,
   "id": "2ea8b1e0-9cd7-4e3e-9fc6-a5efccd2c5e6",
   "metadata": {},
   "outputs": [
    {
     "data": {
      "text/plain": [
       "[1, 2, 4, 5]"
      ]
     },
     "execution_count": 12,
     "metadata": {},
     "output_type": "execute_result"
    }
   ],
   "source": [
    "bubble_sort(arr)"
   ]
  },
  {
   "cell_type": "markdown",
   "id": "33d800da-3342-4ffc-85fa-fe96147bf06b",
   "metadata": {},
   "source": [
    "# Adaptive Test"
   ]
  },
  {
   "cell_type": "code",
   "execution_count": 13,
   "id": "3ffa2ff0-b18f-4c4a-8d04-1509961ac6e4",
   "metadata": {},
   "outputs": [],
   "source": [
    "import time, random"
   ]
  },
  {
   "cell_type": "code",
   "execution_count": 14,
   "id": "ca209128-96e1-4b9f-9e80-128d5fe457df",
   "metadata": {},
   "outputs": [],
   "source": [
    "L = []\n",
    "for _ in range(10000):\n",
    "    L.append(random.randint(1, 10000))"
   ]
  },
  {
   "cell_type": "code",
   "execution_count": 15,
   "id": "dda4fda2-eab2-4756-b19d-6ee436666bb9",
   "metadata": {},
   "outputs": [
    {
     "data": {
      "text/plain": [
       "10000"
      ]
     },
     "execution_count": 15,
     "metadata": {},
     "output_type": "execute_result"
    }
   ],
   "source": [
    "len(L)"
   ]
  },
  {
   "cell_type": "code",
   "execution_count": 16,
   "id": "6a08319b-e65a-400e-9e7b-cf24bd323771",
   "metadata": {},
   "outputs": [
    {
     "data": {
      "text/plain": [
       "[8472, 2556, 2702, 4550, 1603, 190, 8971, 8637, 3613, 9555]"
      ]
     },
     "execution_count": 16,
     "metadata": {},
     "output_type": "execute_result"
    }
   ],
   "source": [
    "L[:10]"
   ]
  },
  {
   "cell_type": "code",
   "execution_count": 17,
   "id": "fe90812e-e238-4990-898a-ddfdb965e7d8",
   "metadata": {},
   "outputs": [],
   "source": [
    "def bubble_sort(arr):\n",
    "    n = len(arr)\n",
    "    for i in range(n):\n",
    "        for j in range(n-1-i):\n",
    "            if arr[j] > arr[j+1]:\n",
    "                arr[j], arr[j+1] = arr[j+1], arr[j]\n",
    "    return arr"
   ]
  },
  {
   "cell_type": "code",
   "execution_count": 18,
   "id": "3583b8d3-e01f-4f78-8149-6b06f52f14ff",
   "metadata": {},
   "outputs": [
    {
     "name": "stdout",
     "output_type": "stream",
     "text": [
      "Time Taken 10.928804397583008\n"
     ]
    }
   ],
   "source": [
    "start = time.time()\n",
    "bubble_sort(L)\n",
    "print(\"Time Taken\", time.time() - start)"
   ]
  },
  {
   "cell_type": "code",
   "execution_count": 19,
   "id": "a14f000f-b9a4-471b-aff0-82eac7f7b9f4",
   "metadata": {},
   "outputs": [
    {
     "name": "stdout",
     "output_type": "stream",
     "text": [
      "Time Taken 6.525244235992432\n"
     ]
    }
   ],
   "source": [
    "start = time.time()\n",
    "bubble_sort(L)\n",
    "print(\"Time Taken\", time.time() - start)"
   ]
  },
  {
   "cell_type": "code",
   "execution_count": 20,
   "id": "c179246c-53c0-479a-8486-fd8727f252ba",
   "metadata": {},
   "outputs": [],
   "source": [
    "R = []\n",
    "for _ in range(10000):\n",
    "    R.append(random.randint(1, 10000))"
   ]
  },
  {
   "cell_type": "code",
   "execution_count": 21,
   "id": "2346e67b-3f96-4493-888a-0f7077ce26b3",
   "metadata": {},
   "outputs": [],
   "source": [
    "def bubble_sort(arr):\n",
    "    n = len(arr)\n",
    "    for i in range(n):\n",
    "        flag = 0\n",
    "        for j in range(n-1-i):\n",
    "            if arr[j] > arr[j+1]:\n",
    "                arr[j], arr[j+1] = arr[j+1], arr[j]\n",
    "                flag = 1\n",
    "        if flag == 0:\n",
    "            break\n",
    "    return arr"
   ]
  },
  {
   "cell_type": "code",
   "execution_count": 22,
   "id": "203bbc93-1ea3-43c0-9ab9-22710556ee16",
   "metadata": {},
   "outputs": [
    {
     "name": "stdout",
     "output_type": "stream",
     "text": [
      "Time Taken 13.738025903701782\n"
     ]
    }
   ],
   "source": [
    "start = time.time()\n",
    "bubble_sort(R)\n",
    "print(\"Time Taken\", time.time() - start)"
   ]
  },
  {
   "cell_type": "code",
   "execution_count": 23,
   "id": "43603cae-556f-4f43-9286-4f24a0fe3c33",
   "metadata": {},
   "outputs": [
    {
     "name": "stdout",
     "output_type": "stream",
     "text": [
      "Time Taken 0.003998517990112305\n"
     ]
    }
   ],
   "source": [
    "start = time.time()\n",
    "bubble_sort(R)\n",
    "print(\"Time Taken\", time.time() - start)"
   ]
  },
  {
   "cell_type": "markdown",
   "id": "dab1dc50-b931-43c6-92d2-8b6742bb27e7",
   "metadata": {},
   "source": [
    "# Count the Number of Swaps\n",
    "**Modify the Bubble Sort algorithm to return the number of swaps made to sort the array.\n",
    "Input: [3, 2, 1]**"
   ]
  },
  {
   "cell_type": "code",
   "execution_count": 42,
   "id": "6247d8d1-9b12-430e-b550-d3a86a9393b6",
   "metadata": {},
   "outputs": [],
   "source": [
    "def bubble_sort(arr):\n",
    "    n = len(arr)\n",
    "    swaps = 0\n",
    "    for i in range(n):\n",
    "        for j in range(n-1-i):\n",
    "            if arr[j] > arr[j+1]:\n",
    "                arr[j], arr[j+1] = arr[j+1], arr[j]\n",
    "                swaps += 1\n",
    "    return arr, swaps"
   ]
  },
  {
   "cell_type": "code",
   "execution_count": 43,
   "id": "e870d0fa-fe3e-4639-9664-b7fdb4e6506d",
   "metadata": {},
   "outputs": [],
   "source": [
    "arr = [3, 2, 1]\n",
    "sorted_arr, swaps = bubble_sort(arr)"
   ]
  },
  {
   "cell_type": "code",
   "execution_count": 44,
   "id": "23d3b029-74d8-410e-b2df-cc194e64cc29",
   "metadata": {},
   "outputs": [
    {
     "name": "stdout",
     "output_type": "stream",
     "text": [
      "[1, 2, 3] take 3 swaps!\n"
     ]
    }
   ],
   "source": [
    "print(f\"{sorted_arr} take {swaps} swaps!\")"
   ]
  },
  {
   "cell_type": "code",
   "execution_count": 45,
   "id": "26c80446-b159-4e4f-b36c-7961b30f4484",
   "metadata": {},
   "outputs": [],
   "source": [
    "sorted_arr, swaps = bubble_sort(arr)"
   ]
  },
  {
   "cell_type": "code",
   "execution_count": 46,
   "id": "79fbb5e1-6bb5-4dba-843b-249950c59cb8",
   "metadata": {},
   "outputs": [
    {
     "data": {
      "text/plain": [
       "0"
      ]
     },
     "execution_count": 46,
     "metadata": {},
     "output_type": "execute_result"
    }
   ],
   "source": [
    "swaps"
   ]
  },
  {
   "cell_type": "markdown",
   "id": "a9bc7a75-5cf2-4d10-aec3-8883c4cce23d",
   "metadata": {},
   "source": [
    "# Optimized Bubble Sort\n",
    "**Implement an optimized version of Bubble Sort that stops early if the array is already sorted.\n",
    "Input: [1, 2, 3, 4, 5]**"
   ]
  },
  {
   "cell_type": "code",
   "execution_count": 47,
   "id": "dee1773c-1380-4342-bfba-a931fa4dfc52",
   "metadata": {},
   "outputs": [],
   "source": [
    "def bubble_sort(arr):\n",
    "    n = len(arr)\n",
    "    for i in range(n):\n",
    "        flag = 0\n",
    "        for j in range(n-1-i):\n",
    "            if arr[j] > arr[j+1]:\n",
    "                arr[j], arr[j+1] = arr[j+1], arr[j]\n",
    "                flag = 1\n",
    "        if flag == 0:\n",
    "            break\n",
    "    return arr"
   ]
  },
  {
   "cell_type": "code",
   "execution_count": 48,
   "id": "eb5de62a-78e3-4cd2-9f98-8ad842e1c65f",
   "metadata": {},
   "outputs": [
    {
     "name": "stdout",
     "output_type": "stream",
     "text": [
      "Time Taken 12.604560375213623\n"
     ]
    }
   ],
   "source": [
    "import time, random\n",
    "\n",
    "L = []\n",
    "for _ in range(10000):\n",
    "    L.append(random.randint(1, 10000))\n",
    "    \n",
    "start = time.time()\n",
    "bubble_sort(L)\n",
    "print(\"Time Taken\", time.time() - start)"
   ]
  },
  {
   "cell_type": "code",
   "execution_count": 49,
   "id": "d654502a-5084-4ff1-8ae3-fbf7197c206d",
   "metadata": {},
   "outputs": [
    {
     "name": "stdout",
     "output_type": "stream",
     "text": [
      "Time Taken 0.003996372222900391\n"
     ]
    }
   ],
   "source": [
    "start = time.time()\n",
    "bubble_sort(L)\n",
    "print(\"Time Taken\", time.time() - start)"
   ]
  },
  {
   "cell_type": "markdown",
   "id": "24baf00b-0fc1-44a0-ba3e-88240469ca83",
   "metadata": {},
   "source": [
    "# Sort in Descending Order\n",
    "**Modify Bubble Sort to sort the array in descending order.\n",
    "Input: [4, 1, 3, 2]**"
   ]
  },
  {
   "cell_type": "code",
   "execution_count": 50,
   "id": "d332d883-7f7b-45a5-9ad5-da7e5d89fc3d",
   "metadata": {},
   "outputs": [],
   "source": [
    "def bubble_sort(arr):\n",
    "    n = len(arr)\n",
    "    for i in range(n):\n",
    "        flag = 0\n",
    "        for j in range(n-1-i):\n",
    "            if arr[j] < arr[j+1]:\n",
    "                arr[j], arr[j+1] = arr[j+1], arr[j]\n",
    "                flag = 1\n",
    "        if flag == 0:\n",
    "            break\n",
    "    return arr"
   ]
  },
  {
   "cell_type": "code",
   "execution_count": 55,
   "id": "52a64cfd-95a4-4fe9-a3f4-34b23384d76f",
   "metadata": {},
   "outputs": [
    {
     "data": {
      "text/plain": [
       "[9, 8, 7, 6, 5, 4, 3, 2, 1, 0]"
      ]
     },
     "execution_count": 55,
     "metadata": {},
     "output_type": "execute_result"
    }
   ],
   "source": [
    "arr = []\n",
    "for i in range(10):\n",
    "    arr.append(i)\n",
    "bubble_sort(arr)"
   ]
  },
  {
   "cell_type": "markdown",
   "id": "690d6b0a-7146-4dcf-8401-29e1a0630906",
   "metadata": {},
   "source": [
    "# Is Array Already Sorted?\n",
    "**Use Bubble Sort logic to check if the array is already sorted in ascending order, without fully sorting it.\n",
    "Input: [1, 2, 3, 4, 5]**"
   ]
  },
  {
   "cell_type": "code",
   "execution_count": 66,
   "id": "be125fc9-a9d3-43e2-9c23-b36c45bf9cd0",
   "metadata": {},
   "outputs": [],
   "source": [
    "def bubble_sort(arr):\n",
    "    n = len(arr)\n",
    "    alr_sorted = True\n",
    "    for i in range(n):\n",
    "        flag = 0\n",
    "        for j in range(n-1-i):\n",
    "            if arr[j] > arr[j+1]:\n",
    "                arr[j], arr[j+1] = arr[j+1], arr[j]\n",
    "                flag = 1\n",
    "                alr_sorted = False\n",
    "        if flag == 0:\n",
    "            break\n",
    "    if alr_sorted: return True\n",
    "    return False"
   ]
  },
  {
   "cell_type": "code",
   "execution_count": 67,
   "id": "05bd8dbc-1c68-44e7-8a58-9719a711db55",
   "metadata": {},
   "outputs": [
    {
     "data": {
      "text/plain": [
       "True"
      ]
     },
     "execution_count": 67,
     "metadata": {},
     "output_type": "execute_result"
    }
   ],
   "source": [
    "arr = [1, 2, 3, 4, 5]\n",
    "bubble_sort(arr)"
   ]
  },
  {
   "cell_type": "markdown",
   "id": "afb6361d-96c6-427d-ac64-20d929b1f808",
   "metadata": {},
   "source": [
    "# Time Taken With A Million Items"
   ]
  },
  {
   "cell_type": "code",
   "execution_count": 1,
   "id": "e3305184-b548-4aee-af69-ec0b2af226e6",
   "metadata": {},
   "outputs": [],
   "source": [
    "def bubble_sort(arr):\n",
    "    n = len(arr)\n",
    "    for i in range(n):\n",
    "        flag = 0\n",
    "        for j in range(n-1-i):\n",
    "            if arr[j] > arr[j+1]:\n",
    "                arr[j], arr[j+1] = arr[j+1], arr[j]\n",
    "                flag = 1\n",
    "        if flag == 0:\n",
    "            break\n",
    "    return arr[:10]"
   ]
  },
  {
   "cell_type": "code",
   "execution_count": 2,
   "id": "89c3884c-716c-479b-ad4f-3a607881a8ab",
   "metadata": {},
   "outputs": [],
   "source": [
    "import time, random"
   ]
  },
  {
   "cell_type": "code",
   "execution_count": 3,
   "id": "5b803917-e22b-4ea5-a92e-40f06a16926c",
   "metadata": {},
   "outputs": [],
   "source": [
    "L = []\n",
    "for i in range(100000):\n",
    "    L.append(random.randint(1, 100000))"
   ]
  },
  {
   "cell_type": "code",
   "execution_count": 4,
   "id": "1f0ff36f-2614-4735-84fe-9840db484c16",
   "metadata": {},
   "outputs": [
    {
     "name": "stdout",
     "output_type": "stream",
     "text": [
      "Time Taken 1295.6097738742828\n"
     ]
    }
   ],
   "source": [
    "start = time.time()\n",
    "bubble_sort(L)\n",
    "print(\"Time Taken\", time.time()-start)"
   ]
  },
  {
   "cell_type": "code",
   "execution_count": null,
   "id": "613003c1-160d-4465-aa52-9f88bab17fcc",
   "metadata": {},
   "outputs": [],
   "source": []
  }
 ],
 "metadata": {
  "kernelspec": {
   "display_name": "Python 3 (ipykernel)",
   "language": "python",
   "name": "python3"
  },
  "language_info": {
   "codemirror_mode": {
    "name": "ipython",
    "version": 3
   },
   "file_extension": ".py",
   "mimetype": "text/x-python",
   "name": "python",
   "nbconvert_exporter": "python",
   "pygments_lexer": "ipython3",
   "version": "3.10.11"
  }
 },
 "nbformat": 4,
 "nbformat_minor": 5
}
