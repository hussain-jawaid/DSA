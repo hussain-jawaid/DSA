{
 "cells": [
  {
   "cell_type": "code",
   "execution_count": 1,
   "id": "ca7d1f9c-25f7-46c1-a381-e49453699543",
   "metadata": {},
   "outputs": [],
   "source": [
    "class Node:\n",
    "    def __init__(self, data=None, next=None, prev=None):\n",
    "        self.data = data\n",
    "        self.next = next\n",
    "        self.prev = prev"
   ]
  },
  {
   "cell_type": "code",
   "execution_count": 2,
   "id": "5da98a0b-2113-47ce-a987-dabb72aed301",
   "metadata": {},
   "outputs": [],
   "source": [
    "a = Node(1)\n",
    "b = Node(2)\n",
    "c = Node(3)"
   ]
  },
  {
   "cell_type": "code",
   "execution_count": 3,
   "id": "f5544622-83e8-4182-b00c-121138ff22c5",
   "metadata": {},
   "outputs": [
    {
     "data": {
      "text/plain": [
       "2615828288736"
      ]
     },
     "execution_count": 3,
     "metadata": {},
     "output_type": "execute_result"
    }
   ],
   "source": [
    "id(c)"
   ]
  },
  {
   "cell_type": "code",
   "execution_count": 4,
   "id": "fdc2bcf2-0885-4f36-a7bb-684fa1d119df",
   "metadata": {},
   "outputs": [],
   "source": [
    "a.prev = None\n",
    "a.next = b\n",
    "b.prev = a\n",
    "b.next = c\n",
    "c.prev = b\n",
    "c.next = None"
   ]
  },
  {
   "cell_type": "code",
   "execution_count": 5,
   "id": "269fb222-8ba7-4174-b0f6-abfa3c5ae52f",
   "metadata": {},
   "outputs": [
    {
     "name": "stdout",
     "output_type": "stream",
     "text": [
      "<__main__.Node object at 0x000002610B841C00>\n",
      "None\n"
     ]
    }
   ],
   "source": [
    "print(c.prev)\n",
    "print(c.next)"
   ]
  },
  {
   "cell_type": "code",
   "execution_count": 6,
   "id": "1c327ca8-f689-41ca-9229-61e7d7ddd69c",
   "metadata": {},
   "outputs": [
    {
     "data": {
      "text/plain": [
       "2324942890384"
      ]
     },
     "execution_count": 6,
     "metadata": {},
     "output_type": "execute_result"
    }
   ],
   "source": [
    "int(0x0000021D51652590)"
   ]
  },
  {
   "cell_type": "code",
   "execution_count": 15,
   "id": "575a8fa7-2ee5-4ede-91cb-6051dbeb45e9",
   "metadata": {},
   "outputs": [],
   "source": [
    "class Node:\n",
    "    def __init__(self, data=None, next=None, prev=None):\n",
    "        self.data = data\n",
    "        self.next = next\n",
    "        self.prev = prev"
   ]
  },
  {
   "cell_type": "code",
   "execution_count": 82,
   "id": "118545fb-3c9a-4b81-98dc-9b00168e98c9",
   "metadata": {},
   "outputs": [],
   "source": [
    "class LinkedList:\n",
    "    def __init__(self):\n",
    "        self.head = None\n",
    "        self.n = 0\n",
    "\n",
    "    def __len__(self):\n",
    "        return self.n\n",
    "\n",
    "    def print_forward(self):\n",
    "        curr = self.head\n",
    "        result = ''\n",
    "        while curr:\n",
    "            result = f\"{result}{curr.data} --> \"\n",
    "            curr = curr.next\n",
    "        return result[:-5]\n",
    "\n",
    "    def print_backward(self):\n",
    "        curr = self.head\n",
    "        result = ''\n",
    "        tail = None\n",
    "        while curr:\n",
    "            tail = curr\n",
    "            curr = curr.next\n",
    "        while tail:\n",
    "            result = f\"{result} <-- {tail.data}\"\n",
    "            tail = tail.prev\n",
    "        return result\n",
    "\n",
    "    def prepend(self, data):\n",
    "        curr = self.head\n",
    "        new_node = Node(data)\n",
    "\n",
    "        if not curr:\n",
    "            self.head = new_node\n",
    "        else:\n",
    "            new_node.next = curr\n",
    "            curr.prev = new_node\n",
    "            self.head = new_node\n",
    "        self.n += 1\n",
    "\n",
    "    def append(self, data):\n",
    "        curr = self.head\n",
    "        new_node = Node(data)\n",
    "\n",
    "        if not curr:\n",
    "            self.head = new_node\n",
    "        else:\n",
    "            while curr:\n",
    "                if curr.next == None:\n",
    "                    curr.next = new_node\n",
    "                    new_node.prev = curr\n",
    "                    self.n += 1\n",
    "                    return\n",
    "                curr = curr.next\n",
    "        self.n += 1\n",
    "        return\n",
    "\n",
    "    def insert_after(self, after, data):\n",
    "        curr = self.head\n",
    "        new_node = Node(data)\n",
    "\n",
    "        if not curr:\n",
    "            self.head = new_node\n",
    "            self.n += 1\n",
    "            return\n",
    "        \n",
    "        while curr:\n",
    "            if curr.data == after:\n",
    "                new_node.prev = curr\n",
    "                new_node.next = curr.next\n",
    "                if curr.next:\n",
    "                    curr.next.prev = new_node\n",
    "                    curr.next = new_node\n",
    "                else:\n",
    "                    curr.next = new_node\n",
    "                self.n += 1\n",
    "                return                \n",
    "            curr = curr.next\n",
    "    \n",
    "    def remove_first(self):\n",
    "        curr = self.head\n",
    "        if not curr:\n",
    "            raise Exception('Linked List is empty')\n",
    "\n",
    "        if curr.next == None:\n",
    "            self.head = None\n",
    "        else:\n",
    "            curr.next.prev = None\n",
    "            self.head = curr.next\n",
    "        self.n -= 1\n",
    "\n",
    "    def remove_last(self):\n",
    "        curr = self.head\n",
    "        if not curr:\n",
    "            raise Exception('Linked List is empty')\n",
    "\n",
    "        if curr.next == None:\n",
    "            self.head = None\n",
    "            self.n -= 1\n",
    "            return\n",
    "        while curr:\n",
    "            if curr.next == None:\n",
    "                curr.prev.next = None\n",
    "                self.n -= 1\n",
    "                return\n",
    "            curr = curr.next  \n",
    "\n",
    "    def remove(self, value):\n",
    "        curr = self.head\n",
    "        if not curr:\n",
    "            raise Exception(\"Linked List is empty\")\n",
    "\n",
    "        # value is at head\n",
    "        if curr.data == value:\n",
    "            self.remove_first()\n",
    "            return\n",
    "\n",
    "        # value is in the rest of the list\n",
    "        while curr.next:\n",
    "            if curr.next.data == value:\n",
    "                if curr.next.next is None:\n",
    "                    self.remove_last()\n",
    "                else:\n",
    "                    curr.next.next.prev = curr\n",
    "                    curr.next = curr.next.next\n",
    "                    self.n -= 1\n",
    "                return\n",
    "            curr = curr.next\n",
    "        # value not found\n",
    "        raise ValueError(f\"Value {value} not found in the list.\")"
   ]
  },
  {
   "cell_type": "code",
   "execution_count": 67,
   "id": "487c07ff-49c9-4f19-9e75-3f4b9ada70d7",
   "metadata": {},
   "outputs": [],
   "source": [
    "ll = LinkedList()"
   ]
  },
  {
   "cell_type": "code",
   "execution_count": 68,
   "id": "358d3c23-33c8-4530-9593-fe374926c331",
   "metadata": {},
   "outputs": [
    {
     "data": {
      "text/plain": [
       "0"
      ]
     },
     "execution_count": 68,
     "metadata": {},
     "output_type": "execute_result"
    }
   ],
   "source": [
    "len(ll)"
   ]
  },
  {
   "cell_type": "code",
   "execution_count": 78,
   "id": "d6e6f270-5b98-4dee-87b4-2ab0a02d8009",
   "metadata": {},
   "outputs": [],
   "source": [
    "ll.prepend(1)\n",
    "ll.prepend(2)\n",
    "ll.prepend(3)"
   ]
  },
  {
   "cell_type": "code",
   "execution_count": 81,
   "id": "dc8cdd5d-4f1a-442a-af0f-50c02c9f4f60",
   "metadata": {},
   "outputs": [
    {
     "name": "stdout",
     "output_type": "stream",
     "text": [
      "3 --> 1\n"
     ]
    }
   ],
   "source": [
    "print(ll.print_forward())"
   ]
  },
  {
   "cell_type": "code",
   "execution_count": 80,
   "id": "84ddf899-d3a9-44eb-9ce0-9ef19230c046",
   "metadata": {},
   "outputs": [],
   "source": [
    "ll.remove(2)"
   ]
  },
  {
   "cell_type": "code",
   "execution_count": 85,
   "id": "9d5e8277-aa23-4eaf-b4ed-1d8b08f66474",
   "metadata": {},
   "outputs": [],
   "source": [
    "ll.remove_last()"
   ]
  },
  {
   "cell_type": "code",
   "execution_count": 51,
   "id": "20fa263c-23b6-4470-be27-dec4ef7fb7f2",
   "metadata": {},
   "outputs": [],
   "source": [
    "ll.remove_first()"
   ]
  },
  {
   "cell_type": "code",
   "execution_count": 52,
   "id": "ebfc4775-d12a-4e2a-8c57-9a240c5a7352",
   "metadata": {},
   "outputs": [
    {
     "name": "stdout",
     "output_type": "stream",
     "text": [
      " <-- 1 <-- 2\n"
     ]
    }
   ],
   "source": [
    "print(ll.print_backward())"
   ]
  },
  {
   "cell_type": "code",
   "execution_count": 19,
   "id": "6c6bf673-79bd-4b0f-98a2-b0f80a8d0812",
   "metadata": {},
   "outputs": [],
   "source": [
    "ll.append(4)"
   ]
  },
  {
   "cell_type": "code",
   "execution_count": 21,
   "id": "57a837f7-a056-4cbe-a3ca-e3061145f418",
   "metadata": {},
   "outputs": [],
   "source": [
    "ll.insert_after(4, 5)"
   ]
  },
  {
   "cell_type": "code",
   "execution_count": null,
   "id": "8f5b9838-ddb5-4911-84f8-9263d3318881",
   "metadata": {},
   "outputs": [],
   "source": []
  }
 ],
 "metadata": {
  "kernelspec": {
   "display_name": "Python 3 (ipykernel)",
   "language": "python",
   "name": "python3"
  },
  "language_info": {
   "codemirror_mode": {
    "name": "ipython",
    "version": 3
   },
   "file_extension": ".py",
   "mimetype": "text/x-python",
   "name": "python",
   "nbconvert_exporter": "python",
   "pygments_lexer": "ipython3",
   "version": "3.10.11"
  }
 },
 "nbformat": 4,
 "nbformat_minor": 5
}
