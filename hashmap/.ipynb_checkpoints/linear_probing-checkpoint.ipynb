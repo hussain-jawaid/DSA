{
 "cells": [
  {
   "cell_type": "code",
   "execution_count": 184,
   "id": "1ce626ab-4a05-44dc-8541-d97e9434044a",
   "metadata": {},
   "outputs": [],
   "source": [
    "class HashTable:\n",
    "    def __init__(self, size):\n",
    "        self.MAX = size\n",
    "        self.arr = [None] * self.MAX\n",
    "        self.count = 0\n",
    "\n",
    "    def get_hash(self, key):\n",
    "        return abs(hash(key))%self.MAX\n",
    "        \n",
    "    def __setitem__(self, key, value):\n",
    "        h = self.get_hash(key)\n",
    "        if self.count >= self.MAX * 0.7: # Resize when 70% full\n",
    "            self.__resize()\n",
    "        for i in range(self.MAX):\n",
    "            idx = (h + i) % self.MAX\n",
    "            if self.arr[idx] is None or self.arr[idx][0] == key:\n",
    "                if self.arr[idx] is None:\n",
    "                    self.count += 1\n",
    "                self.arr[idx] = (key, value)\n",
    "                return\n",
    "                \n",
    "    def __getitem__(self, key):\n",
    "        h = self.get_hash(key)\n",
    "        for i in range(self.MAX):\n",
    "            idx = (h + i) % self.MAX\n",
    "            if self.arr[idx] is None:\n",
    "                continue\n",
    "            if self.arr[idx][0] == key:\n",
    "                return self.arr[idx][1]\n",
    "        raise KeyError(f\"{key} not found\")\n",
    "\n",
    "    def __delitem__(self, key):\n",
    "        h = self.get_hash(key)\n",
    "        for i in range(self.MAX):\n",
    "            idx = (h + i) % self.MAX\n",
    "            if self.arr[idx] is None:\n",
    "                continue\n",
    "            if self.arr[idx][0] == key:\n",
    "                self.arr[idx] = None\n",
    "                self.count -= 1\n",
    "                return\n",
    "        raise KeyError(f\"{key} not found\")\n",
    "\n",
    "    def __len__(self):\n",
    "        return self.count\n",
    "        \n",
    "    def __resize(self):\n",
    "        old_arr = self.arr\n",
    "        self.MAX *= 2\n",
    "        self.arr = [None] * self.MAX \n",
    "        self.count = 0 # Reset count because we'll reinsert\n",
    "        for item in old_arr:\n",
    "            if item is not None:\n",
    "                key, val = item\n",
    "                self.__setitem__(key, val) # Rehash each item\n",
    "\n",
    "    def __str__(self):\n",
    "        result = ''\n",
    "        for kv in self.arr:\n",
    "            if kv is None:\n",
    "                continue\n",
    "            result = f\"{result}{kv[0]} : {kv[1]}, \"\n",
    "        return f\"{{ {result[:-2]} }}\""
   ]
  },
  {
   "cell_type": "code",
   "execution_count": 185,
   "id": "7911fd8a-0205-412f-bae1-c154245ad5e0",
   "metadata": {},
   "outputs": [],
   "source": [
    "ht = HashTable(5)"
   ]
  },
  {
   "cell_type": "code",
   "execution_count": 186,
   "id": "b18197f3-dc43-47eb-8e8a-81f67ae5c0d3",
   "metadata": {},
   "outputs": [
    {
     "data": {
      "text/plain": [
       "[None, None, None, None, None]"
      ]
     },
     "execution_count": 186,
     "metadata": {},
     "output_type": "execute_result"
    }
   ],
   "source": [
    "ht.arr"
   ]
  },
  {
   "cell_type": "code",
   "execution_count": 191,
   "id": "c59537fb-c279-43ec-bba7-dadb9ce7b3fb",
   "metadata": {},
   "outputs": [
    {
     "name": "stdout",
     "output_type": "stream",
     "text": [
      "{ march 21 : 100, march 1 : 200, march 17 : 100, march 5 : 200, march 6 : 100 }\n"
     ]
    }
   ],
   "source": [
    "print(ht)"
   ]
  },
  {
   "cell_type": "code",
   "execution_count": 188,
   "id": "6b97ce3c-05ca-4441-9954-4c88c3368e8d",
   "metadata": {},
   "outputs": [],
   "source": [
    "ht['march 1'] = 100\n",
    "ht['march 5'] = 100\n",
    "ht['march 6'] = 100\n",
    "ht['march 17'] = 100\n",
    "ht['march 21'] = 100"
   ]
  },
  {
   "cell_type": "code",
   "execution_count": 190,
   "id": "3b00a2e6-42f1-45ea-b90e-176fc6ccd274",
   "metadata": {},
   "outputs": [],
   "source": [
    "ht['march 1'] = 200\n",
    "ht['march 5'] = 200"
   ]
  },
  {
   "cell_type": "code",
   "execution_count": 158,
   "id": "638da74c-726f-4a43-be33-a3b82e1aba57",
   "metadata": {},
   "outputs": [
    {
     "data": {
      "text/plain": [
       "7"
      ]
     },
     "execution_count": 158,
     "metadata": {},
     "output_type": "execute_result"
    }
   ],
   "source": [
    "len(ht)"
   ]
  },
  {
   "cell_type": "code",
   "execution_count": 164,
   "id": "71c73694-49b0-4ad3-8163-169d5f34f5ff",
   "metadata": {},
   "outputs": [],
   "source": [
    "del ht['march 2']"
   ]
  },
  {
   "cell_type": "code",
   "execution_count": null,
   "id": "271be397-6058-4dca-9fdb-947778892e51",
   "metadata": {},
   "outputs": [],
   "source": []
  }
 ],
 "metadata": {
  "kernelspec": {
   "display_name": "Python 3 (ipykernel)",
   "language": "python",
   "name": "python3"
  },
  "language_info": {
   "codemirror_mode": {
    "name": "ipython",
    "version": 3
   },
   "file_extension": ".py",
   "mimetype": "text/x-python",
   "name": "python",
   "nbconvert_exporter": "python",
   "pygments_lexer": "ipython3",
   "version": "3.10.11"
  }
 },
 "nbformat": 4,
 "nbformat_minor": 5
}
