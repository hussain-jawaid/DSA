{
 "cells": [
  {
   "cell_type": "code",
   "execution_count": 65,
   "id": "7c085e21-77f9-4268-8d4a-31f6ba7fd82b",
   "metadata": {},
   "outputs": [],
   "source": [
    "class HashTable:\n",
    "    def __init__(self, size):\n",
    "        self.size = size\n",
    "        self.arr = [None] * self.size\n",
    "        self.count = 0\n",
    "        self.__deleted = object()\n",
    "\n",
    "    def __get_hash(self, key):\n",
    "        return abs(hash(key)) % self.size\n",
    "\n",
    "    def __setitem__(self, key, value):    \n",
    "        if self.count >= self.size * 0.7: # 70% load factor\n",
    "            self.__resize()\n",
    "\n",
    "        h = self.__get_hash(key)\n",
    "            \n",
    "        for i in range(self.size):\n",
    "            idx = (h + i) % self.size\n",
    "            if self.arr[idx] is None or self.arr[idx] is self.__deleted:\n",
    "                self.arr[idx] = (key, value)\n",
    "                self.count += 1\n",
    "                return\n",
    "            elif self.arr[idx][0] == key:\n",
    "                self.arr[idx] = (key, value)\n",
    "                return\n",
    "\n",
    "    def __getitem__(self, key):\n",
    "        h = self.__get_hash(key)\n",
    "        for i in range(self.size):\n",
    "            idx = (h + i) % self.size\n",
    "            if self.arr[idx] is None:\n",
    "                # Empty slot — key was never inserted\n",
    "                raise KeyError(key)\n",
    "            if self.arr[idx] is self.__deleted:\n",
    "                # Deleted slot — skip and keep probing\n",
    "                continue\n",
    "            if self.arr[idx][0] == key:\n",
    "                return self.arr[idx][1]\n",
    "        raise KeyError(key)\n",
    "\n",
    "    def __delitem__(self, key):\n",
    "        h = self.__get_hash(key)\n",
    "        for i in range(self.size):\n",
    "            idx = (h + i) % self.size\n",
    "            if self.arr[idx] is None:\n",
    "                # Key was never inserted\n",
    "                raise KeyError(key)\n",
    "            if self.arr[idx] is self.__deleted:\n",
    "                # Deleted — keep probing\n",
    "                continue\n",
    "            if self.arr[idx][0] == key:\n",
    "                self.arr[idx] = self.__deleted\n",
    "                self.count -= 1\n",
    "                return\n",
    "        raise KeyError(key)\n",
    "        \n",
    "    def __resize(self):\n",
    "        old_arr = self.arr\n",
    "        self.size *= 2\n",
    "        self.arr = [None] * self.size\n",
    "        self.count = 0\n",
    "        for item in old_arr:\n",
    "            if item is not None:\n",
    "                key, value = item\n",
    "                self.__setitem__(key, value)"
   ]
  },
  {
   "cell_type": "code",
   "execution_count": 66,
   "id": "74ea3520-dc08-48fd-94bc-de3573ac3c16",
   "metadata": {},
   "outputs": [],
   "source": [
    "ht = HashTable(5)"
   ]
  },
  {
   "cell_type": "code",
   "execution_count": 70,
   "id": "7b0c1d1d-6e79-40bd-a392-3da1393aba89",
   "metadata": {},
   "outputs": [
    {
     "data": {
      "text/plain": [
       "[None,\n",
       " ('march 1', 100),\n",
       " None,\n",
       " None,\n",
       " ('march 10', 100),\n",
       " None,\n",
       " None,\n",
       " ('march 4', 100),\n",
       " ('march 5', 200),\n",
       " None,\n",
       " ('march 3', 100),\n",
       " ('march 8', 100),\n",
       " None,\n",
       " ('march 7', 100),\n",
       " ('march 2', 100),\n",
       " None,\n",
       " ('march 6', 100),\n",
       " None,\n",
       " None,\n",
       " None]"
      ]
     },
     "execution_count": 70,
     "metadata": {},
     "output_type": "execute_result"
    }
   ],
   "source": [
    "ht.arr"
   ]
  },
  {
   "cell_type": "code",
   "execution_count": 68,
   "id": "9c4817d5-400e-4f11-915b-fb26787a9463",
   "metadata": {},
   "outputs": [],
   "source": [
    "ht['march 1'] = 100\n",
    "ht['march 2'] = 100\n",
    "ht['march 3'] = 100\n",
    "ht['march 4'] = 100\n",
    "ht['march 5'] = 100\n",
    "ht['march 6'] = 100\n",
    "ht['march 7'] = 100\n",
    "ht['march 8'] = 100\n",
    "ht['march 8'] = 100\n",
    "ht['march 10'] = 100"
   ]
  },
  {
   "cell_type": "code",
   "execution_count": 69,
   "id": "a875d606-6e17-4fc8-b5ea-48f9e2829381",
   "metadata": {},
   "outputs": [],
   "source": [
    "ht['march 5'] = 200"
   ]
  },
  {
   "cell_type": "code",
   "execution_count": 74,
   "id": "2ea6ab3f-6ecf-4ed3-a63c-f07dc4506a84",
   "metadata": {},
   "outputs": [
    {
     "ename": "KeyError",
     "evalue": "'march 5'",
     "output_type": "error",
     "traceback": [
      "\u001b[1;31m---------------------------------------------------------------------------\u001b[0m",
      "\u001b[1;31mKeyError\u001b[0m                                  Traceback (most recent call last)",
      "Cell \u001b[1;32mIn[74], line 1\u001b[0m\n\u001b[1;32m----> 1\u001b[0m \u001b[43mht\u001b[49m\u001b[43m[\u001b[49m\u001b[38;5;124;43m'\u001b[39;49m\u001b[38;5;124;43mmarch 5\u001b[39;49m\u001b[38;5;124;43m'\u001b[39;49m\u001b[43m]\u001b[49m\n",
      "Cell \u001b[1;32mIn[65], line 33\u001b[0m, in \u001b[0;36mHashTable.__getitem__\u001b[1;34m(self, key)\u001b[0m\n\u001b[0;32m     30\u001b[0m idx \u001b[38;5;241m=\u001b[39m (h \u001b[38;5;241m+\u001b[39m i) \u001b[38;5;241m%\u001b[39m \u001b[38;5;28mself\u001b[39m\u001b[38;5;241m.\u001b[39msize\n\u001b[0;32m     31\u001b[0m \u001b[38;5;28;01mif\u001b[39;00m \u001b[38;5;28mself\u001b[39m\u001b[38;5;241m.\u001b[39marr[idx] \u001b[38;5;129;01mis\u001b[39;00m \u001b[38;5;28;01mNone\u001b[39;00m:\n\u001b[0;32m     32\u001b[0m     \u001b[38;5;66;03m# Empty slot — key was never inserted\u001b[39;00m\n\u001b[1;32m---> 33\u001b[0m     \u001b[38;5;28;01mraise\u001b[39;00m \u001b[38;5;167;01mKeyError\u001b[39;00m(key)\n\u001b[0;32m     34\u001b[0m \u001b[38;5;28;01mif\u001b[39;00m \u001b[38;5;28mself\u001b[39m\u001b[38;5;241m.\u001b[39marr[idx] \u001b[38;5;129;01mis\u001b[39;00m \u001b[38;5;28mself\u001b[39m\u001b[38;5;241m.\u001b[39m__deleted:\n\u001b[0;32m     35\u001b[0m     \u001b[38;5;66;03m# Deleted slot — skip and keep probing\u001b[39;00m\n\u001b[0;32m     36\u001b[0m     \u001b[38;5;28;01mcontinue\u001b[39;00m\n",
      "\u001b[1;31mKeyError\u001b[0m: 'march 5'"
     ]
    }
   ],
   "source": [
    "ht['march 5']"
   ]
  },
  {
   "cell_type": "code",
   "execution_count": 72,
   "id": "41a0763f-568f-44ff-bffd-11e13d048233",
   "metadata": {},
   "outputs": [
    {
     "data": {
      "text/plain": [
       "200"
      ]
     },
     "execution_count": 72,
     "metadata": {},
     "output_type": "execute_result"
    }
   ],
   "source": [
    "ht['march 5']"
   ]
  },
  {
   "cell_type": "code",
   "execution_count": 75,
   "id": "a10333b5-3228-410a-ae79-cab1cdc8bbf9",
   "metadata": {},
   "outputs": [
    {
     "ename": "KeyError",
     "evalue": "'march 5'",
     "output_type": "error",
     "traceback": [
      "\u001b[1;31m---------------------------------------------------------------------------\u001b[0m",
      "\u001b[1;31mKeyError\u001b[0m                                  Traceback (most recent call last)",
      "Cell \u001b[1;32mIn[75], line 1\u001b[0m\n\u001b[1;32m----> 1\u001b[0m \u001b[38;5;28;01mdel\u001b[39;00m ht[\u001b[38;5;124m'\u001b[39m\u001b[38;5;124mmarch 5\u001b[39m\u001b[38;5;124m'\u001b[39m]\n",
      "Cell \u001b[1;32mIn[65], line 47\u001b[0m, in \u001b[0;36mHashTable.__delitem__\u001b[1;34m(self, key)\u001b[0m\n\u001b[0;32m     44\u001b[0m idx \u001b[38;5;241m=\u001b[39m (h \u001b[38;5;241m+\u001b[39m i) \u001b[38;5;241m%\u001b[39m \u001b[38;5;28mself\u001b[39m\u001b[38;5;241m.\u001b[39msize\n\u001b[0;32m     45\u001b[0m \u001b[38;5;28;01mif\u001b[39;00m \u001b[38;5;28mself\u001b[39m\u001b[38;5;241m.\u001b[39marr[idx] \u001b[38;5;129;01mis\u001b[39;00m \u001b[38;5;28;01mNone\u001b[39;00m:\n\u001b[0;32m     46\u001b[0m     \u001b[38;5;66;03m# Key was never inserted\u001b[39;00m\n\u001b[1;32m---> 47\u001b[0m     \u001b[38;5;28;01mraise\u001b[39;00m \u001b[38;5;167;01mKeyError\u001b[39;00m(key)\n\u001b[0;32m     48\u001b[0m \u001b[38;5;28;01mif\u001b[39;00m \u001b[38;5;28mself\u001b[39m\u001b[38;5;241m.\u001b[39marr[idx] \u001b[38;5;129;01mis\u001b[39;00m \u001b[38;5;28mself\u001b[39m\u001b[38;5;241m.\u001b[39m__deleted:\n\u001b[0;32m     49\u001b[0m     \u001b[38;5;66;03m# Deleted — keep probing\u001b[39;00m\n\u001b[0;32m     50\u001b[0m     \u001b[38;5;28;01mcontinue\u001b[39;00m\n",
      "\u001b[1;31mKeyError\u001b[0m: 'march 5'"
     ]
    }
   ],
   "source": [
    "del ht['march 5']"
   ]
  },
  {
   "cell_type": "code",
   "execution_count": null,
   "id": "56db80aa-5c15-471a-82be-7e2eb00b6ca3",
   "metadata": {},
   "outputs": [],
   "source": []
  }
 ],
 "metadata": {
  "kernelspec": {
   "display_name": "Python 3 (ipykernel)",
   "language": "python",
   "name": "python3"
  },
  "language_info": {
   "codemirror_mode": {
    "name": "ipython",
    "version": 3
   },
   "file_extension": ".py",
   "mimetype": "text/x-python",
   "name": "python",
   "nbconvert_exporter": "python",
   "pygments_lexer": "ipython3",
   "version": "3.10.11"
  }
 },
 "nbformat": 4,
 "nbformat_minor": 5
}
