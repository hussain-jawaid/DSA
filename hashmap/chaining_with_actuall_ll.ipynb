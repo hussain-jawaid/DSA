{
 "cells": [
  {
   "cell_type": "code",
   "execution_count": 1,
   "id": "f6dbc5d4-1657-4300-b284-5d26f0348263",
   "metadata": {},
   "outputs": [],
   "source": [
    "class Node:\n",
    "    def __init__(self, key, value):\n",
    "        self.key = key\n",
    "        self.value = value\n",
    "        self.next = None"
   ]
  },
  {
   "cell_type": "code",
   "execution_count": 10,
   "id": "3225cee2-f1ed-4065-9502-3c3f035ecb72",
   "metadata": {},
   "outputs": [],
   "source": [
    "class LinkedList:\n",
    "    def __init__(self):\n",
    "        self.head = None\n",
    "        self.n = 0\n",
    "\n",
    "    def traverse(self):\n",
    "        curr = self.head\n",
    "        while curr:\n",
    "            print(f\"'{curr.key}' : {curr.value}\", end=\", \")\n",
    "            curr = curr.next\n",
    "\n",
    "    def append(self, key, value):\n",
    "        new_node = Node(key, value)\n",
    "        curr = self.head\n",
    "        if curr == None:\n",
    "            self.head = new_node\n",
    "            self.n += 1\n",
    "        else:\n",
    "            while curr:\n",
    "                if curr.next == None:\n",
    "                    curr.next = new_node\n",
    "                    self.n += 1\n",
    "                    return\n",
    "                curr = curr.next\n",
    "\n",
    "    def remove(self, key):\n",
    "        curr = self.head\n",
    "        if not curr: raise KeyError(\"Key not found\")\n",
    "            \n",
    "        if curr.key == key: \n",
    "            self.head = self.head.next\n",
    "            self.n -= 1\n",
    "            return\n",
    "            \n",
    "        while curr.next:\n",
    "            if curr.next.key == key:\n",
    "                curr.next = curr.next.next\n",
    "                self.n -= 1\n",
    "                return\n",
    "            curr = curr.next\n",
    "        raise KeyError(\"Key not found\") \n",
    "\n",
    "    def value_of(self, key):\n",
    "        curr = self.head\n",
    "        if not curr: raise KeyError(\"Key not found\")\n",
    "            \n",
    "        while curr:\n",
    "            if curr.key == key:\n",
    "                return curr.value\n",
    "            curr = curr.next\n",
    "        raise KeyError(\"Key not found\")"
   ]
  },
  {
   "cell_type": "code",
   "execution_count": 34,
   "id": "7711cec4-e401-4c1a-bc65-a93d021c1a7d",
   "metadata": {},
   "outputs": [],
   "source": [
    "class HashTable:\n",
    "    def __init__(self, size):\n",
    "        self.size = size\n",
    "        self.arr = [LinkedList() for _ in range(self.size)]\n",
    "\n",
    "    def get_hash(self, key):\n",
    "        abs(hash(key))%self.size"
   ]
  },
  {
   "cell_type": "code",
   "execution_count": 35,
   "id": "b5ad5fee-5f83-400b-87b9-f229379164b1",
   "metadata": {},
   "outputs": [],
   "source": [
    "ht = HashTable(3)"
   ]
  },
  {
   "cell_type": "code",
   "execution_count": 36,
   "id": "440badb1-e1d0-4849-8711-e55b70c4f2e8",
   "metadata": {},
   "outputs": [
    {
     "data": {
      "text/plain": [
       "[<__main__.LinkedList at 0x174817a1360>,\n",
       " <__main__.LinkedList at 0x174815e6320>,\n",
       " <__main__.LinkedList at 0x174815e7310>]"
      ]
     },
     "execution_count": 36,
     "metadata": {},
     "output_type": "execute_result"
    }
   ],
   "source": [
    "ht.arr"
   ]
  },
  {
   "cell_type": "code",
   "execution_count": null,
   "id": "4e335ec2-2049-47e7-912d-15e1fa4f8c44",
   "metadata": {},
   "outputs": [],
   "source": []
  }
 ],
 "metadata": {
  "kernelspec": {
   "display_name": "Python 3 (ipykernel)",
   "language": "python",
   "name": "python3"
  },
  "language_info": {
   "codemirror_mode": {
    "name": "ipython",
    "version": 3
   },
   "file_extension": ".py",
   "mimetype": "text/x-python",
   "name": "python",
   "nbconvert_exporter": "python",
   "pygments_lexer": "ipython3",
   "version": "3.10.11"
  }
 },
 "nbformat": 4,
 "nbformat_minor": 5
}
