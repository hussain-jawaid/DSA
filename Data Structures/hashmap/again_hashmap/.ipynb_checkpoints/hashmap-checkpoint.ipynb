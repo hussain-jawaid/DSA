{
 "cells": [
  {
   "cell_type": "code",
   "execution_count": 57,
   "id": "8137a98d-a5ed-457a-8584-6ebef0ca6bdd",
   "metadata": {},
   "outputs": [],
   "source": [
    "class HashTable:\n",
    "    def __init__(self, size):\n",
    "        self.size = size\n",
    "        self.arr = [None] * self.size\n",
    "        self.count = 0\n",
    "\n",
    "    def get_hash(self, key):\n",
    "        return abs(hash(key)) % self.size\n",
    "        \n",
    "    def __setitem__(self, key, value):\n",
    "        h = self.get_hash(key)\n",
    "\n",
    "        if not self.arr[h]:\n",
    "            self.arr[h] = (key, value)\n",
    "        elif self.arr[h][0] == key:\n",
    "            self.arr[h] = (key, value)\n",
    "        else:    \n",
    "            raise Exception(\"Collision occurs\")\n",
    "        self.count += 1\n",
    "\n",
    "    def __getitem__(self, key):\n",
    "        h = self.get_hash(key)\n",
    "        if not self.arr[h]: raise KeyError(\"Key not found\")\n",
    "        if self.arr[h][0] == key:\n",
    "            return self.arr[h][1]\n",
    "        raise KeyError(\"Key not found\")\n",
    "\n",
    "    def __delitem__(self, key):\n",
    "        h = self.get_hash(key)\n",
    "        if not self.arr[h]: raise KeyError(\"Key not found\")\n",
    "        if self.arr[h][0] == key:\n",
    "            self.arr[h] = None\n",
    "            self.count -= 1\n",
    "\n",
    "    def __len__(self):\n",
    "        return self.count"
   ]
  },
  {
   "cell_type": "code",
   "execution_count": 58,
   "id": "755b6839-f6c7-458f-b39a-70e76724fd03",
   "metadata": {},
   "outputs": [],
   "source": [
    "ht = HashTable(5)"
   ]
  },
  {
   "cell_type": "code",
   "execution_count": 59,
   "id": "4e0dd2a8-5539-408c-be0b-c4b2053cd86d",
   "metadata": {},
   "outputs": [
    {
     "data": {
      "text/plain": [
       "[None, None, None, None, None]"
      ]
     },
     "execution_count": 59,
     "metadata": {},
     "output_type": "execute_result"
    }
   ],
   "source": [
    "ht.arr"
   ]
  },
  {
   "cell_type": "code",
   "execution_count": 60,
   "id": "73e31fc4-a390-44b9-839c-9e33e9ed517a",
   "metadata": {},
   "outputs": [],
   "source": [
    "ht['march 1'] = 45\n",
    "ht['march 3'] = 32"
   ]
  },
  {
   "cell_type": "code",
   "execution_count": 67,
   "id": "2000b10b-e061-4d33-954c-58c3e69f3018",
   "metadata": {},
   "outputs": [
    {
     "ename": "KeyError",
     "evalue": "'Key not found'",
     "output_type": "error",
     "traceback": [
      "\u001b[1;31m---------------------------------------------------------------------------\u001b[0m",
      "\u001b[1;31mKeyError\u001b[0m                                  Traceback (most recent call last)",
      "Cell \u001b[1;32mIn[67], line 1\u001b[0m\n\u001b[1;32m----> 1\u001b[0m \u001b[43mht\u001b[49m\u001b[43m[\u001b[49m\u001b[38;5;124;43m'\u001b[39;49m\u001b[38;5;124;43mmarch 1\u001b[39;49m\u001b[38;5;124;43m'\u001b[39;49m\u001b[43m]\u001b[49m\n",
      "Cell \u001b[1;32mIn[57], line 23\u001b[0m, in \u001b[0;36mHashTable.__getitem__\u001b[1;34m(self, key)\u001b[0m\n\u001b[0;32m     21\u001b[0m \u001b[38;5;28;01mdef\u001b[39;00m\u001b[38;5;250m \u001b[39m\u001b[38;5;21m__getitem__\u001b[39m(\u001b[38;5;28mself\u001b[39m, key):\n\u001b[0;32m     22\u001b[0m     h \u001b[38;5;241m=\u001b[39m \u001b[38;5;28mself\u001b[39m\u001b[38;5;241m.\u001b[39mget_hash(key)\n\u001b[1;32m---> 23\u001b[0m     \u001b[38;5;28;01mif\u001b[39;00m \u001b[38;5;129;01mnot\u001b[39;00m \u001b[38;5;28mself\u001b[39m\u001b[38;5;241m.\u001b[39marr[h]: \u001b[38;5;28;01mraise\u001b[39;00m \u001b[38;5;167;01mKeyError\u001b[39;00m(\u001b[38;5;124m\"\u001b[39m\u001b[38;5;124mKey not found\u001b[39m\u001b[38;5;124m\"\u001b[39m)\n\u001b[0;32m     24\u001b[0m     \u001b[38;5;28;01mif\u001b[39;00m \u001b[38;5;28mself\u001b[39m\u001b[38;5;241m.\u001b[39marr[h][\u001b[38;5;241m0\u001b[39m] \u001b[38;5;241m==\u001b[39m key:\n\u001b[0;32m     25\u001b[0m         \u001b[38;5;28;01mreturn\u001b[39;00m \u001b[38;5;28mself\u001b[39m\u001b[38;5;241m.\u001b[39marr[h][\u001b[38;5;241m1\u001b[39m]\n",
      "\u001b[1;31mKeyError\u001b[0m: 'Key not found'"
     ]
    }
   ],
   "source": [
    "ht['march 1']"
   ]
  },
  {
   "cell_type": "code",
   "execution_count": 65,
   "id": "af98e6ad-1ae9-4323-a84b-d49012d41940",
   "metadata": {},
   "outputs": [],
   "source": [
    "del ht['march 3']"
   ]
  },
  {
   "cell_type": "code",
   "execution_count": 66,
   "id": "26848a4e-f05a-4b6b-8d2f-c9521ad9b2c1",
   "metadata": {},
   "outputs": [
    {
     "data": {
      "text/plain": [
       "0"
      ]
     },
     "execution_count": 66,
     "metadata": {},
     "output_type": "execute_result"
    }
   ],
   "source": [
    "len(ht)"
   ]
  },
  {
   "cell_type": "code",
   "execution_count": 69,
   "id": "86e88efe-c96f-43b5-b8ce-99b24e348a1a",
   "metadata": {},
   "outputs": [],
   "source": [
    "my_dict = {\n",
    "    'march 1': 45,\n",
    "    'march 2': 18,\n",
    "    'march 3': 96,\n",
    "    'march 4': 74,\n",
    "    'march 5': 56,\n",
    "}"
   ]
  },
  {
   "cell_type": "code",
   "execution_count": 76,
   "id": "730db3bc-0482-41b5-b95b-6d13b9fa49fc",
   "metadata": {},
   "outputs": [
    {
     "data": {
      "text/plain": [
       "{'march 2': 18, 'march 3': 96, 'march 4': 74, 'march 5': 56}"
      ]
     },
     "execution_count": 76,
     "metadata": {},
     "output_type": "execute_result"
    }
   ],
   "source": [
    "my_dict"
   ]
  },
  {
   "cell_type": "code",
   "execution_count": 71,
   "id": "588ca67b-d8c2-4f34-bf78-12c31556b9ad",
   "metadata": {},
   "outputs": [
    {
     "data": {
      "text/plain": [
       "45"
      ]
     },
     "execution_count": 71,
     "metadata": {},
     "output_type": "execute_result"
    }
   ],
   "source": [
    "my_dict['march 1']"
   ]
  },
  {
   "cell_type": "code",
   "execution_count": 77,
   "id": "044b0bca-945c-4b6b-af0e-6b035f4892d9",
   "metadata": {},
   "outputs": [
    {
     "ename": "KeyError",
     "evalue": "'march 1'",
     "output_type": "error",
     "traceback": [
      "\u001b[1;31m---------------------------------------------------------------------------\u001b[0m",
      "\u001b[1;31mKeyError\u001b[0m                                  Traceback (most recent call last)",
      "Cell \u001b[1;32mIn[77], line 1\u001b[0m\n\u001b[1;32m----> 1\u001b[0m \u001b[43mmy_dict\u001b[49m\u001b[43m[\u001b[49m\u001b[38;5;124;43m'\u001b[39;49m\u001b[38;5;124;43mmarch 1\u001b[39;49m\u001b[38;5;124;43m'\u001b[39;49m\u001b[43m]\u001b[49m\n",
      "\u001b[1;31mKeyError\u001b[0m: 'march 1'"
     ]
    }
   ],
   "source": [
    "my_dict['march 1']"
   ]
  },
  {
   "cell_type": "code",
   "execution_count": 78,
   "id": "7ecf7bee-19d6-45ca-8afe-4288a11edba9",
   "metadata": {},
   "outputs": [
    {
     "data": {
      "text/plain": [
       "4"
      ]
     },
     "execution_count": 78,
     "metadata": {},
     "output_type": "execute_result"
    }
   ],
   "source": [
    "len(my_dict)"
   ]
  },
  {
   "cell_type": "code",
   "execution_count": null,
   "id": "d1f8c82c-4f5e-495b-b885-e6995206075e",
   "metadata": {},
   "outputs": [],
   "source": []
  }
 ],
 "metadata": {
  "kernelspec": {
   "display_name": "Python 3 (ipykernel)",
   "language": "python",
   "name": "python3"
  },
  "language_info": {
   "codemirror_mode": {
    "name": "ipython",
    "version": 3
   },
   "file_extension": ".py",
   "mimetype": "text/x-python",
   "name": "python",
   "nbconvert_exporter": "python",
   "pygments_lexer": "ipython3",
   "version": "3.10.11"
  }
 },
 "nbformat": 4,
 "nbformat_minor": 5
}
