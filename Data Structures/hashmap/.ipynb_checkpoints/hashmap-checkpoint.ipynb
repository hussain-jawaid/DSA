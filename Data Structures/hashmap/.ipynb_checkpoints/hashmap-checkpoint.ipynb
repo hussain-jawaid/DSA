{
 "cells": [
  {
   "cell_type": "code",
   "execution_count": 1,
   "id": "37deaeab-e75a-412f-9482-a557158f4ef1",
   "metadata": {},
   "outputs": [],
   "source": [
    "key = \"march 6\""
   ]
  },
  {
   "cell_type": "code",
   "execution_count": 2,
   "id": "1a8c5eab-36fc-4a53-8b4f-8dc7c64a3116",
   "metadata": {},
   "outputs": [
    {
     "data": {
      "text/plain": [
       "97"
      ]
     },
     "execution_count": 2,
     "metadata": {},
     "output_type": "execute_result"
    }
   ],
   "source": [
    "ord('a')"
   ]
  },
  {
   "cell_type": "code",
   "execution_count": 3,
   "id": "6d9dbe55-a265-49b3-9eb0-6b986d179ce4",
   "metadata": {},
   "outputs": [],
   "source": [
    "def get_hash(key):\n",
    "    sum = 0\n",
    "    for i in key:\n",
    "        sum += ord(i)\n",
    "    return sum%10"
   ]
  },
  {
   "cell_type": "code",
   "execution_count": 4,
   "id": "848a7df7-ec44-4c7b-b768-e4bb9dbbf905",
   "metadata": {},
   "outputs": [
    {
     "data": {
      "text/plain": [
       "9"
      ]
     },
     "execution_count": 4,
     "metadata": {},
     "output_type": "execute_result"
    }
   ],
   "source": [
    "get_hash(key)"
   ]
  },
  {
   "cell_type": "code",
   "execution_count": 5,
   "id": "49e42820-2d81-44cf-99fb-0b89b14f0505",
   "metadata": {},
   "outputs": [
    {
     "data": {
      "text/plain": [
       "(109, 97, 114, 99, 104, 32, 54)"
      ]
     },
     "execution_count": 5,
     "metadata": {},
     "output_type": "execute_result"
    }
   ],
   "source": [
    "ord('m'), ord('a'), ord('r'), ord('c'), ord('h'), ord(' '), ord('6')"
   ]
  },
  {
   "cell_type": "code",
   "execution_count": 6,
   "id": "bc2004a1-b9a7-4320-9365-ba8a2ec71052",
   "metadata": {},
   "outputs": [
    {
     "data": {
      "text/plain": [
       "9"
      ]
     },
     "execution_count": 6,
     "metadata": {},
     "output_type": "execute_result"
    }
   ],
   "source": [
    "609%10"
   ]
  },
  {
   "cell_type": "code",
   "execution_count": 7,
   "id": "0fc841ae-2917-4ee8-aa34-f000c3e2a168",
   "metadata": {},
   "outputs": [],
   "source": [
    "my_dict = {\n",
    "    'march 5': 45,\n",
    "    'march 6': 48,\n",
    "    'march 7': 78,\n",
    "    'march 8': 20,\n",
    "}"
   ]
  },
  {
   "cell_type": "code",
   "execution_count": 47,
   "id": "5bb09285-b6a4-4a59-9b89-7e52ad3f3e54",
   "metadata": {},
   "outputs": [
    {
     "data": {
      "text/plain": [
       "48"
      ]
     },
     "execution_count": 47,
     "metadata": {},
     "output_type": "execute_result"
    }
   ],
   "source": [
    "my_dict['march 6']"
   ]
  },
  {
   "cell_type": "markdown",
   "id": "e4a49c3d-afd9-4c82-85fe-ca8f7639bfb9",
   "metadata": {},
   "source": [
    "# Simple HashTable"
   ]
  },
  {
   "cell_type": "code",
   "execution_count": 48,
   "id": "c2459717-1a82-4818-ba20-3f2cba5e1eed",
   "metadata": {},
   "outputs": [],
   "source": [
    "class HashMap:\n",
    "    def __init__(self, size):\n",
    "        self.MAX = size\n",
    "        self.arr = [None]*self.MAX\n",
    "\n",
    "    def get_hash(self, key):\n",
    "        sum = 0\n",
    "        for i in key:\n",
    "            sum += ord(i)\n",
    "        return sum % self.MAX\n",
    "\n",
    "    def __setitem__(self, key, value):\n",
    "        index = self.get_hash(key)\n",
    "        self.arr[index] = value\n",
    "\n",
    "    def __getitem__(self, key):\n",
    "        index = self.get_hash(key)\n",
    "        if not self.arr[index]:\n",
    "            raise KeyError(\"Invalid key\")\n",
    "        return self.arr[index]\n",
    "\n",
    "    def __delitem__(self, key):\n",
    "        index = self.get_hash(key)\n",
    "        if not self.arr[index]:\n",
    "            raise KeyError(\"Invalid key\")\n",
    "        self.arr[index] = None"
   ]
  },
  {
   "cell_type": "code",
   "execution_count": 49,
   "id": "9369e51d-3e2f-4161-87d7-cb9a2d5f7778",
   "metadata": {},
   "outputs": [],
   "source": [
    "hm = HashMap(5)"
   ]
  },
  {
   "cell_type": "code",
   "execution_count": 60,
   "id": "d7db6409-f90b-4f7a-9735-83a744d7e1e0",
   "metadata": {},
   "outputs": [
    {
     "data": {
      "text/plain": [
       "[73, None, None, 45, 79]"
      ]
     },
     "execution_count": 60,
     "metadata": {},
     "output_type": "execute_result"
    }
   ],
   "source": [
    "hm.arr"
   ]
  },
  {
   "cell_type": "code",
   "execution_count": 53,
   "id": "331a0fd3-9a80-44c2-abb3-15196796e141",
   "metadata": {},
   "outputs": [],
   "source": [
    "hm['march 5'] = 45\n",
    "hm['march 6'] = 80\n",
    "hm['march 7'] = 73"
   ]
  },
  {
   "cell_type": "code",
   "execution_count": 57,
   "id": "51686150-dcf8-460f-9393-58588ad26adc",
   "metadata": {},
   "outputs": [
    {
     "data": {
      "text/plain": [
       "79"
      ]
     },
     "execution_count": 57,
     "metadata": {},
     "output_type": "execute_result"
    }
   ],
   "source": [
    "hm['march 6']"
   ]
  },
  {
   "cell_type": "code",
   "execution_count": 59,
   "id": "f3f09d15-b9ea-4083-b388-4236ff3827c5",
   "metadata": {},
   "outputs": [],
   "source": [
    "hm['march 17'] = 79"
   ]
  },
  {
   "cell_type": "code",
   "execution_count": 61,
   "id": "0b1295e0-c851-4520-ba6c-b99160525d42",
   "metadata": {},
   "outputs": [
    {
     "data": {
      "text/plain": [
       "4"
      ]
     },
     "execution_count": 61,
     "metadata": {},
     "output_type": "execute_result"
    }
   ],
   "source": [
    "hm.get_hash('march 17')"
   ]
  },
  {
   "cell_type": "markdown",
   "id": "c2d84886-3f0c-49e3-af1e-95a147f72a4f",
   "metadata": {},
   "source": [
    "# Chaining"
   ]
  },
  {
   "cell_type": "code",
   "execution_count": 49,
   "id": "0d73a8f1-e03d-4741-bf43-fe6c1f6bb76e",
   "metadata": {},
   "outputs": [],
   "source": [
    "class HashTable:\n",
    "    def __init__(self, size):\n",
    "        self.MAX = size\n",
    "        self.arr = [[] for _ in range(self.MAX)]\n",
    "\n",
    "    def get_hash(self, key):\n",
    "        sum = 0\n",
    "        for i in key:\n",
    "            sum += ord(i)\n",
    "        return sum % self.MAX\n",
    "\n",
    "    def __setitem__(self, key, value):\n",
    "        index = self.get_hash(key)\n",
    "        for i, (tuple_key, _) in enumerate(self.arr[index]):\n",
    "            if tuple_key == key:\n",
    "                self.arr[index][i] = (key, value)\n",
    "                return\n",
    "        self.arr[index].append((key, value))\n",
    "\n",
    "    def __getitem__(self, key):\n",
    "        index = self.get_hash(key)\n",
    "        if len(self.arr[index]) == 0:\n",
    "            raise KeyError(\"Invalid key\")\n",
    "        for node_key, val in self.arr[index]:\n",
    "            if node_key == key:\n",
    "                return val\n",
    "        raise KeyError(\"Invalid key\")\n",
    "\n",
    "    def __delitem__(self, key):\n",
    "        index = self.get_hash(key)\n",
    "        if len(self.arr[index]) == 0:\n",
    "            raise KeyError(\"Invalid key\")\n",
    "        for idx, (tuple_key, _) in enumerate(self.arr[index]):\n",
    "            if tuple_key == key:\n",
    "                del self.arr[index][idx]"
   ]
  },
  {
   "cell_type": "code",
   "execution_count": 50,
   "id": "469c37ee-fd98-4c22-b38b-6dc8fab816a1",
   "metadata": {},
   "outputs": [],
   "source": [
    "ht = HashTable(5)"
   ]
  },
  {
   "cell_type": "code",
   "execution_count": 58,
   "id": "2adbfde2-0c16-4d8c-be04-3d04c36bcc8f",
   "metadata": {},
   "outputs": [
    {
     "data": {
      "text/plain": [
       "[[('march 2', 89)],\n",
       " [('march 3', 35)],\n",
       " [],\n",
       " [],\n",
       " [None, ('march 1', 56), ('march 17', 230)]]"
      ]
     },
     "execution_count": 58,
     "metadata": {},
     "output_type": "execute_result"
    }
   ],
   "source": [
    "ht.arr"
   ]
  },
  {
   "cell_type": "code",
   "execution_count": 53,
   "id": "7fbfd5a4-913d-4a17-87e0-17ff5a0b7443",
   "metadata": {},
   "outputs": [],
   "source": [
    "ht[\"march 1\"] = 56\n",
    "ht[\"march 2\"] = 89\n",
    "ht[\"march 3\"] = 35\n",
    "ht[\"march 6\"] = 74\n",
    "ht[\"march 17\"] = 230"
   ]
  },
  {
   "cell_type": "code",
   "execution_count": 55,
   "id": "6c9a911c-97dd-4d81-827a-859214c96b5f",
   "metadata": {},
   "outputs": [
    {
     "data": {
      "text/plain": [
       "230"
      ]
     },
     "execution_count": 55,
     "metadata": {},
     "output_type": "execute_result"
    }
   ],
   "source": [
    "ht[\"march 17\"]"
   ]
  },
  {
   "cell_type": "code",
   "execution_count": 116,
   "id": "5af47e2b-3bdb-4fbc-a773-c920207401cf",
   "metadata": {},
   "outputs": [
    {
     "data": {
      "text/plain": [
       "4"
      ]
     },
     "execution_count": 116,
     "metadata": {},
     "output_type": "execute_result"
    }
   ],
   "source": [
    "ht.get_hash('march 1')"
   ]
  },
  {
   "cell_type": "code",
   "execution_count": 57,
   "id": "08e40716-6cfd-4fe2-92e8-f08e00ab3f7e",
   "metadata": {},
   "outputs": [],
   "source": [
    "del ht['march 6']"
   ]
  },
  {
   "cell_type": "code",
   "execution_count": null,
   "id": "538b0d1a-4c8a-4bb8-b71e-ac64a8b2c0fe",
   "metadata": {},
   "outputs": [],
   "source": []
  }
 ],
 "metadata": {
  "kernelspec": {
   "display_name": "Python 3 (ipykernel)",
   "language": "python",
   "name": "python3"
  },
  "language_info": {
   "codemirror_mode": {
    "name": "ipython",
    "version": 3
   },
   "file_extension": ".py",
   "mimetype": "text/x-python",
   "name": "python",
   "nbconvert_exporter": "python",
   "pygments_lexer": "ipython3",
   "version": "3.10.11"
  }
 },
 "nbformat": 4,
 "nbformat_minor": 5
}
