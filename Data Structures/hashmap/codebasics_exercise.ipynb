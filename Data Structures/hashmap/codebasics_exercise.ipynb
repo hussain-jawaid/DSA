{
 "cells": [
  {
   "cell_type": "code",
   "execution_count": 99,
   "id": "9f03128a-c88d-42b1-b42c-0ce7c5676d33",
   "metadata": {},
   "outputs": [],
   "source": [
    "class HashTable:\n",
    "    def __init__(self, size):\n",
    "        self.MAX = size\n",
    "        self.arr = [[] for _ in range(self.MAX)]\n",
    "\n",
    "    def get_hash(self, key):\n",
    "        sum = 0\n",
    "        for i in key:\n",
    "            sum += ord(i)\n",
    "        return sum % self.MAX\n",
    "\n",
    "    def __setitem__(self, key, value):\n",
    "        hash_val = self.get_hash(key)\n",
    "        for i, kv in enumerate(self.arr[hash_val]):\n",
    "            if kv[0] == key:\n",
    "                self.arr[hash_val][i] = (key, value)\n",
    "                return\n",
    "        self.arr[hash_val].append((key, value))\n",
    "\n",
    "    def __getitem__(self, key):\n",
    "        hash_val = self.get_hash(key)\n",
    "        for kv in self.arr[hash_val]:\n",
    "            if kv[0] == key:\n",
    "                return kv[1]\n",
    "        raise KeyError(\"The specified key does not exist in the dictionary.\")\n",
    "        \n",
    "    def __delitem__(self, key):\n",
    "        hash_val = self.get_hash(key)\n",
    "        for i, kv in enumerate(self.arr[hash_val]):\n",
    "            if kv[0] == key:\n",
    "                del self.arr[hash_val][i]\n",
    "                return\n",
    "        raise KeyError(\"The specified key does not exist in the dictionary.\")\n",
    "\n",
    "    def __len__(self):\n",
    "        i = 0\n",
    "        for ll in self.arr:\n",
    "            i += len(ll)\n",
    "        return i     \n",
    "\n",
    "    def __str__(self):\n",
    "        result = ''\n",
    "        for ll in self.arr:\n",
    "            for kv in ll:\n",
    "                result = f\"{result}'{kv[0]}' : {kv[1]}, \"\n",
    "        return f\"{{ {result[:-3]} }}\""
   ]
  },
  {
   "cell_type": "code",
   "execution_count": 100,
   "id": "ccc306a4-7ffc-4bce-8e88-c2aad56df62f",
   "metadata": {},
   "outputs": [],
   "source": [
    "ht = HashTable(10)"
   ]
  },
  {
   "cell_type": "code",
   "execution_count": 104,
   "id": "5fd32de5-5235-48c7-8a98-3d715772cba5",
   "metadata": {},
   "outputs": [
    {
     "name": "stdout",
     "output_type": "stream",
     "text": [
      "{ 'march 1' : 45, 'march 21' : 47, 'march 2' : 89, 'march 3' : 63, 'march 6' : 37, 'march 17' : 4 }\n"
     ]
    }
   ],
   "source": [
    "print(ht)"
   ]
  },
  {
   "cell_type": "code",
   "execution_count": 102,
   "id": "00e428d4-12b9-41ad-9e39-3ab2098a55e3",
   "metadata": {},
   "outputs": [
    {
     "data": {
      "text/plain": [
       "0"
      ]
     },
     "execution_count": 102,
     "metadata": {},
     "output_type": "execute_result"
    }
   ],
   "source": [
    "len(ht)"
   ]
  },
  {
   "cell_type": "code",
   "execution_count": 103,
   "id": "ca76ca02-9a9b-42b4-98a2-95c4046b7864",
   "metadata": {},
   "outputs": [],
   "source": [
    "ht[\"march 1\"] = 45\n",
    "ht[\"march 2\"] = 89\n",
    "ht[\"march 3\"] = 63\n",
    "ht[\"march 6\"] = 37\n",
    "ht[\"march 17\"] = 42\n",
    "ht[\"march 21\"] = 47"
   ]
  },
  {
   "cell_type": "code",
   "execution_count": 60,
   "id": "bd0f19ac-1fb8-4ed7-bdde-227b1d6df1c7",
   "metadata": {},
   "outputs": [],
   "source": [
    "del ht[\"march 2\"]"
   ]
  },
  {
   "cell_type": "markdown",
   "id": "7dbbe764-feb4-4448-a6fa-509fb96abcc6",
   "metadata": {},
   "source": [
    "**nyc_weather.csv contains new york city weather for first few days in the month of January. Write a program that can answer following,**\n",
    "- What was the average temperature in first week of Jan\n",
    "- What was the maximum temperature in first 10 days of Jan"
   ]
  },
  {
   "cell_type": "code",
   "execution_count": 167,
   "id": "9237c965-4e3a-4d93-8b1a-647796dc9873",
   "metadata": {},
   "outputs": [],
   "source": [
    "import csv"
   ]
  },
  {
   "cell_type": "code",
   "execution_count": 168,
   "id": "5d6fb84e-89f8-44b4-8597-75b88a26e685",
   "metadata": {},
   "outputs": [],
   "source": [
    "with open('nyc_weather.csv', 'r') as file:\n",
    "    reader = csv.reader(file)\n",
    "    header = next(reader)\n",
    "    weather_dict = HashTable(10)\n",
    "    for key, val in reader:\n",
    "        weather_dict[key] = int(val)"
   ]
  },
  {
   "cell_type": "code",
   "execution_count": 169,
   "id": "010f8ac5-a5d9-4c25-bce3-efcdd1c94afe",
   "metadata": {},
   "outputs": [
    {
     "name": "stdout",
     "output_type": "stream",
     "text": [
      "{ 'Jan 9' : 35, 'Jan 10' : 30, 'Jan 1' : 27, 'Jan 2' : 31, 'Jan 3' : 23, 'Jan 4' : 34, 'Jan 5' : 37, 'Jan 6' : 38, 'Jan 7' : 29, 'Jan 8' : 3 }\n"
     ]
    }
   ],
   "source": [
    "print(weather_dict)"
   ]
  },
  {
   "cell_type": "code",
   "execution_count": 170,
   "id": "dd87152d-caca-4fff-8a52-d6efdc8cd9df",
   "metadata": {},
   "outputs": [
    {
     "name": "stdout",
     "output_type": "stream",
     "text": [
      "31.29\n"
     ]
    }
   ],
   "source": [
    "def get_avg_temp(weather_dict):\n",
    "    day = 1\n",
    "    total = 0\n",
    "    for ll in weather_dict.arr:\n",
    "        for kv in ll:\n",
    "            if kv[0].lower() == f'jan {day}':\n",
    "                total += kv[1]\n",
    "                day += 1\n",
    "            if day == 8:\n",
    "                return total / 7 \n",
    "    return None\n",
    "print(round(get_avg_temp(weather_dict), 2))"
   ]
  },
  {
   "cell_type": "code",
   "execution_count": 171,
   "id": "0e3fc5fb-bcb8-4947-8090-4c47477252b9",
   "metadata": {},
   "outputs": [],
   "source": [
    "def max_temp(weather_dict):\n",
    "    max = 0\n",
    "    for ll in weather_dict.arr:\n",
    "        for _, val in ll:\n",
    "            if max < val:\n",
    "                max = val\n",
    "    return max"
   ]
  },
  {
   "cell_type": "code",
   "execution_count": 172,
   "id": "f3fa4386-7716-49ca-a6e8-9a47ea891f39",
   "metadata": {},
   "outputs": [
    {
     "data": {
      "text/plain": [
       "38"
      ]
     },
     "execution_count": 172,
     "metadata": {},
     "output_type": "execute_result"
    }
   ],
   "source": [
    "max_temp(weather_dict)"
   ]
  },
  {
   "cell_type": "markdown",
   "id": "681c765a-cf7e-4da1-b667-d095cafc23c4",
   "metadata": {},
   "source": [
    "**nyc_weather.csv contains new york city weather for first few days in the month of January. Write a program that can answer following,**\n",
    "- What was the temperature on Jan 9?\n",
    "- What was the temperature on Jan 4?"
   ]
  },
  {
   "cell_type": "code",
   "execution_count": 173,
   "id": "c429a1af-74b3-4405-b1c6-88d3617f8098",
   "metadata": {},
   "outputs": [],
   "source": [
    "def temp_on_specific_day(weather_dict, day):\n",
    "    for ll in weather_dict.arr:\n",
    "        for key, val in ll:\n",
    "            if key.lower() == day.lower():\n",
    "                return val"
   ]
  },
  {
   "cell_type": "code",
   "execution_count": 174,
   "id": "8fccd111-d848-4049-b8e7-1bdc6e50bdcc",
   "metadata": {},
   "outputs": [
    {
     "data": {
      "text/plain": [
       "35"
      ]
     },
     "execution_count": 174,
     "metadata": {},
     "output_type": "execute_result"
    }
   ],
   "source": [
    "temp_on_specific_day(weather_dict, 'jan 9')"
   ]
  },
  {
   "cell_type": "code",
   "execution_count": 175,
   "id": "ba61715a-fa50-4620-b156-5786ac21682e",
   "metadata": {},
   "outputs": [
    {
     "data": {
      "text/plain": [
       "34"
      ]
     },
     "execution_count": 175,
     "metadata": {},
     "output_type": "execute_result"
    }
   ],
   "source": [
    "temp_on_specific_day(weather_dict, 'jan 4')"
   ]
  },
  {
   "cell_type": "markdown",
   "id": "1567cfd9-7963-4437-ac04-f16fe624610a",
   "metadata": {},
   "source": [
    "# using a built-in dict"
   ]
  },
  {
   "cell_type": "code",
   "execution_count": 148,
   "id": "68ab4270-fe16-48f1-924e-9dd8d4fd205a",
   "metadata": {},
   "outputs": [],
   "source": [
    "with open('nyc_weather.csv', 'r') as file:\n",
    "    reader = csv.reader(file)\n",
    "    header = next(reader)\n",
    "    weather_dict = {}\n",
    "    for key, val in reader:\n",
    "        weather_dict[key] = int(val)"
   ]
  },
  {
   "cell_type": "code",
   "execution_count": 149,
   "id": "f33311dc-78a2-4f96-bfa3-1e7deb5a95a9",
   "metadata": {},
   "outputs": [
    {
     "data": {
      "text/plain": [
       "{'Jan 1': 27,\n",
       " 'Jan 2': 31,\n",
       " 'Jan 3': 23,\n",
       " 'Jan 4': 34,\n",
       " 'Jan 5': 37,\n",
       " 'Jan 6': 38,\n",
       " 'Jan 7': 29,\n",
       " 'Jan 8': 30,\n",
       " 'Jan 9': 35,\n",
       " 'Jan 10': 30}"
      ]
     },
     "execution_count": 149,
     "metadata": {},
     "output_type": "execute_result"
    }
   ],
   "source": [
    "weather_dict"
   ]
  },
  {
   "cell_type": "code",
   "execution_count": 150,
   "id": "d3e299c9-c064-4132-ac2b-62007a0b290c",
   "metadata": {},
   "outputs": [
    {
     "name": "stdout",
     "output_type": "stream",
     "text": [
      "31.29\n"
     ]
    }
   ],
   "source": [
    "def get_avg_temp(weather_dict):\n",
    "    day = 1\n",
    "    total = 0\n",
    "    for kv in weather_dict.items():\n",
    "        if kv[0].lower() == f'jan {day}':\n",
    "            total += kv[1]\n",
    "            day += 1\n",
    "        if day == 8:\n",
    "            return total / 7 \n",
    "    return None  # in case less than 6 days were found\n",
    "\n",
    "print(round(get_avg_temp(weather_dict), 2))"
   ]
  },
  {
   "cell_type": "code",
   "execution_count": 151,
   "id": "061f427e-a6fa-439d-be00-6e8e91956dd4",
   "metadata": {},
   "outputs": [
    {
     "data": {
      "text/plain": [
       "{'Jan 1': 27,\n",
       " 'Jan 2': 31,\n",
       " 'Jan 3': 23,\n",
       " 'Jan 4': 34,\n",
       " 'Jan 5': 37,\n",
       " 'Jan 6': 38,\n",
       " 'Jan 7': 29,\n",
       " 'Jan 8': 30,\n",
       " 'Jan 9': 35,\n",
       " 'Jan 10': 30}"
      ]
     },
     "execution_count": 151,
     "metadata": {},
     "output_type": "execute_result"
    }
   ],
   "source": [
    "weather_dict"
   ]
  },
  {
   "cell_type": "code",
   "execution_count": 152,
   "id": "57e9de8f-32e6-4125-8477-c0f7bd080c8d",
   "metadata": {},
   "outputs": [
    {
     "data": {
      "text/plain": [
       "38"
      ]
     },
     "execution_count": 152,
     "metadata": {},
     "output_type": "execute_result"
    }
   ],
   "source": [
    "def max_temp(weather_dict):\n",
    "    max = 0\n",
    "    for _, val in weather_dict.items():\n",
    "        if max < val:\n",
    "            max = val\n",
    "    return max\n",
    "max_temp(weather_dict)"
   ]
  },
  {
   "cell_type": "markdown",
   "id": "8e7fe40c-7e76-491c-8c87-66ea31878531",
   "metadata": {},
   "source": [
    "**nyc_weather.csv contains new york city weather for first few days in the month of January. Write a program that can answer following,**\n",
    "- What was the temperature on Jan 9?\n",
    "- What was the temperature on Jan 4?"
   ]
  },
  {
   "cell_type": "code",
   "execution_count": 153,
   "id": "cd8439ed-9aaa-4e09-934f-105f3771e950",
   "metadata": {},
   "outputs": [
    {
     "data": {
      "text/plain": [
       "{'Jan 1': 27,\n",
       " 'Jan 2': 31,\n",
       " 'Jan 3': 23,\n",
       " 'Jan 4': 34,\n",
       " 'Jan 5': 37,\n",
       " 'Jan 6': 38,\n",
       " 'Jan 7': 29,\n",
       " 'Jan 8': 30,\n",
       " 'Jan 9': 35,\n",
       " 'Jan 10': 30}"
      ]
     },
     "execution_count": 153,
     "metadata": {},
     "output_type": "execute_result"
    }
   ],
   "source": [
    "weather_dict"
   ]
  },
  {
   "cell_type": "code",
   "execution_count": 156,
   "id": "e8d5a2c9-cf9d-4b2c-995a-6943d0635e8b",
   "metadata": {},
   "outputs": [],
   "source": [
    "def temp_on_specific_day(weather_dict, day):\n",
    "    for key, val in weather_dict.items():\n",
    "        if key.lower() == day.lower():\n",
    "            return val"
   ]
  },
  {
   "cell_type": "code",
   "execution_count": 157,
   "id": "cd5bfcb2-874e-496d-b9ee-560cd995432d",
   "metadata": {},
   "outputs": [
    {
     "data": {
      "text/plain": [
       "35"
      ]
     },
     "execution_count": 157,
     "metadata": {},
     "output_type": "execute_result"
    }
   ],
   "source": [
    "temp_on_specific_day(weather_dict, 'jan 9')"
   ]
  },
  {
   "cell_type": "code",
   "execution_count": 158,
   "id": "25764a33-16d9-491f-aa07-39d7f2343c8b",
   "metadata": {},
   "outputs": [
    {
     "data": {
      "text/plain": [
       "34"
      ]
     },
     "execution_count": 158,
     "metadata": {},
     "output_type": "execute_result"
    }
   ],
   "source": [
    "temp_on_specific_day(weather_dict, 'jan 4')"
   ]
  },
  {
   "cell_type": "markdown",
   "id": "b673b35c-4f7c-401b-8e1c-64b8865a9848",
   "metadata": {},
   "source": [
    "**poem.txt Contains famous poem \"Road not taken\" by poet Robert Frost. You have to read this file in python and print every word and its count as show below. Think about the best data structure that you can use to solve this problem and figure out why you selected that specific data structure.**"
   ]
  },
  {
   "cell_type": "code",
   "execution_count": 179,
   "id": "d90c74bd-1b5f-4148-bd89-ec230cefc1e4",
   "metadata": {},
   "outputs": [
    {
     "name": "stdout",
     "output_type": "stream",
     "text": [
      "Two roads diverged in a yellow wood,\n",
      "And sorry I could not travel both\n",
      "And be one traveler, long I stood\n",
      "And looked down one as far as I could\n",
      "To where it bent in the undergrowth;\n",
      "\n",
      "Then took the other, as just as fair,\n",
      "And having perhaps the better claim,\n",
      "Because it was grassy and wanted wear;\n",
      "Though as for that the passing there\n",
      "Had worn them really about the same,\n",
      "\n",
      "And both that morning equally lay\n",
      "In leaves no step had trodden black.\n",
      "Oh, I kept the first for another day!\n",
      "Yet knowing how way leads on to way,\n",
      "I doubted if I should ever come back.\n",
      "\n",
      "I shall be telling this with a sigh\n",
      "Somewhere ages and ages hence:\n",
      "Two roads diverged in a wood, and Iâ€”\n",
      "I took the one less traveled by,\n",
      "And that has made all the difference.\n"
     ]
    }
   ],
   "source": [
    "with open(\"poem.txt\", \"r\") as file:\n",
    "    print(file.read())"
   ]
  },
  {
   "cell_type": "code",
   "execution_count": 190,
   "id": "b0d7c5ef-b3c4-4a36-90d1-7a9308931f9d",
   "metadata": {},
   "outputs": [
    {
     "name": "stdout",
     "output_type": "stream",
     "text": [
      "['Two', 'roads', 'diverged', 'in', 'a', 'yellow', 'wood,', 'And', 'sorry', 'I', 'could', 'not', 'travel', 'both', 'And', 'be', 'one', 'traveler,', 'long', 'I', 'stood', 'And', 'looked', 'down', 'one', 'as', 'far', 'as', 'I', 'could', 'To', 'where', 'it', 'bent', 'in', 'the', 'undergrowth;', 'Then', 'took', 'the', 'other,', 'as', 'just', 'as', 'fair,', 'And', 'having', 'perhaps', 'the', 'better', 'claim,', 'Because', 'it', 'was', 'grassy', 'and', 'wanted', 'wear;', 'Though', 'as', 'for', 'that', 'the', 'passing', 'there', 'Had', 'worn', 'them', 'really', 'about', 'the', 'same,', 'And', 'both', 'that', 'morning', 'equally', 'lay', 'In', 'leaves', 'no', 'step', 'had', 'trodden', 'black.', 'Oh,', 'I', 'kept', 'the', 'first', 'for', 'another', 'day!', 'Yet', 'knowing', 'how', 'way', 'leads', 'on', 'to', 'way,', 'I', 'doubted', 'if', 'I', 'should', 'ever', 'come', 'back.', 'I', 'shall', 'be', 'telling', 'this', 'with', 'a', 'sigh', 'Somewhere', 'ages', 'and', 'ages', 'hence:', 'Two', 'roads', 'diverged', 'in', 'a', 'wood,', 'and', 'Iâ€”', 'I', 'took', 'the', 'one', 'less', 'traveled', 'by,', 'And', 'that', 'has', 'made', 'all', 'the', 'difference.']\n"
     ]
    }
   ],
   "source": [
    "with open(\"poem.txt\", \"r\") as file:\n",
    "    content = file.read()\n",
    "    words = content.split()\n",
    "    print(words)"
   ]
  },
  {
   "cell_type": "code",
   "execution_count": 205,
   "id": "10e6b3c5-764b-48a4-957c-326a377527a1",
   "metadata": {},
   "outputs": [],
   "source": [
    "words_dict = {}\n",
    "\n",
    "for word in words:\n",
    "    # Remove punctuation at the end if it exists\n",
    "    if word[-1] in [\",\", \";\", \"!\", \".\", \":\"]:\n",
    "        word = word[:-1]\n",
    "\n",
    "    # Convert to lowercase for case-insensitive counting\n",
    "    word = word.lower()\n",
    "\n",
    "    # Count the word\n",
    "    if word in words_dict:\n",
    "        words_dict[word] += 1\n",
    "    else:\n",
    "        words_dict[word] = 1"
   ]
  },
  {
   "cell_type": "code",
   "execution_count": 206,
   "id": "fe03eb16-9313-4feb-a359-fd27bdc7469b",
   "metadata": {},
   "outputs": [
    {
     "data": {
      "text/plain": [
       "{'two': 2,\n",
       " 'roads': 2,\n",
       " 'diverged': 2,\n",
       " 'in': 4,\n",
       " 'a': 3,\n",
       " 'yellow': 1,\n",
       " 'wood': 2,\n",
       " 'and': 9,\n",
       " 'sorry': 1,\n",
       " 'i': 8,\n",
       " 'could': 2,\n",
       " 'not': 1,\n",
       " 'travel': 1,\n",
       " 'both': 2,\n",
       " 'be': 2,\n",
       " 'one': 3,\n",
       " 'traveler': 1,\n",
       " 'long': 1,\n",
       " 'stood': 1,\n",
       " 'looked': 1,\n",
       " 'down': 1,\n",
       " 'as': 5,\n",
       " 'far': 1,\n",
       " 'to': 2,\n",
       " 'where': 1,\n",
       " 'it': 2,\n",
       " 'bent': 1,\n",
       " 'the': 8,\n",
       " 'undergrowth': 1,\n",
       " 'then': 1,\n",
       " 'took': 2,\n",
       " 'other': 1,\n",
       " 'just': 1,\n",
       " 'fair': 1,\n",
       " 'having': 1,\n",
       " 'perhaps': 1,\n",
       " 'better': 1,\n",
       " 'claim': 1,\n",
       " 'because': 1,\n",
       " 'was': 1,\n",
       " 'grassy': 1,\n",
       " 'wanted': 1,\n",
       " 'wear': 1,\n",
       " 'though': 1,\n",
       " 'for': 2,\n",
       " 'that': 3,\n",
       " 'passing': 1,\n",
       " 'there': 1,\n",
       " 'had': 2,\n",
       " 'worn': 1,\n",
       " 'them': 1,\n",
       " 'really': 1,\n",
       " 'about': 1,\n",
       " 'same': 1,\n",
       " 'morning': 1,\n",
       " 'equally': 1,\n",
       " 'lay': 1,\n",
       " 'leaves': 1,\n",
       " 'no': 1,\n",
       " 'step': 1,\n",
       " 'trodden': 1,\n",
       " 'black': 1,\n",
       " 'oh': 1,\n",
       " 'kept': 1,\n",
       " 'first': 1,\n",
       " 'another': 1,\n",
       " 'day': 1,\n",
       " 'yet': 1,\n",
       " 'knowing': 1,\n",
       " 'how': 1,\n",
       " 'way': 2,\n",
       " 'leads': 1,\n",
       " 'on': 1,\n",
       " 'doubted': 1,\n",
       " 'if': 1,\n",
       " 'should': 1,\n",
       " 'ever': 1,\n",
       " 'come': 1,\n",
       " 'back': 1,\n",
       " 'shall': 1,\n",
       " 'telling': 1,\n",
       " 'this': 1,\n",
       " 'with': 1,\n",
       " 'sigh': 1,\n",
       " 'somewhere': 1,\n",
       " 'ages': 2,\n",
       " 'hence': 1,\n",
       " 'iâ€”': 1,\n",
       " 'less': 1,\n",
       " 'traveled': 1,\n",
       " 'by': 1,\n",
       " 'has': 1,\n",
       " 'made': 1,\n",
       " 'all': 1,\n",
       " 'difference': 1}"
      ]
     },
     "execution_count": 206,
     "metadata": {},
     "output_type": "execute_result"
    }
   ],
   "source": [
    "words_dict"
   ]
  },
  {
   "cell_type": "code",
   "execution_count": null,
   "id": "8c12ccb0-ccba-4312-8a99-21e4bb7ee5ac",
   "metadata": {},
   "outputs": [],
   "source": []
  }
 ],
 "metadata": {
  "kernelspec": {
   "display_name": "Python 3 (ipykernel)",
   "language": "python",
   "name": "python3"
  },
  "language_info": {
   "codemirror_mode": {
    "name": "ipython",
    "version": 3
   },
   "file_extension": ".py",
   "mimetype": "text/x-python",
   "name": "python",
   "nbconvert_exporter": "python",
   "pygments_lexer": "ipython3",
   "version": "3.10.11"
  }
 },
 "nbformat": 4,
 "nbformat_minor": 5
}
