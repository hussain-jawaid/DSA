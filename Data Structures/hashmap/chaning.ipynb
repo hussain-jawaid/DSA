{
 "cells": [
  {
   "cell_type": "code",
   "execution_count": 1,
   "id": "8ade1df4-0767-41f2-87d6-1d9d5134361f",
   "metadata": {},
   "outputs": [],
   "source": [
    "class HashTable:\n",
    "    def __init__(self, size):\n",
    "        self.MAX = size\n",
    "        self.arr = [[] for _ in range(self.MAX)]\n",
    "\n",
    "    def get_hash(self, key):\n",
    "        sum = 0\n",
    "        for i in key:\n",
    "            sum += ord(i)\n",
    "        return sum % self.MAX\n",
    "\n",
    "    def __setitem__(self, key, value):\n",
    "        hash_val = self.get_hash(key)\n",
    "        for i, kv in enumerate(self.arr[hash_val]):\n",
    "            if kv[0] == key:\n",
    "                self.arr[hash_val][i] = (key, value)\n",
    "                return\n",
    "        self.arr[hash_val].append((key, value))\n",
    "\n",
    "    def __getitem__(self, key):\n",
    "        hash_val = self.get_hash(key)\n",
    "        for kv in self.arr[hash_val]:\n",
    "            if kv[0] == key:\n",
    "                return kv[1]\n",
    "        raise KeyError(\"The specified key does not exist in the dictionary.\")\n",
    "        \n",
    "    def __delitem__(self, key):\n",
    "        hash_val = self.get_hash(key)\n",
    "        for i, kv in enumerate(self.arr[hash_val]):\n",
    "            if kv[0] == key:\n",
    "                del self.arr[hash_val][i]\n",
    "                return\n",
    "        raise KeyError(\"The specified key does not exist in the dictionary.\")\n",
    "\n",
    "    def __len__(self):\n",
    "        i = 0\n",
    "        for ll in self.arr:\n",
    "            i += len(ll)\n",
    "        return i     \n",
    "\n",
    "    def __str__(self):\n",
    "        result = ''\n",
    "        for ll in self.arr:\n",
    "            for kv in ll:\n",
    "                result = f\"{result}'{kv[0]}' : {kv[1]}, \"\n",
    "        return f\"{{ {result[:-3]} }}\""
   ]
  },
  {
   "cell_type": "code",
   "execution_count": null,
   "id": "ce15cc92-f9bc-41d0-a092-a22621f0210d",
   "metadata": {},
   "outputs": [],
   "source": []
  }
 ],
 "metadata": {
  "kernelspec": {
   "display_name": "Python 3 (ipykernel)",
   "language": "python",
   "name": "python3"
  },
  "language_info": {
   "codemirror_mode": {
    "name": "ipython",
    "version": 3
   },
   "file_extension": ".py",
   "mimetype": "text/x-python",
   "name": "python",
   "nbconvert_exporter": "python",
   "pygments_lexer": "ipython3",
   "version": "3.10.11"
  }
 },
 "nbformat": 4,
 "nbformat_minor": 5
}
