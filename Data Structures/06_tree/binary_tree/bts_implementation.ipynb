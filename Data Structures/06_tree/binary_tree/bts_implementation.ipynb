{
 "cells": [
  {
   "cell_type": "code",
   "execution_count": 1,
   "id": "7d6bc2e3-59cd-428c-83f2-0c208f934140",
   "metadata": {},
   "outputs": [],
   "source": [
    "class BinaryTree:\n",
    "    def __init__(self, data):\n",
    "        self.data = data\n",
    "        self.left = None\n",
    "        self.right = None\n",
    "\n",
    "    def add_child(self, data):\n",
    "        if data == self.data:\n",
    "            return\n",
    "        if data < self.data:\n",
    "            if self.left is None:\n",
    "                self.left = BinaryTree(data)\n",
    "            else:\n",
    "                self.left.add_child(data)\n",
    "        else:\n",
    "            if self.right is None:\n",
    "                self.right = BinaryTree(data)\n",
    "            else:\n",
    "                self.right.add_child(data)"
   ]
  },
  {
   "cell_type": "code",
   "execution_count": 2,
   "id": "0f96f7bc-931b-4e08-818d-30fea08bbecb",
   "metadata": {},
   "outputs": [],
   "source": [
    "root = BinaryTree(4)"
   ]
  },
  {
   "cell_type": "code",
   "execution_count": 3,
   "id": "06b10243-e939-49c4-860a-6d7929dad456",
   "metadata": {},
   "outputs": [],
   "source": [
    "import random\n",
    "\n",
    "numbers = []\n",
    "for i in range(10):\n",
    "    numbers.append(random.randint(1, 100))\n",
    "\n",
    "for i in numbers:\n",
    "    root.add_child(i)"
   ]
  },
  {
   "cell_type": "code",
   "execution_count": null,
   "id": "5543a1c4-f89a-4819-962f-cf048a4d6590",
   "metadata": {},
   "outputs": [],
   "source": []
  }
 ],
 "metadata": {
  "kernelspec": {
   "display_name": "Python 3 (ipykernel)",
   "language": "python",
   "name": "python3"
  },
  "language_info": {
   "codemirror_mode": {
    "name": "ipython",
    "version": 3
   },
   "file_extension": ".py",
   "mimetype": "text/x-python",
   "name": "python",
   "nbconvert_exporter": "python",
   "pygments_lexer": "ipython3",
   "version": "3.10.11"
  }
 },
 "nbformat": 4,
 "nbformat_minor": 5
}
