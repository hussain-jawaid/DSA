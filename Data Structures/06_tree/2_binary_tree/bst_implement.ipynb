{
 "cells": [
  {
   "cell_type": "code",
   "execution_count": 38,
   "id": "e279cfc4-4d30-43a3-b095-9fc4b31a3ac5",
   "metadata": {},
   "outputs": [],
   "source": [
    "class Node:\n",
    "    def __init__(self, key):\n",
    "        self.data = key\n",
    "        self.left = None\n",
    "        self.right = None"
   ]
  },
  {
   "cell_type": "code",
   "execution_count": 101,
   "id": "66844cea-cf14-4c38-92c0-239c9d0495a2",
   "metadata": {},
   "outputs": [],
   "source": [
    "class BinarySearchTree:\n",
    "    def __init__(self):\n",
    "        self.root = None\n",
    "\n",
    "    def insert(self, key):\n",
    "        if self.root is None:\n",
    "            self.root = Node(key)\n",
    "        else:\n",
    "            self._insert(self.root, key)\n",
    "            \n",
    "    def _insert(self, node, key):\n",
    "        if key == node.data:\n",
    "            return False\n",
    "\n",
    "        if key < node.data:\n",
    "            if node.left is None:\n",
    "                node.left = Node(key)\n",
    "            else:\n",
    "                self._insert(node.left, key)\n",
    "        elif key > node.data:\n",
    "            if node.right is None:\n",
    "                node.right = Node(key)\n",
    "            else:\n",
    "                self._insert(node.right, key)\n",
    "\n",
    "    def search(self, key):\n",
    "        return self._search(self.root, key)\n",
    "\n",
    "    def _search(self, current_node, key):\n",
    "        if current_node is None:\n",
    "            return False\n",
    "        if key == current_node.data:\n",
    "            return True\n",
    "        if key < current_node.data:\n",
    "            return self._search(current_node.left, key)\n",
    "        elif key > current_node.data:\n",
    "            return self._search(current_node.right, key)\n",
    "\n",
    "    def delete(self, key):\n",
    "        self.root = self._delete(self.root, key)\n",
    "\n",
    "    def _delete(self, node, key):\n",
    "        if node is None:\n",
    "            return None\n",
    "\n",
    "        if key < node.data:\n",
    "            node.left = self._delete(node.left, key)\n",
    "        elif key > node.data:\n",
    "            node.right = self._delete(node.right, key)\n",
    "        else:\n",
    "            # Node with one or no child\n",
    "            if node.left is None:\n",
    "                return node.right\n",
    "            elif node.right is None:\n",
    "                return node.right\n",
    "            # Node with two children: find inorder successor\n",
    "            temp_val = self._min_value_node(node.right)\n",
    "            node.data = temp_val.data\n",
    "            node.right = self._delete(node.right, temp_val.data)\n",
    "        return node\n",
    "\n",
    "    def find_min(self):\n",
    "        try:\n",
    "            min_node = self._min_value_node(self.root)\n",
    "            if min_node: return min_node.data\n",
    "        except Exception:\n",
    "            raise Exception('tree not initialize')\n",
    "\n",
    "    def find_max(self):\n",
    "        try:\n",
    "            max_node = self._max_value_node(self.root)\n",
    "            if max_node: return max_node.data\n",
    "        except Exception:\n",
    "            raise Exception('tree not initialize')\n",
    "            \n",
    "    def _max_value_node(self, node):\n",
    "        current = node\n",
    "        while current.right is not None:\n",
    "            current = current.right\n",
    "        return current\n",
    "        \n",
    "    def _min_value_node(self, node):\n",
    "        current = node\n",
    "        while current.left is not None:\n",
    "            current = current.left\n",
    "        return current\n",
    "\n",
    "    def is_empty(self):\n",
    "        return True if self.root is None else False"
   ]
  },
  {
   "cell_type": "code",
   "execution_count": 96,
   "id": "f8ae7535-da6e-453f-ac10-18b0f120629d",
   "metadata": {},
   "outputs": [],
   "source": [
    "def build_bst(elements):\n",
    "    bst = BinarySearchTree()\n",
    "    for i in elements:\n",
    "        bst.insert(i)\n",
    "    return bst"
   ]
  },
  {
   "cell_type": "code",
   "execution_count": 97,
   "id": "a7a9aa59-6fee-4bd3-a8bb-46a5f8d97812",
   "metadata": {},
   "outputs": [],
   "source": [
    "numbers = [10, 8, 11, 12, 14, 17, 9, 3]\n",
    "bst = build_bst(numbers)"
   ]
  },
  {
   "cell_type": "code",
   "execution_count": 82,
   "id": "48f02111-420e-4ea8-9f6c-ef23a4c08988",
   "metadata": {},
   "outputs": [
    {
     "data": {
      "text/plain": [
       "True"
      ]
     },
     "execution_count": 82,
     "metadata": {},
     "output_type": "execute_result"
    }
   ],
   "source": [
    "bst.search(10)"
   ]
  },
  {
   "cell_type": "code",
   "execution_count": 83,
   "id": "1a4a04d2-c0e5-41b7-a658-9934b00f3424",
   "metadata": {},
   "outputs": [],
   "source": [
    "bst.insert(45)"
   ]
  },
  {
   "cell_type": "code",
   "execution_count": 84,
   "id": "17e654fe-90ab-4469-b7f6-0c96a50a1d60",
   "metadata": {},
   "outputs": [],
   "source": [
    "bst.delete(45)"
   ]
  },
  {
   "cell_type": "code",
   "execution_count": 85,
   "id": "2ea68f6f-aa3f-4be1-866e-af058b48a75d",
   "metadata": {},
   "outputs": [
    {
     "data": {
      "text/plain": [
       "3"
      ]
     },
     "execution_count": 85,
     "metadata": {},
     "output_type": "execute_result"
    }
   ],
   "source": [
    "bst.find_min()"
   ]
  },
  {
   "cell_type": "code",
   "execution_count": 86,
   "id": "167633b3-9d2c-4207-be3d-b927070e8338",
   "metadata": {},
   "outputs": [
    {
     "data": {
      "text/plain": [
       "17"
      ]
     },
     "execution_count": 86,
     "metadata": {},
     "output_type": "execute_result"
    }
   ],
   "source": [
    "bst.find_max()"
   ]
  },
  {
   "cell_type": "code",
   "execution_count": 99,
   "id": "590f2d73-1e39-4ca3-8b4d-9c574c2930af",
   "metadata": {},
   "outputs": [
    {
     "data": {
      "text/plain": [
       "False"
      ]
     },
     "execution_count": 99,
     "metadata": {},
     "output_type": "execute_result"
    }
   ],
   "source": [
    "bst.is_empty()"
   ]
  },
  {
   "cell_type": "code",
   "execution_count": null,
   "id": "1a735f87-e7b8-40e0-93af-97cf05fe0fd4",
   "metadata": {},
   "outputs": [],
   "source": []
  }
 ],
 "metadata": {
  "kernelspec": {
   "display_name": "Python 3 (ipykernel)",
   "language": "python",
   "name": "python3"
  },
  "language_info": {
   "codemirror_mode": {
    "name": "ipython",
    "version": 3
   },
   "file_extension": ".py",
   "mimetype": "text/x-python",
   "name": "python",
   "nbconvert_exporter": "python",
   "pygments_lexer": "ipython3",
   "version": "3.10.11"
  }
 },
 "nbformat": 4,
 "nbformat_minor": 5
}
