{
 "cells": [
  {
   "cell_type": "markdown",
   "id": "327fd6a7-6bc4-40b3-89d5-d10db5f305ab",
   "metadata": {},
   "source": [
    "### Exercise No 1\n",
    "**Link** https://github.com/codebasics/data-structures-algorithms-python/blob/master/data_structures/7_Tree/7_tree_exercise.md"
   ]
  },
  {
   "cell_type": "code",
   "execution_count": 47,
   "id": "c0967dd7-e102-404b-b64a-18d43b7e8f99",
   "metadata": {},
   "outputs": [],
   "source": [
    "class TreeNode:\n",
    "    def __init__(self, name, role):\n",
    "        self.name = name\n",
    "        self.designation = role\n",
    "        self.children = []\n",
    "        self.parent = None\n",
    "\n",
    "    def add_child(self, child):\n",
    "        child.parent = self\n",
    "        self.children.append(child)\n",
    "\n",
    "    def get_level(self):\n",
    "        level = 0\n",
    "        p = self.parent\n",
    "        while p:\n",
    "            level += 1\n",
    "            p = p.parent\n",
    "        return level\n",
    "        \n",
    "    def print_tree(self, hierarchy):\n",
    "        level = self.get_level()\n",
    "        spaces = ' ' * level*3\n",
    "        prefix = spaces + '|__' if level != 0 else ''\n",
    "        if hierarchy == 'name':\n",
    "            print(f'{prefix} {self.name}')\n",
    "        elif hierarchy == 'designation':\n",
    "            print(f'{prefix} {self.designation}')\n",
    "        elif hierarchy == 'both':\n",
    "            print(f'{prefix} {self.name} ({self.designation})')\n",
    "        for child in self.children:\n",
    "            child.print_tree(hierarchy)"
   ]
  },
  {
   "cell_type": "code",
   "execution_count": 48,
   "id": "b7b9f4d7-5c70-4321-94d0-12962d0c56b0",
   "metadata": {},
   "outputs": [],
   "source": [
    "root = TreeNode('Nilpul', 'CEO')\n",
    "\n",
    "# chinmay and it's children\n",
    "chinmay = TreeNode('Chinmay', 'CTO')\n",
    "vishwa = TreeNode('Vishwa', 'Infrastructure Head')\n",
    "aamir = TreeNode('Aamir', 'Application Head')\n",
    "chinmay.add_child(vishwa)\n",
    "chinmay.add_child(aamir)\n",
    "\n",
    "# children of vishwas\n",
    "dhaval = TreeNode('Dhaval', 'Cloud Manager')\n",
    "abhijit = TreeNode('Abhijit', 'App Manager')\n",
    "vishwa.add_child(dhaval)\n",
    "vishwa.add_child(abhijit)\n",
    "\n",
    "# gels and it's children\n",
    "gels = TreeNode('Gels', 'HR Head')\n",
    "peter = TreeNode('Peter', 'Recruitment Manager')\n",
    "waqas = TreeNode('Waqas', 'Policy Manager')\n",
    "gels.add_child(peter)\n",
    "gels.add_child(waqas)\n",
    "\n",
    "root.add_child(chinmay)\n",
    "root.add_child(gels)"
   ]
  },
  {
   "cell_type": "code",
   "execution_count": 49,
   "id": "db4ad12c-9bea-49e2-bbd6-6a4865a6f781",
   "metadata": {},
   "outputs": [
    {
     "name": "stdout",
     "output_type": "stream",
     "text": [
      " Nilpul\n",
      "   |__ Chinmay\n",
      "      |__ Vishwa\n",
      "         |__ Dhaval\n",
      "         |__ Abhijit\n",
      "      |__ Aamir\n",
      "   |__ Gels\n",
      "      |__ Peter\n",
      "      |__ Waqas\n"
     ]
    }
   ],
   "source": [
    "root.print_tree('name')"
   ]
  },
  {
   "cell_type": "code",
   "execution_count": 50,
   "id": "a1fa25fe-7ede-4e19-94a8-f77b292156cf",
   "metadata": {},
   "outputs": [
    {
     "name": "stdout",
     "output_type": "stream",
     "text": [
      " CEO\n",
      "   |__ CTO\n",
      "      |__ Infrastructure Head\n",
      "         |__ Cloud Manager\n",
      "         |__ App Manager\n",
      "      |__ Application Head\n",
      "   |__ HR Head\n",
      "      |__ Recruitment Manager\n",
      "      |__ Policy Manager\n"
     ]
    }
   ],
   "source": [
    "root.print_tree('designation')"
   ]
  },
  {
   "cell_type": "code",
   "execution_count": 51,
   "id": "381e40fb-8192-449c-bf61-ac010c1f43ae",
   "metadata": {},
   "outputs": [
    {
     "name": "stdout",
     "output_type": "stream",
     "text": [
      " Nilpul (CEO)\n",
      "   |__ Chinmay (CTO)\n",
      "      |__ Vishwa (Infrastructure Head)\n",
      "         |__ Dhaval (Cloud Manager)\n",
      "         |__ Abhijit (App Manager)\n",
      "      |__ Aamir (Application Head)\n",
      "   |__ Gels (HR Head)\n",
      "      |__ Peter (Recruitment Manager)\n",
      "      |__ Waqas (Policy Manager)\n"
     ]
    }
   ],
   "source": [
    "root.print_tree('both')"
   ]
  },
  {
   "cell_type": "markdown",
   "id": "39d49425-5c2d-4cce-bc59-efc311f4b743",
   "metadata": {},
   "source": [
    "### Exercise No 2\n",
    "**Link** https://github.com/codebasics/data-structures-algorithms-python/blob/master/data_structures/7_Tree/7_tree_exercise.md"
   ]
  },
  {
   "cell_type": "code",
   "execution_count": 102,
   "id": "7b8c7036-9af3-426f-befd-7c69f7ee1a79",
   "metadata": {},
   "outputs": [],
   "source": [
    "class TreeNode:\n",
    "    def __init__(self, data):\n",
    "        self.data = data\n",
    "        self.children = []\n",
    "        self.parent = None\n",
    "\n",
    "    def add_child(self, child):\n",
    "        child.parent = self\n",
    "        self.children.append(child)\n",
    "\n",
    "    def get_level(self):\n",
    "        level = 0\n",
    "        p = self.parent\n",
    "        while p:\n",
    "            level += 1\n",
    "            p = p.parent\n",
    "        return level\n",
    "        \n",
    "    def print_tree(self, hierarchy_level):\n",
    "        level = self.get_level()\n",
    "        spaces = ' ' * level*3\n",
    "        prefix = spaces + '|__' if level != 0 else ''\n",
    "        print(prefix + self.data)\n",
    "        if level == hierarchy_level:\n",
    "            return\n",
    "        for child in self.children:\n",
    "            child.print_tree(hierarchy_level)"
   ]
  },
  {
   "cell_type": "code",
   "execution_count": 103,
   "id": "61e71d39-9464-4e03-9e1d-ee31c6650abe",
   "metadata": {},
   "outputs": [],
   "source": [
    "root = TreeNode('Global')\n",
    "\n",
    "# root's children\n",
    "india = TreeNode('India')\n",
    "usa = TreeNode('USA')\n",
    "\n",
    "# india's children\n",
    "gujarat = TreeNode('Gujarat')\n",
    "karnataka = TreeNode('Karnataka')\n",
    "\n",
    "# gujarat's children\n",
    "ahmedabad = TreeNode('Ahmedabad')\n",
    "baroda = TreeNode('Baroda')\n",
    "\n",
    "# karnataka's children\n",
    "bangluru = TreeNode('Bangluru')\n",
    "mysore = TreeNode('Mysore')\n",
    "\n",
    "india.add_child(gujarat)\n",
    "india.add_child(karnataka)\n",
    "\n",
    "gujarat.add_child(ahmedabad)\n",
    "gujarat.add_child(baroda)\n",
    "\n",
    "karnataka.add_child(bangluru)\n",
    "karnataka.add_child(mysore)\n",
    "\n",
    "# USA's children\n",
    "new_jersey = TreeNode('New Jersey')\n",
    "california = TreeNode('California')\n",
    "\n",
    "# new jersey's children\n",
    "princeton = TreeNode('Princeton')\n",
    "trenton = TreeNode('Trenton')\n",
    "\n",
    "# california's children\n",
    "san_francisco = TreeNode('San Francisco')\n",
    "mountain_view = TreeNode('Mountain View')\n",
    "palo_alto = TreeNode('Palo Alto')\n",
    "\n",
    "usa.add_child(new_jersey)\n",
    "usa.add_child(california)\n",
    "\n",
    "new_jersey.add_child(princeton)\n",
    "new_jersey.add_child(trenton)\n",
    "\n",
    "california.add_child(san_francisco)\n",
    "california.add_child(mountain_view)\n",
    "california.add_child(palo_alto)\n",
    "\n",
    "root.add_child(india)\n",
    "root.add_child(usa)"
   ]
  },
  {
   "cell_type": "code",
   "execution_count": 104,
   "id": "63edb3e7-b2e8-4822-bc9f-2e6ae8ee4d97",
   "metadata": {},
   "outputs": [
    {
     "name": "stdout",
     "output_type": "stream",
     "text": [
      "Global\n"
     ]
    }
   ],
   "source": [
    "root.print_tree(0)"
   ]
  },
  {
   "cell_type": "code",
   "execution_count": 105,
   "id": "fd825815-a877-4147-b751-efb2be9f4549",
   "metadata": {},
   "outputs": [
    {
     "name": "stdout",
     "output_type": "stream",
     "text": [
      "Global\n",
      "   |__India\n",
      "   |__USA\n"
     ]
    }
   ],
   "source": [
    "root.print_tree(1)"
   ]
  },
  {
   "cell_type": "code",
   "execution_count": 106,
   "id": "ba99b49f-c78f-4323-af0f-71cd25c73caa",
   "metadata": {},
   "outputs": [
    {
     "name": "stdout",
     "output_type": "stream",
     "text": [
      "Global\n",
      "   |__India\n",
      "      |__Gujarat\n",
      "      |__Karnataka\n",
      "   |__USA\n",
      "      |__New Jersey\n",
      "      |__California\n"
     ]
    }
   ],
   "source": [
    "root.print_tree(2)"
   ]
  },
  {
   "cell_type": "code",
   "execution_count": 107,
   "id": "559678d7-6580-4588-aac4-8badd60e5572",
   "metadata": {},
   "outputs": [
    {
     "name": "stdout",
     "output_type": "stream",
     "text": [
      "Global\n",
      "   |__India\n",
      "      |__Gujarat\n",
      "         |__Ahmedabad\n",
      "         |__Baroda\n",
      "      |__Karnataka\n",
      "         |__Bangluru\n",
      "         |__Mysore\n",
      "   |__USA\n",
      "      |__New Jersey\n",
      "         |__Princeton\n",
      "         |__Trenton\n",
      "      |__California\n",
      "         |__San Francisco\n",
      "         |__Mountain View\n",
      "         |__Palo Alto\n"
     ]
    }
   ],
   "source": [
    "root.print_tree(3)"
   ]
  },
  {
   "cell_type": "code",
   "execution_count": null,
   "id": "a60c2c20-e28b-4554-83ae-5f0cdadd4b53",
   "metadata": {},
   "outputs": [],
   "source": []
  }
 ],
 "metadata": {
  "kernelspec": {
   "display_name": "Python 3 (ipykernel)",
   "language": "python",
   "name": "python3"
  },
  "language_info": {
   "codemirror_mode": {
    "name": "ipython",
    "version": 3
   },
   "file_extension": ".py",
   "mimetype": "text/x-python",
   "name": "python",
   "nbconvert_exporter": "python",
   "pygments_lexer": "ipython3",
   "version": "3.10.11"
  }
 },
 "nbformat": 4,
 "nbformat_minor": 5
}
