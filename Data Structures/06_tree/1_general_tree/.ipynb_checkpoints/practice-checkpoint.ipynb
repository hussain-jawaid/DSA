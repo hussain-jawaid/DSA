{
 "cells": [
  {
   "cell_type": "code",
   "execution_count": 4,
   "id": "76637612-324a-4ada-861a-e98ea5c0e435",
   "metadata": {},
   "outputs": [],
   "source": [
    "class TreeNode:\n",
    "    def __init__(self, data):\n",
    "        self.data = data\n",
    "        self.children = []\n",
    "        self.parent = None\n",
    "\n",
    "    def add_child(self, child):\n",
    "        child.parent = self\n",
    "        self.children.append(child)\n",
    "\n",
    "    def get_level(self):\n",
    "        level = 0\n",
    "        p = self.parent\n",
    "        while p:\n",
    "            level += 1\n",
    "            p = p.parent\n",
    "        return level\n",
    "\n",
    "    def __str__(self):\n",
    "        level = self.get_level()\n",
    "        spaces = ' ' * level * 3\n",
    "        prefix = spaces + \"|__\" if level != 0 else ''\n",
    "        print(prefix + self.data)\n",
    "        for child in self.children:\n",
    "            child.__str__()\n",
    "        return ''"
   ]
  },
  {
   "cell_type": "code",
   "execution_count": 5,
   "id": "320fa09f-8ed8-4787-8011-0006eb3ee719",
   "metadata": {},
   "outputs": [],
   "source": [
    "def build_tree():\n",
    "    # root node\n",
    "    root = TreeNode('Electronics')\n",
    "\n",
    "    # children of root node\n",
    "    laptops = TreeNode('Laptops')\n",
    "    cell_phones = TreeNode('Cell Phones')\n",
    "    tv = TreeNode('Televisions')\n",
    "\n",
    "    # make a relation between children and root node\n",
    "    root.add_child(laptops)\n",
    "    root.add_child(cell_phones)\n",
    "    root.add_child(tv)\n",
    "\n",
    "    laptops.add_child(TreeNode('Macbook'))\n",
    "    laptops.add_child(TreeNode('Microsoft Surface'))\n",
    "    laptops.add_child(TreeNode('Think Pad'))\n",
    "\n",
    "    cell_phones.add_child(TreeNode('iPhone'))\n",
    "    cell_phones.add_child(TreeNode('Google Pixel'))\n",
    "    cell_phones.add_child(TreeNode('ViVo'))\n",
    "\n",
    "    tv.add_child(TreeNode('Samsung'))\n",
    "    tv.add_child(TreeNode('LG'))\n",
    "\n",
    "    return root"
   ]
  },
  {
   "cell_type": "code",
   "execution_count": 6,
   "id": "6a5ef3b7-231f-4c76-87a0-e8b60c253ff4",
   "metadata": {},
   "outputs": [
    {
     "name": "stdout",
     "output_type": "stream",
     "text": [
      "Electronics\n",
      "   |__Laptops\n",
      "      |__Macbook\n",
      "      |__Microsoft Surface\n",
      "      |__Think Pad\n",
      "   |__Cell Phones\n",
      "      |__iPhone\n",
      "      |__Google Pixel\n",
      "      |__ViVo\n",
      "   |__Televisions\n",
      "      |__Samsung\n",
      "      |__LG\n",
      "\n"
     ]
    }
   ],
   "source": [
    "if __name__ == '__main__':\n",
    "    root = build_tree()\n",
    "    print(root)\n",
    "    pass"
   ]
  },
  {
   "cell_type": "code",
   "execution_count": null,
   "id": "adf796df-06d5-4a0c-96b7-a4688e3375ba",
   "metadata": {},
   "outputs": [],
   "source": []
  }
 ],
 "metadata": {
  "kernelspec": {
   "display_name": "Python 3 (ipykernel)",
   "language": "python",
   "name": "python3"
  },
  "language_info": {
   "codemirror_mode": {
    "name": "ipython",
    "version": 3
   },
   "file_extension": ".py",
   "mimetype": "text/x-python",
   "name": "python",
   "nbconvert_exporter": "python",
   "pygments_lexer": "ipython3",
   "version": "3.10.11"
  }
 },
 "nbformat": 4,
 "nbformat_minor": 5
}
