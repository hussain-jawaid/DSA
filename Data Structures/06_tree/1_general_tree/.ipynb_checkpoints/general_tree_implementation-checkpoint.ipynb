{
 "cells": [
  {
   "cell_type": "code",
   "execution_count": 7,
   "id": "6bcb19d0-1a9b-4be6-b612-4bdc3dfa4ea1",
   "metadata": {},
   "outputs": [],
   "source": [
    "class TreeNode:\n",
    "    def __init__(self, data):\n",
    "        self.data = data\n",
    "        self.children = []\n",
    "        self.parent = None\n",
    "\n",
    "    def add_child(self, child):\n",
    "        child.parent = self\n",
    "        self.children.append(child)\n",
    "\n",
    "    def get_level(self):\n",
    "        level = 0\n",
    "        p = self.parent\n",
    "        while p:\n",
    "            level += 1\n",
    "            p = p.parent\n",
    "        return level\n",
    "\n",
    "    def print_tree(self):\n",
    "        level = self.get_level()\n",
    "        spaces = ' ' * level*3\n",
    "        prefix = spaces + '|__' if level != 0 else ''\n",
    "        print(prefix, self.data)\n",
    "        for child in self.children:\n",
    "            child.print_tree()\n",
    "\n",
    "def build_product_tree():\n",
    "    root = TreeNode('Electronics')\n",
    "\n",
    "    laptop = TreeNode('Laptop')\n",
    "    laptop.add_child(TreeNode('Macbook'))\n",
    "    laptop.add_child(TreeNode('Microsoft Surface'))\n",
    "    laptop.add_child(TreeNode('Think pad'))\n",
    "\n",
    "    cell_phone = TreeNode('Cell Phone')\n",
    "    cell_phone.add_child(TreeNode('iPhone'))\n",
    "    cell_phone.add_child(TreeNode('Google Pixel'))\n",
    "    cell_phone.add_child(TreeNode('ViVo'))\n",
    "\n",
    "    tv = TreeNode('Television')\n",
    "    tv.add_child(TreeNode('Samsung'))\n",
    "    tv.add_child(TreeNode('LG'))\n",
    "\n",
    "    root.add_child(laptop)\n",
    "    root.add_child(cell_phone)\n",
    "    root.add_child(tv)\n",
    "\n",
    "    return root.print_tree()"
   ]
  },
  {
   "cell_type": "code",
   "execution_count": 8,
   "id": "6d981ba0-24f8-4cc3-84d3-b387bf31c01e",
   "metadata": {},
   "outputs": [
    {
     "name": "stdout",
     "output_type": "stream",
     "text": [
      " Electronics\n",
      "   |__ Laptop\n",
      "      |__ Macbook\n",
      "      |__ Microsoft Surface\n",
      "      |__ Think pad\n",
      "   |__ Cell Phone\n",
      "      |__ iPhone\n",
      "      |__ Google Pixel\n",
      "      |__ ViVo\n",
      "   |__ Television\n",
      "      |__ Samsung\n",
      "      |__ LG\n"
     ]
    }
   ],
   "source": [
    "if __name__ == '__main__':\n",
    "    build_product_tree()"
   ]
  },
  {
   "cell_type": "code",
   "execution_count": null,
   "id": "1a21f580-7c8f-4fb1-ab7d-7142dc41d7d0",
   "metadata": {},
   "outputs": [],
   "source": []
  }
 ],
 "metadata": {
  "kernelspec": {
   "display_name": "Python 3 (ipykernel)",
   "language": "python",
   "name": "python3"
  },
  "language_info": {
   "codemirror_mode": {
    "name": "ipython",
    "version": 3
   },
   "file_extension": ".py",
   "mimetype": "text/x-python",
   "name": "python",
   "nbconvert_exporter": "python",
   "pygments_lexer": "ipython3",
   "version": "3.10.11"
  }
 },
 "nbformat": 4,
 "nbformat_minor": 5
}
