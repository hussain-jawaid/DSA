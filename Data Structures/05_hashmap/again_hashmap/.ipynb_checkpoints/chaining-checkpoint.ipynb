{
 "cells": [
  {
   "cell_type": "code",
   "execution_count": 94,
   "id": "8cac0d56-1240-4232-b68e-32dfec0d2879",
   "metadata": {},
   "outputs": [],
   "source": [
    "class Node:\n",
    "    def __init__(self, key, value):\n",
    "        self.key = key\n",
    "        self.value = value\n",
    "        self.next = None"
   ]
  },
  {
   "cell_type": "code",
   "execution_count": 134,
   "id": "48af5d04-fdbd-40c5-af16-4e41fab11141",
   "metadata": {},
   "outputs": [],
   "source": [
    "class LinkedList:\n",
    "    def __init__(self):\n",
    "        self.head = None\n",
    "\n",
    "    def append(self, key, value):\n",
    "        new_node = Node(key, value)\n",
    "        curr = self.head\n",
    "        if curr == None:\n",
    "            self.head = new_node\n",
    "            return True\n",
    "        while curr:\n",
    "            if curr.key == key:\n",
    "                curr.value = value\n",
    "                return False\n",
    "            if curr.next == None:\n",
    "                curr.next = new_node\n",
    "                return True\n",
    "            curr = curr.next\n",
    "\n",
    "    def remove(self, key):\n",
    "        curr = self.head\n",
    "        if not curr: raise KeyError(key)\n",
    "            \n",
    "        if curr.key == key: \n",
    "            self.head = self.head.next\n",
    "            return\n",
    "            \n",
    "        while curr.next:\n",
    "            if curr.next.key == key:\n",
    "                curr.next = curr.next.next\n",
    "                return\n",
    "            curr = curr.next\n",
    "        raise KeyError(key) \n",
    "\n",
    "    def value_of(self, key):\n",
    "        curr = self.head\n",
    "            \n",
    "        while curr:\n",
    "            if curr.key == key:\n",
    "                return curr.value\n",
    "            curr = curr.next\n",
    "        raise KeyError(key)"
   ]
  },
  {
   "cell_type": "code",
   "execution_count": 192,
   "id": "51b073c8-b1cb-4a26-ad90-8c4477563b43",
   "metadata": {},
   "outputs": [],
   "source": [
    "class HashTable:\n",
    "    def __init__(self, size):\n",
    "        self.size = size\n",
    "        self.arr = [LinkedList() for _ in range(self.size)]\n",
    "        self.count = 0\n",
    "\n",
    "    def __get_hash(self, key):\n",
    "        return abs(hash(key)) % self.size\n",
    "\n",
    "    def __setitem__(self, key, value):\n",
    "        if self._load_factor() >= 2:\n",
    "            self.__rehashing()\n",
    "        h = self.__get_hash(key)\n",
    "        ll = self.arr[h]\n",
    "        if ll.append(key, value):\n",
    "            self.count += 1\n",
    "\n",
    "    def __getitem__(self, key):\n",
    "        h = self.__get_hash(key)\n",
    "        ll = self.arr[h]\n",
    "        return ll.value_of(key)\n",
    "\n",
    "    def __delitem__(self, key):\n",
    "        h = self.__get_hash(key)\n",
    "        ll = self.arr[h]\n",
    "        ll.remove(key)\n",
    "        self.count -= 1\n",
    "\n",
    "    def __str__(self):\n",
    "        result = ''\n",
    "        for ll in self.arr:\n",
    "            curr = ll.head\n",
    "            while curr:\n",
    "                result = f\"{result}{curr.key} : {curr.value}, \"\n",
    "                curr = curr.next\n",
    "        return f\"{{ {result[:-2]} }}\"\n",
    "\n",
    "    def __len__(self):\n",
    "        return self.count\n",
    "\n",
    "    def _load_factor(self):\n",
    "        return round(self.count/self.size, 2)\n",
    "\n",
    "    def __rehashing(self):\n",
    "        old_arr = self.arr\n",
    "        self.size *= 2\n",
    "        self.arr = [LinkedList() for _ in range(self.size)]\n",
    "        self.count = 0\n",
    "        for ll in old_arr:\n",
    "            curr = ll.head\n",
    "            while curr:\n",
    "                self.__setitem__(curr.key, curr.value)\n",
    "                curr = curr.next"
   ]
  },
  {
   "cell_type": "code",
   "execution_count": 193,
   "id": "650b5bb2-c35d-440c-90a9-f63088e2ca3e",
   "metadata": {},
   "outputs": [],
   "source": [
    "ht = HashTable(3)"
   ]
  },
  {
   "cell_type": "code",
   "execution_count": 198,
   "id": "e29784f8-1fc7-405d-95fa-e935e1f98fd1",
   "metadata": {},
   "outputs": [
    {
     "data": {
      "text/plain": [
       "[<__main__.LinkedList at 0x2354db96ce0>,\n",
       " <__main__.LinkedList at 0x2354db97df0>,\n",
       " <__main__.LinkedList at 0x2354db96860>,\n",
       " <__main__.LinkedList at 0x2354db97fd0>,\n",
       " <__main__.LinkedList at 0x2354db97cd0>,\n",
       " <__main__.LinkedList at 0x2354db96740>]"
      ]
     },
     "execution_count": 198,
     "metadata": {},
     "output_type": "execute_result"
    }
   ],
   "source": [
    "ht.arr"
   ]
  },
  {
   "cell_type": "code",
   "execution_count": 197,
   "id": "5e8a5538-01e1-4d27-98cf-62bf1570d002",
   "metadata": {},
   "outputs": [
    {
     "data": {
      "text/plain": [
       "1.67"
      ]
     },
     "execution_count": 197,
     "metadata": {},
     "output_type": "execute_result"
    }
   ],
   "source": [
    "ht._load_factor()"
   ]
  },
  {
   "cell_type": "code",
   "execution_count": 196,
   "id": "810b48fb-6ed7-42ae-bac6-0865d13800c7",
   "metadata": {},
   "outputs": [],
   "source": [
    "for i in range(1, 11):\n",
    "    ht[f'march {i}'] = 100"
   ]
  },
  {
   "cell_type": "code",
   "execution_count": 191,
   "id": "2a6ab0fe-29eb-494a-8c5b-ec7126976acb",
   "metadata": {},
   "outputs": [
    {
     "name": "stdout",
     "output_type": "stream",
     "text": [
      "{ march 9 : 100, march 6 : 100, 3 : 130, march 5 : 100, 4 : 140, 5 : 150, march 10 : 100, march 4 : 100, march 8 : 100, march 1 : 100, march 7 : 100, march 2 : 100, march 3 : 100 }\n"
     ]
    }
   ],
   "source": [
    "print(ht)"
   ]
  },
  {
   "cell_type": "code",
   "execution_count": 173,
   "id": "04b68e69-4481-4480-aeb0-c4666f259bd9",
   "metadata": {},
   "outputs": [
    {
     "data": {
      "text/plain": [
       "6"
      ]
     },
     "execution_count": 173,
     "metadata": {},
     "output_type": "execute_result"
    }
   ],
   "source": [
    "len(ht)"
   ]
  },
  {
   "cell_type": "code",
   "execution_count": 168,
   "id": "fd2555e8-ffdd-4806-8dbc-84386e32917d",
   "metadata": {},
   "outputs": [],
   "source": [
    "ht['march 1'] = 200"
   ]
  },
  {
   "cell_type": "code",
   "execution_count": 125,
   "id": "c7de72a2-5cce-4086-8858-39078be38b2d",
   "metadata": {},
   "outputs": [
    {
     "data": {
      "text/plain": [
       "200"
      ]
     },
     "execution_count": 125,
     "metadata": {},
     "output_type": "execute_result"
    }
   ],
   "source": [
    "ht['march 1']"
   ]
  },
  {
   "cell_type": "code",
   "execution_count": 186,
   "id": "5051d16b-4d4f-497c-b955-139d6718c987",
   "metadata": {},
   "outputs": [],
   "source": [
    "ht[5] = 150\n",
    "ht[4] = 140\n",
    "ht[3] = 130"
   ]
  },
  {
   "cell_type": "code",
   "execution_count": 115,
   "id": "489be267-26b3-4b33-a6e7-6fca45c25cfd",
   "metadata": {},
   "outputs": [],
   "source": [
    "del ht[4]"
   ]
  },
  {
   "cell_type": "code",
   "execution_count": 130,
   "id": "486cbc40-0243-4c07-96e8-68fb7f31276b",
   "metadata": {},
   "outputs": [],
   "source": [
    "ht[3] = 230"
   ]
  },
  {
   "cell_type": "code",
   "execution_count": null,
   "id": "4d652b8b-6755-4bcc-a777-521786d79bb2",
   "metadata": {},
   "outputs": [],
   "source": []
  }
 ],
 "metadata": {
  "kernelspec": {
   "display_name": "Python 3 (ipykernel)",
   "language": "python",
   "name": "python3"
  },
  "language_info": {
   "codemirror_mode": {
    "name": "ipython",
    "version": 3
   },
   "file_extension": ".py",
   "mimetype": "text/x-python",
   "name": "python",
   "nbconvert_exporter": "python",
   "pygments_lexer": "ipython3",
   "version": "3.10.11"
  }
 },
 "nbformat": 4,
 "nbformat_minor": 5
}
