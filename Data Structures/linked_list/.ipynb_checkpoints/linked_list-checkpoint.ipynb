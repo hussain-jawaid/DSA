{
 "cells": [
  {
   "cell_type": "code",
   "execution_count": 5,
   "id": "c731d709-31d0-488a-b4b1-8bc8610d751f",
   "metadata": {},
   "outputs": [],
   "source": [
    "class Node:\n",
    "    def __init__(self, data):\n",
    "        self.data = data\n",
    "        self.next = None"
   ]
  },
  {
   "cell_type": "code",
   "execution_count": 1,
   "id": "1a579e7e-0cc3-44a7-a935-1069a1c82c1b",
   "metadata": {},
   "outputs": [],
   "source": [
    "class LinkedList:\n",
    "    def __init__(self):\n",
    "        self.head = None\n",
    "        self.n = 0\n",
    "\n",
    "    def __str__(self):\n",
    "        result = ''\n",
    "        curr = self.head\n",
    "        while curr:\n",
    "            result = f\"{result}{curr.data}\"\n",
    "            curr = curr.next\n",
    "        return result\n",
    "        \n",
    "    def __len__(self):\n",
    "        return self.n\n",
    "\n",
    "    def prepend(self, data):\n",
    "        new_node = Node(data)\n",
    "        new_node.next = self.head\n",
    "        self.head = new_node\n",
    "        self.n += 1\n",
    "\n",
    "    def append(self, data):\n",
    "        new_node = Node(data)\n",
    "        curr = self.head\n",
    "        if curr == None:\n",
    "            self.head = new_node\n",
    "            self.n += 1\n",
    "        else:\n",
    "            while curr:\n",
    "                if curr.next == None:\n",
    "                    curr.next = new_node\n",
    "                    self.n += 1\n",
    "                    return\n",
    "                curr = curr.next\n",
    "\n",
    "    def insert_after(self, after, data):\n",
    "        new_node = Node(data)\n",
    "        curr = self.head\n",
    "        if curr == None:\n",
    "            self.head = new_node\n",
    "            self.n += 1\n",
    "        else:\n",
    "            while curr:\n",
    "                if curr.data == after:\n",
    "                    curr.next, new_node.next = new_node, curr.next\n",
    "                    self.n+=1\n",
    "                    return\n",
    "                curr = curr.next\n",
    "        raise ValueError(f\"Value not found\")\n",
    "\n",
    "    def clear(self):\n",
    "        self.head = None\n",
    "        self.n = 0\n",
    "\n",
    "    def remove_first(self):\n",
    "        if self.head == None: return\n",
    "        self.head = self.head.next\n",
    "        self.n -= 1\n",
    "        \n",
    "    def remove_last(self):\n",
    "        curr = self.head\n",
    "        while curr:\n",
    "            if curr.next == None:\n",
    "                self.head = None\n",
    "            elif curr.next.next == None:\n",
    "                curr.next = None\n",
    "            curr = curr.next\n",
    "        self.n -= 1\n",
    "\n",
    "    def remove(self, value):\n",
    "        curr = self.head\n",
    "        if not curr: raise ValueError(\"Value not found\")\n",
    "            \n",
    "        if curr.data == value: \n",
    "            self.remove_first()\n",
    "            return\n",
    "            \n",
    "        while curr.next:\n",
    "            if curr.next.data == value:\n",
    "                curr.next = curr.next.next\n",
    "                self.n -= 1\n",
    "                return\n",
    "            curr = curr.next\n",
    "        raise ValueError(\"Value not found\")\n",
    "\n",
    "    def __delitem__(self, index):\n",
    "        curr = self.head\n",
    "        if not curr: raise Exception(\"Linked List is empty\")\n",
    "\n",
    "        if index < 0:\n",
    "            index += self.n\n",
    "        i = 0\n",
    "        while curr:\n",
    "            if index == i:\n",
    "                self.remove(curr.data)\n",
    "                return\n",
    "            curr = curr.next\n",
    "            i += 1\n",
    "        raise IndexError(\"Index not in range\")\n",
    "\n",
    "    def index_of(self, value):\n",
    "        curr = self.head\n",
    "        i = 0\n",
    "        if not curr: raise ValueError(\"Value not found\")\n",
    "\n",
    "        while curr:\n",
    "            if curr.data == value: return i\n",
    "            curr = curr.next\n",
    "            i += 1\n",
    "        raise ValueError(\"Value not found\") \n",
    "\n",
    "    def __getitem__(self, index):\n",
    "        curr = self.head\n",
    "        if not curr: raise Exception(\"Linked List is empty\")\n",
    "        \n",
    "        if index < 0:\n",
    "            index += self.n\n",
    "        i = 0\n",
    "        while curr:\n",
    "            if i == index:\n",
    "                return curr.data\n",
    "            curr = curr.next\n",
    "            i += 1\n",
    "        raise IndexError(\"Index not in range\")\n",
    "\n",
    "    def replace_largest(self, value):\n",
    "        curr = self.head\n",
    "        replace_node = curr\n",
    "        while curr.next:\n",
    "            if curr.next.data > replace_node.data:\n",
    "                replace_node = curr.next\n",
    "            curr = curr.next\n",
    "        replace_node.data = value\n",
    "\n",
    "    def sum_at_odd_indices(self):\n",
    "        total = 0\n",
    "        i = 0\n",
    "        curr = self.head\n",
    "        while curr:\n",
    "            if i % 2 != 0:\n",
    "                total += curr.data\n",
    "            curr = curr.next\n",
    "            i+=1\n",
    "        return total\n",
    "\n",
    "    def reverse(self):\n",
    "        curr_node = self.head\n",
    "        prev_node = None\n",
    "\n",
    "        while curr_node:\n",
    "            next_node = curr_node.next\n",
    "            curr_node.next = prev_node\n",
    "            prev_node = curr_node\n",
    "            curr_node = next_node\n",
    "        self.head = prev_node\n",
    "\n",
    "    def format_sentence_style(self):\n",
    "        curr_node = self.head\n",
    "        while curr_node:\n",
    "            if curr_node.data == '/' or curr_node.data == '*':\n",
    "                curr_node.data = ' '\n",
    "\n",
    "                if curr_node.next.data == '/' or curr_node.next.data == '*':\n",
    "                    curr_node.next.next.data = curr_node.next.next.data.upper()\n",
    "                    curr_node.next = curr_node.next.next\n",
    "            curr_node = curr_node.next"
   ]
  },
  {
   "cell_type": "code",
   "execution_count": 7,
   "id": "6d457621-6888-4699-b0f4-d010356b0b52",
   "metadata": {},
   "outputs": [],
   "source": [
    "word_list = LinkedList()"
   ]
  },
  {
   "cell_type": "code",
   "execution_count": 159,
   "id": "a2b87fd8-c2db-4fdf-b943-91d844dc78fc",
   "metadata": {},
   "outputs": [],
   "source": [
    "word_list.append('T')\n",
    "word_list.append('h')\n",
    "word_list.append('e')\n",
    "word_list.append('/')\n",
    "word_list.append('*')\n",
    "word_list.append('s')\n",
    "word_list.append('k')\n",
    "word_list.append('y')\n",
    "word_list.append('*')\n",
    "word_list.append('i')\n",
    "word_list.append('s')\n",
    "word_list.append('/')\n",
    "word_list.append('/')\n",
    "word_list.append('b')\n",
    "word_list.append('l')\n",
    "word_list.append('u')\n",
    "word_list.append('e')"
   ]
  },
  {
   "cell_type": "code",
   "execution_count": 160,
   "id": "a475828b-1a5f-47d5-bad0-29d9dfa7a504",
   "metadata": {},
   "outputs": [
    {
     "name": "stdout",
     "output_type": "stream",
     "text": [
      "The/*sky*is//blue\n"
     ]
    }
   ],
   "source": [
    "print(word_list)"
   ]
  },
  {
   "cell_type": "code",
   "execution_count": 161,
   "id": "efa8fda7-4e27-4a97-9fc0-23f64e0765fb",
   "metadata": {},
   "outputs": [],
   "source": [
    "word_list.format_sentence_style()"
   ]
  },
  {
   "cell_type": "code",
   "execution_count": 162,
   "id": "dfedd176-8918-4aee-be8c-862372e7cef4",
   "metadata": {},
   "outputs": [
    {
     "name": "stdout",
     "output_type": "stream",
     "text": [
      "The Sky is Blue\n"
     ]
    }
   ],
   "source": [
    "print(word_list)"
   ]
  },
  {
   "cell_type": "code",
   "execution_count": 8,
   "id": "1579bf8e-c8b4-47c9-b1b6-7ec82efee948",
   "metadata": {},
   "outputs": [],
   "source": [
    "l = LinkedList()"
   ]
  },
  {
   "cell_type": "code",
   "execution_count": 9,
   "id": "1138402a-5411-4aca-ac67-dc16a50611c9",
   "metadata": {},
   "outputs": [],
   "source": [
    "l.prepend(1)\n",
    "l.prepend(2)\n",
    "l.prepend(3)\n",
    "l.prepend(4)"
   ]
  },
  {
   "cell_type": "code",
   "execution_count": 10,
   "id": "b8250da3-e32f-4751-a8fd-515aa00faed7",
   "metadata": {},
   "outputs": [
    {
     "data": {
      "text/plain": [
       "4"
      ]
     },
     "execution_count": 10,
     "metadata": {},
     "output_type": "execute_result"
    }
   ],
   "source": [
    "len(l)"
   ]
  },
  {
   "cell_type": "code",
   "execution_count": 15,
   "id": "5955cfb6-984e-4e6d-9f09-2618d86516a9",
   "metadata": {},
   "outputs": [
    {
     "name": "stdout",
     "output_type": "stream",
     "text": [
      "435215\n"
     ]
    }
   ],
   "source": [
    "print(l)"
   ]
  },
  {
   "cell_type": "code",
   "execution_count": 14,
   "id": "df2221fd-faf5-4ff6-8a9f-20213c73ced4",
   "metadata": {},
   "outputs": [],
   "source": [
    "l.insert_after(1, 5)"
   ]
  },
  {
   "cell_type": "code",
   "execution_count": 26,
   "id": "5a3f356f-9442-48da-8482-e935f491e701",
   "metadata": {},
   "outputs": [],
   "source": [
    "l.reverse()"
   ]
  },
  {
   "cell_type": "code",
   "execution_count": 163,
   "id": "ed5ea5cf-da42-451e-aa5c-ee7617585342",
   "metadata": {},
   "outputs": [
    {
     "data": {
      "text/plain": [
       "9"
      ]
     },
     "execution_count": 163,
     "metadata": {},
     "output_type": "execute_result"
    }
   ],
   "source": [
    "l.sum_odd_nodes()"
   ]
  },
  {
   "cell_type": "code",
   "execution_count": 153,
   "id": "b0a2aa33-aa2b-4860-a22c-ff65551a18a5",
   "metadata": {},
   "outputs": [],
   "source": [
    "l.replace_max(1)"
   ]
  },
  {
   "cell_type": "code",
   "execution_count": 42,
   "id": "fed58ed6-0322-46f0-971f-cffef7492d6d",
   "metadata": {},
   "outputs": [],
   "source": [
    "del l[-2]"
   ]
  },
  {
   "cell_type": "code",
   "execution_count": 17,
   "id": "b3880aa1-3ba7-4046-aa4f-b01e460fe8cf",
   "metadata": {},
   "outputs": [
    {
     "data": {
      "text/plain": [
       "4"
      ]
     },
     "execution_count": 17,
     "metadata": {},
     "output_type": "execute_result"
    }
   ],
   "source": [
    "l[-4]"
   ]
  },
  {
   "cell_type": "code",
   "execution_count": 155,
   "id": "4633cd50-2d51-47c9-a230-2938f6fbefc8",
   "metadata": {},
   "outputs": [
    {
     "data": {
      "text/plain": [
       "2"
      ]
     },
     "execution_count": 155,
     "metadata": {},
     "output_type": "execute_result"
    }
   ],
   "source": [
    "l.index(2)"
   ]
  },
  {
   "cell_type": "code",
   "execution_count": 140,
   "id": "abc18354-9720-4578-9d31-0f2ca1a7113f",
   "metadata": {},
   "outputs": [],
   "source": [
    "l.remove(1)"
   ]
  },
  {
   "cell_type": "code",
   "execution_count": 92,
   "id": "a3886f21-addf-4025-af60-eb22bc7f51fc",
   "metadata": {},
   "outputs": [],
   "source": [
    "l.pop()"
   ]
  },
  {
   "cell_type": "code",
   "execution_count": 54,
   "id": "772758df-9bfa-40ed-97da-d2104731b7cc",
   "metadata": {},
   "outputs": [],
   "source": [
    "l.delete_head()"
   ]
  },
  {
   "cell_type": "code",
   "execution_count": 42,
   "id": "5ea33a0a-3b14-44bf-87a2-b65d2585f9e7",
   "metadata": {},
   "outputs": [],
   "source": [
    "l.clear()"
   ]
  },
  {
   "cell_type": "code",
   "execution_count": 28,
   "id": "6a3f1269-ac74-44c7-bc81-8ae9a1edf328",
   "metadata": {},
   "outputs": [],
   "source": [
    "l.insert(4, 5)"
   ]
  },
  {
   "cell_type": "code",
   "execution_count": 15,
   "id": "13c91bdb-65d1-4d54-a9f6-dd5a5cc309c4",
   "metadata": {},
   "outputs": [],
   "source": [
    "l.append('hello')"
   ]
  },
  {
   "cell_type": "code",
   "execution_count": null,
   "id": "56cb756b-8ab3-4d1d-a190-c35c3d327eab",
   "metadata": {},
   "outputs": [],
   "source": []
  }
 ],
 "metadata": {
  "kernelspec": {
   "display_name": "Python 3 (ipykernel)",
   "language": "python",
   "name": "python3"
  },
  "language_info": {
   "codemirror_mode": {
    "name": "ipython",
    "version": 3
   },
   "file_extension": ".py",
   "mimetype": "text/x-python",
   "name": "python",
   "nbconvert_exporter": "python",
   "pygments_lexer": "ipython3",
   "version": "3.10.11"
  }
 },
 "nbformat": 4,
 "nbformat_minor": 5
}
