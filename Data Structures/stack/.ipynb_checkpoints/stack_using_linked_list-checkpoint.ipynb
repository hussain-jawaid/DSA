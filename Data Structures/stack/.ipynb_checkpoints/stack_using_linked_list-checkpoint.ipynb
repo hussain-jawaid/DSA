{
 "cells": [
  {
   "cell_type": "code",
   "execution_count": 22,
   "id": "b7684b88-e788-4b14-8752-9c968adb920f",
   "metadata": {},
   "outputs": [],
   "source": [
    "class Node:\n",
    "    def __init__(self, data):\n",
    "        self.data = data\n",
    "        self.next = None"
   ]
  },
  {
   "cell_type": "code",
   "execution_count": 23,
   "id": "585cfb93-c61f-47aa-ad94-0d78a955c832",
   "metadata": {},
   "outputs": [],
   "source": [
    "class Stack:\n",
    "    def __init__(self):\n",
    "        self.top = None\n",
    "        self.n = 0\n",
    "\n",
    "    def __len__(self):\n",
    "        return self.n\n",
    "\n",
    "    def is_empty(self):\n",
    "        return self.top is None\n",
    "\n",
    "    def push(self, data):\n",
    "        new_node = Node(data)\n",
    "        if self.is_empty():\n",
    "            self.top = new_node\n",
    "        else:\n",
    "            new_node.next = self.top\n",
    "            self.top = new_node\n",
    "        self.n += 1\n",
    "        return\n",
    "\n",
    "    def pop(self):\n",
    "        if self.is_empty():\n",
    "            raise Exception(\"Stack is empty\")\n",
    "        value = self.top.data\n",
    "        self.top = self.top.next\n",
    "        self.n -= 1\n",
    "        return value\n",
    "\n",
    "    def peek(self):\n",
    "        if self.is_empty():\n",
    "            raise Exception(\"Stack is empty\")\n",
    "        return self.top.data\n",
    "\n",
    "    def traverse(self):\n",
    "        curr = self.top\n",
    "\n",
    "        while curr:\n",
    "            print(curr.data)\n",
    "            curr = curr.next\n",
    "\n",
    "    def reverse(self):\n",
    "        curr = self.top\n",
    "        prev = None\n",
    "\n",
    "        while curr:\n",
    "            next_node = curr.next\n",
    "            curr.next = prev\n",
    "            prev = curr\n",
    "            curr = next_node\n",
    "        self.top = prev  "
   ]
  },
  {
   "cell_type": "code",
   "execution_count": 3,
   "id": "bfdcf4b5-1796-4873-b1af-0d39927fb23d",
   "metadata": {},
   "outputs": [],
   "source": [
    "s = Stack()"
   ]
  },
  {
   "cell_type": "code",
   "execution_count": 83,
   "id": "a63db56b-2bca-45f3-824a-862b13a0994f",
   "metadata": {},
   "outputs": [],
   "source": [
    "def text_editor(text, pattern):\n",
    "    undo = Stack()\n",
    "    redo = Stack()\n",
    "\n",
    "    for i in text:\n",
    "        undo.push(i)\n",
    "    for i in pattern:\n",
    "        if i == 'u':\n",
    "            redo.push(undo.pop())\n",
    "        else:\n",
    "            undo.push(redo.pop())\n",
    "    \n",
    "    result = ''\n",
    "    while not undo.is_empty():\n",
    "        result = undo.pop() + result\n",
    "    return result"
   ]
  },
  {
   "cell_type": "code",
   "execution_count": 66,
   "id": "cb266621-9cd5-4b24-9d11-6139396dc7a5",
   "metadata": {},
   "outputs": [
    {
     "data": {
      "text/plain": [
       "'hello'"
      ]
     },
     "execution_count": 66,
     "metadata": {},
     "output_type": "execute_result"
    }
   ],
   "source": [
    "text_editor('hello', 'urururur')"
   ]
  },
  {
   "cell_type": "code",
   "execution_count": 55,
   "id": "2c0c7adc-e0f5-4a3c-bb75-b903d86558d8",
   "metadata": {},
   "outputs": [
    {
     "data": {
      "text/plain": [
       "0"
      ]
     },
     "execution_count": 55,
     "metadata": {},
     "output_type": "execute_result"
    }
   ],
   "source": [
    "len(s)"
   ]
  },
  {
   "cell_type": "code",
   "execution_count": 56,
   "id": "c154f9b5-1938-43a2-8d5b-c68890890f81",
   "metadata": {},
   "outputs": [
    {
     "data": {
      "text/plain": [
       "True"
      ]
     },
     "execution_count": 56,
     "metadata": {},
     "output_type": "execute_result"
    }
   ],
   "source": [
    "s.is_empty()"
   ]
  },
  {
   "cell_type": "code",
   "execution_count": 57,
   "id": "8ca9864c-0f34-42a5-b6a7-c72042ca1eec",
   "metadata": {},
   "outputs": [],
   "source": [
    "for i in 'Hello':\n",
    "    s.push(i)"
   ]
  },
  {
   "cell_type": "code",
   "execution_count": 76,
   "id": "37838dfa-c7de-42c3-bdc1-28fbfe46fbb0",
   "metadata": {},
   "outputs": [],
   "source": [
    "s.push(1)\n",
    "s.push(2)\n",
    "s.push(3)\n",
    "s.push(4)"
   ]
  },
  {
   "cell_type": "code",
   "execution_count": 84,
   "id": "372b96e6-4d11-4c0f-a586-1c1a3a4b5bbe",
   "metadata": {},
   "outputs": [],
   "source": [
    "s.traverse()"
   ]
  },
  {
   "cell_type": "code",
   "execution_count": 85,
   "id": "e023afb8-2913-493f-bcfb-2deacb9240c6",
   "metadata": {},
   "outputs": [],
   "source": [
    "s.reverse()"
   ]
  },
  {
   "cell_type": "code",
   "execution_count": 6,
   "id": "9f6898b5-c015-4397-9aba-176748c66569",
   "metadata": {},
   "outputs": [],
   "source": [
    "L = [\n",
    "    [0, 0, 1, 1],\n",
    "    [0, 0, 1, 1],\n",
    "    [0, 1, 0, 1],\n",
    "    [0, 0, 0, 0],\n",
    "]"
   ]
  },
  {
   "cell_type": "code",
   "execution_count": 7,
   "id": "7aee0b26-c609-47c3-8b75-fe762ede0d0f",
   "metadata": {},
   "outputs": [],
   "source": [
    "def find_celebrity(L):\n",
    "    s = Stack()\n",
    "    for i in range(len(L)):\n",
    "        s.push(i)\n",
    "        \n",
    "    while len(s) >= 2:\n",
    "        i = s.pop()\n",
    "        j = s.pop()\n",
    "        \n",
    "        if L[i][j] == 1:\n",
    "            s.push(j)\n",
    "        else:\n",
    "            s.push(i)\n",
    "\n",
    "    celeb = s.peek() \n",
    "    for i in range(len(L)):\n",
    "        if i != celeb:\n",
    "            if L[i][celeb] == 0:\n",
    "                return None\n",
    "    return celeb\n",
    "            "
   ]
  },
  {
   "cell_type": "code",
   "execution_count": 8,
   "id": "fac2e0d1-57a8-4ab4-a2b3-2584b880fd18",
   "metadata": {},
   "outputs": [
    {
     "data": {
      "text/plain": [
       "3"
      ]
     },
     "execution_count": 8,
     "metadata": {},
     "output_type": "execute_result"
    }
   ],
   "source": [
    "find_celebrity(L)"
   ]
  },
  {
   "cell_type": "code",
   "execution_count": 46,
   "id": "418b9592-78bc-4268-89cf-d3a912e267de",
   "metadata": {},
   "outputs": [],
   "source": [
    "expe =  '[{(a + b) + (c + d)}]' # True"
   ]
  },
  {
   "cell_type": "code",
   "execution_count": 47,
   "id": "32b40454-66e8-403c-bd8f-05ac5d407184",
   "metadata": {},
   "outputs": [],
   "source": [
    "def brackets_is_managed(expe):\n",
    "    s = Stack()\n",
    "    for i in expe:\n",
    "        if i in ['[', '{', '(']:\n",
    "           s.push(i)\n",
    "        elif i in [')', '}', ']']:\n",
    "            if len(s) == 0: return False\n",
    "            bracket = s.peek()\n",
    "            if i == ')' and bracket == '(':\n",
    "                s.pop()\n",
    "            elif i == '}' and bracket == '{':\n",
    "                s.pop()\n",
    "            elif i == ']' and bracket == '[':\n",
    "                s.pop()\n",
    "            else: return False\n",
    "    return len(s) == 0"
   ]
  },
  {
   "cell_type": "code",
   "execution_count": 48,
   "id": "c1be5259-7335-40d6-babe-4f22cf37c76d",
   "metadata": {},
   "outputs": [
    {
     "data": {
      "text/plain": [
       "True"
      ]
     },
     "execution_count": 48,
     "metadata": {},
     "output_type": "execute_result"
    }
   ],
   "source": [
    "brackets_is_managed(expe)"
   ]
  },
  {
   "cell_type": "code",
   "execution_count": null,
   "id": "b846fbb8-5cbb-445a-b075-6b783f8c8429",
   "metadata": {},
   "outputs": [],
   "source": []
  }
 ],
 "metadata": {
  "kernelspec": {
   "display_name": "Python 3 (ipykernel)",
   "language": "python",
   "name": "python3"
  },
  "language_info": {
   "codemirror_mode": {
    "name": "ipython",
    "version": 3
   },
   "file_extension": ".py",
   "mimetype": "text/x-python",
   "name": "python",
   "nbconvert_exporter": "python",
   "pygments_lexer": "ipython3",
   "version": "3.10.11"
  }
 },
 "nbformat": 4,
 "nbformat_minor": 5
}
