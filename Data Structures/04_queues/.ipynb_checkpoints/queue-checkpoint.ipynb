{
 "cells": [
  {
   "cell_type": "code",
   "execution_count": 1,
   "id": "6ddc290b-6735-40e6-91ae-d8b5faba9ab6",
   "metadata": {},
   "outputs": [],
   "source": [
    "class Node:\n",
    "    def __init__(self, data):\n",
    "        self.data = data\n",
    "        self.next = None"
   ]
  },
  {
   "cell_type": "code",
   "execution_count": 2,
   "id": "942d3044-1d2d-4661-b1bc-664d34637b74",
   "metadata": {},
   "outputs": [],
   "source": [
    "class Queue:\n",
    "    def __init__(self):\n",
    "        self.front = None\n",
    "        self.rear = None\n",
    "        self.n = 0\n",
    "\n",
    "    def size(self):\n",
    "        return self.n\n",
    "\n",
    "    def is_empty(self):\n",
    "        return self.n == 0\n",
    "\n",
    "    def dequeue(self, data):\n",
    "        new_node = Node(data)\n",
    "        if not self.front or not self.rear:\n",
    "            self.front = new_node\n",
    "            self.rear = new_node\n",
    "        else:\n",
    "            self.rear.next = new_node\n",
    "            self.rear = new_node\n",
    "        self.n += 1\n",
    "\n",
    "    def enqueue(self):\n",
    "        if not self.front:\n",
    "            raise Exception(\"deletion from an empty queue\")\n",
    "        value = self.front.data\n",
    "        self.front = self.front.next\n",
    "        self.n -= 1\n",
    "        return value\n",
    "\n",
    "    def front_item(self):\n",
    "        if not self.front:\n",
    "            raise Exception(\"Queue is empty\")\n",
    "        return self.front.data\n",
    "\n",
    "    def rear_item(self):\n",
    "        if not self.front:\n",
    "            raise Exception(\"Queue is empty\")\n",
    "        return self.rear.data\n",
    "\n",
    "    def traverse(self):\n",
    "        curr = self.front\n",
    "        while curr:\n",
    "            print(curr.data, end=\" \")\n",
    "            curr = curr.next"
   ]
  },
  {
   "cell_type": "code",
   "execution_count": 3,
   "id": "ae923b97-bc4b-47aa-bf61-8883caacc1b6",
   "metadata": {},
   "outputs": [],
   "source": [
    "q = Queue()"
   ]
  },
  {
   "cell_type": "code",
   "execution_count": 4,
   "id": "06a6bc76-564c-457b-a866-eb0a274b6790",
   "metadata": {},
   "outputs": [
    {
     "data": {
      "text/plain": [
       "0"
      ]
     },
     "execution_count": 4,
     "metadata": {},
     "output_type": "execute_result"
    }
   ],
   "source": [
    "q.size()"
   ]
  },
  {
   "cell_type": "code",
   "execution_count": 5,
   "id": "29f6e498-3220-49a6-b45e-e3a51384e753",
   "metadata": {},
   "outputs": [],
   "source": [
    "q.dequeue(1)\n",
    "q.dequeue(2)\n",
    "q.dequeue(3)"
   ]
  },
  {
   "cell_type": "code",
   "execution_count": 6,
   "id": "5d6900a8-46a6-436e-83db-6c06601f9bd1",
   "metadata": {},
   "outputs": [
    {
     "data": {
      "text/plain": [
       "False"
      ]
     },
     "execution_count": 6,
     "metadata": {},
     "output_type": "execute_result"
    }
   ],
   "source": [
    "q.is_empty()"
   ]
  },
  {
   "cell_type": "code",
   "execution_count": 7,
   "id": "b6ce2f73-b73e-4134-b1c2-901f4e5acc51",
   "metadata": {},
   "outputs": [
    {
     "data": {
      "text/plain": [
       "1"
      ]
     },
     "execution_count": 7,
     "metadata": {},
     "output_type": "execute_result"
    }
   ],
   "source": [
    "q.enqueue()"
   ]
  },
  {
   "cell_type": "code",
   "execution_count": 8,
   "id": "5d670dc3-3133-4215-b459-2d10fd8cba63",
   "metadata": {},
   "outputs": [
    {
     "name": "stdout",
     "output_type": "stream",
     "text": [
      "2 3 "
     ]
    }
   ],
   "source": [
    "q.traverse()"
   ]
  },
  {
   "cell_type": "code",
   "execution_count": 9,
   "id": "10538e4d-37d3-4cb8-afee-403f2b99a3f7",
   "metadata": {},
   "outputs": [
    {
     "data": {
      "text/plain": [
       "2"
      ]
     },
     "execution_count": 9,
     "metadata": {},
     "output_type": "execute_result"
    }
   ],
   "source": [
    "q.front_item()"
   ]
  },
  {
   "cell_type": "code",
   "execution_count": 10,
   "id": "5147e1ff-7e89-4e67-83ef-f5caf3e7cf28",
   "metadata": {},
   "outputs": [
    {
     "data": {
      "text/plain": [
       "3"
      ]
     },
     "execution_count": 10,
     "metadata": {},
     "output_type": "execute_result"
    }
   ],
   "source": [
    "q.rear_item()"
   ]
  },
  {
   "cell_type": "markdown",
   "id": "a077793a-42c5-40b1-ab42-78b2a6b10ad4",
   "metadata": {},
   "source": [
    "**Queue using two stacks**"
   ]
  },
  {
   "cell_type": "code",
   "execution_count": 147,
   "id": "5e16bb7b-35a0-4ef9-a710-1f57748dabff",
   "metadata": {},
   "outputs": [],
   "source": [
    "class QueueUsingStacks:\n",
    "    def __init__(self):\n",
    "        self.stack_in = []\n",
    "        self.stack_out = []\n",
    "\n",
    "    def enqueue(self, data):\n",
    "        self.stack_in.append(data)\n",
    "\n",
    "    def dequeue(self):\n",
    "        if len(self.stack_out) == 0:\n",
    "            if len(self.stack_in) == 0:\n",
    "                raise Exception(\"Queue is empty\")\n",
    "            while len(self.stack_in) != 0:\n",
    "                self.stack_out.append(self.stack_in.pop())\n",
    "        value = self.stack_out.pop()\n",
    "        return value\n",
    "                \n",
    "    def front_peek(self):\n",
    "        if len(self.stack_out) > 0:\n",
    "            return self.stack_out[-1]\n",
    "        elif len(self.stack_in) > 0:\n",
    "            return self.stack_in[0]\n",
    "        raise Exception(\"Queue is empty\")\n",
    "\n",
    "    def rear_peek(self):\n",
    "        if len(self.stack_in) > 0:\n",
    "            return self.stack_in[-1]\n",
    "        elif len(self.stack_out) > 0:\n",
    "            return self.stack_out[0]\n",
    "        raise Exception(\"Queue is empty\")\n",
    "        \n",
    "    def is_empty(self):\n",
    "        return len(self.stack_in) == 0 and len(self.stack_out) == 0\n",
    "\n",
    "    def size(self):\n",
    "        return len(self.stack_in) + len(self.stack_out)\n",
    "\n",
    "    def traverse(self):\n",
    "        result = ''\n",
    "        if len(self.stack_out) > 0:\n",
    "            for i in range(len(self.stack_out)-1, -1, -1):\n",
    "                result = f\"{result}{self.stack_out[i]}-->\"\n",
    "        if len(self.stack_in) > 0:\n",
    "            for i in self.stack_in:\n",
    "                result = f\"{result}{i}-->\"\n",
    "        return result[:-3]"
   ]
  },
  {
   "cell_type": "code",
   "execution_count": 139,
   "id": "0ab0af17-92c3-493f-b58f-60a7bc654df1",
   "metadata": {},
   "outputs": [],
   "source": [
    "q = QueueUsingStacks()"
   ]
  },
  {
   "cell_type": "code",
   "execution_count": 140,
   "id": "81c7c9d7-88bb-4d36-adf5-a8f3472497e2",
   "metadata": {},
   "outputs": [
    {
     "data": {
      "text/plain": [
       "True"
      ]
     },
     "execution_count": 140,
     "metadata": {},
     "output_type": "execute_result"
    }
   ],
   "source": [
    "q.is_empty()"
   ]
  },
  {
   "cell_type": "code",
   "execution_count": 141,
   "id": "9cb975a9-feb6-49f0-bf5d-5a557e949f57",
   "metadata": {},
   "outputs": [],
   "source": [
    "q.enqueue(1)\n",
    "q.enqueue(2)\n",
    "q.enqueue(3)\n",
    "q.enqueue(4)\n",
    "q.enqueue(5)\n",
    "q.enqueue(6)"
   ]
  },
  {
   "cell_type": "code",
   "execution_count": 142,
   "id": "cb58b6c9-4a1e-4df7-b01f-d42e08468301",
   "metadata": {},
   "outputs": [
    {
     "data": {
      "text/plain": [
       "1"
      ]
     },
     "execution_count": 142,
     "metadata": {},
     "output_type": "execute_result"
    }
   ],
   "source": [
    "q.dequeue()"
   ]
  },
  {
   "cell_type": "code",
   "execution_count": 143,
   "id": "ffe31880-fb92-43aa-88f3-2f8838386070",
   "metadata": {},
   "outputs": [
    {
     "data": {
      "text/plain": [
       "2"
      ]
     },
     "execution_count": 143,
     "metadata": {},
     "output_type": "execute_result"
    }
   ],
   "source": [
    "q.front_peek()"
   ]
  },
  {
   "cell_type": "code",
   "execution_count": 144,
   "id": "300a9b07-006a-414c-ab35-5f488190ee07",
   "metadata": {},
   "outputs": [
    {
     "data": {
      "text/plain": [
       "6"
      ]
     },
     "execution_count": 144,
     "metadata": {},
     "output_type": "execute_result"
    }
   ],
   "source": [
    "q.rear_peek()"
   ]
  },
  {
   "cell_type": "code",
   "execution_count": 145,
   "id": "14a01cb9-6644-4a95-80b6-26f7a3db69f3",
   "metadata": {},
   "outputs": [
    {
     "data": {
      "text/plain": [
       "5"
      ]
     },
     "execution_count": 145,
     "metadata": {},
     "output_type": "execute_result"
    }
   ],
   "source": [
    "q.size()"
   ]
  },
  {
   "cell_type": "code",
   "execution_count": 146,
   "id": "66813add-69cc-4b01-857a-507a517b7560",
   "metadata": {},
   "outputs": [
    {
     "data": {
      "text/plain": [
       "'2-->3-->4-->5-->6'"
      ]
     },
     "execution_count": 146,
     "metadata": {},
     "output_type": "execute_result"
    }
   ],
   "source": [
    "q.traverse()"
   ]
  }
 ],
 "metadata": {
  "kernelspec": {
   "display_name": "Python 3 (ipykernel)",
   "language": "python",
   "name": "python3"
  },
  "language_info": {
   "codemirror_mode": {
    "name": "ipython",
    "version": 3
   },
   "file_extension": ".py",
   "mimetype": "text/x-python",
   "name": "python",
   "nbconvert_exporter": "python",
   "pygments_lexer": "ipython3",
   "version": "3.10.11"
  }
 },
 "nbformat": 4,
 "nbformat_minor": 5
}
