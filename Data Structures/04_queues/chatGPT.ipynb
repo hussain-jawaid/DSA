{
 "cells": [
  {
   "cell_type": "code",
   "execution_count": 1,
   "id": "98d094ba-c946-43bb-afe4-fe6d944d63b0",
   "metadata": {},
   "outputs": [],
   "source": [
    "class Node:\n",
    "    def __init__(self, data):\n",
    "        self.data = data\n",
    "        self.next = None"
   ]
  },
  {
   "cell_type": "code",
   "execution_count": 47,
   "id": "a3cea946-2a13-466d-95c7-a6c9987b7fe7",
   "metadata": {},
   "outputs": [],
   "source": [
    "class Queue:\n",
    "    def __init__(self):\n",
    "        self.__front = None\n",
    "        self.__rear = None\n",
    "        self.__n = 0\n",
    "\n",
    "    def __len__(self):\n",
    "        return self.__n\n",
    "\n",
    "    def enqueue(self, data):\n",
    "        new_node = Node(data)\n",
    "        if self.__front == None:\n",
    "            self.__front = new_node\n",
    "            self.__rear = self.__front\n",
    "        else:\n",
    "            self.__rear.next = new_node\n",
    "            self.__rear = new_node\n",
    "        self.__n += 1\n",
    "\n",
    "    def dequeue(self):\n",
    "        if not self.__front:\n",
    "            raise Exception(\"Deletion from an empty queue\")\n",
    "        value = self.__front.data\n",
    "        self.__front = self.__front.next\n",
    "        self.__n -= 1\n",
    "        return value\n",
    "\n",
    "    def is_empty(self):\n",
    "        return self.__n == 0\n",
    "\n",
    "    def peek(self):\n",
    "        if not self.__front:\n",
    "            raise Exception(\"Queue is empty\")\n",
    "        return self.__front.data"
   ]
  },
  {
   "cell_type": "code",
   "execution_count": 36,
   "id": "81a8628e-90cb-4ce7-ad22-3e288159ece4",
   "metadata": {},
   "outputs": [],
   "source": [
    "q = Queue()"
   ]
  },
  {
   "cell_type": "code",
   "execution_count": 37,
   "id": "f08f40d8-3edf-4f4d-8bc2-92b62f9ef25b",
   "metadata": {},
   "outputs": [
    {
     "data": {
      "text/plain": [
       "0"
      ]
     },
     "execution_count": 37,
     "metadata": {},
     "output_type": "execute_result"
    }
   ],
   "source": [
    "len(q)"
   ]
  },
  {
   "cell_type": "code",
   "execution_count": 38,
   "id": "f2d6b214-cf2d-4bb1-a246-51f8d09481d0",
   "metadata": {},
   "outputs": [],
   "source": [
    "q.enqueue(1)\n",
    "q.enqueue(2)\n",
    "q.enqueue(3)"
   ]
  },
  {
   "cell_type": "code",
   "execution_count": 43,
   "id": "807ff868-e577-49d8-b87d-3b8eec5c86ef",
   "metadata": {},
   "outputs": [
    {
     "data": {
      "text/plain": [
       "2"
      ]
     },
     "execution_count": 43,
     "metadata": {},
     "output_type": "execute_result"
    }
   ],
   "source": [
    "len(q)"
   ]
  },
  {
   "cell_type": "code",
   "execution_count": 45,
   "id": "452e828d-423a-4d91-9cbe-4b32dfe2d554",
   "metadata": {},
   "outputs": [
    {
     "data": {
      "text/plain": [
       "3"
      ]
     },
     "execution_count": 45,
     "metadata": {},
     "output_type": "execute_result"
    }
   ],
   "source": [
    "q.dequeue()"
   ]
  },
  {
   "cell_type": "code",
   "execution_count": 41,
   "id": "50857b50-d20f-4725-8c10-e81733c73645",
   "metadata": {},
   "outputs": [
    {
     "data": {
      "text/plain": [
       "2"
      ]
     },
     "execution_count": 41,
     "metadata": {},
     "output_type": "execute_result"
    }
   ],
   "source": [
    "q.peek()"
   ]
  },
  {
   "cell_type": "code",
   "execution_count": 46,
   "id": "c8310ba4-c50b-4f52-a5b5-0c990da9c7dc",
   "metadata": {},
   "outputs": [
    {
     "data": {
      "text/plain": [
       "True"
      ]
     },
     "execution_count": 46,
     "metadata": {},
     "output_type": "execute_result"
    }
   ],
   "source": [
    "q.is_empty()"
   ]
  },
  {
   "cell_type": "code",
   "execution_count": 48,
   "id": "5676fa18-54a5-4745-9b16-ca0a30a6aceb",
   "metadata": {},
   "outputs": [
    {
     "name": "stdout",
     "output_type": "stream",
     "text": [
      "2 3 4 "
     ]
    }
   ],
   "source": [
    "q = Queue()\n",
    "q.enqueue(1)\n",
    "q.enqueue(2)\n",
    "q.enqueue(3)\n",
    "q.dequeue()\n",
    "q.enqueue(4)\n",
    "while not q.is_empty():\n",
    "    print(q.dequeue(), end=' ')"
   ]
  },
  {
   "cell_type": "code",
   "execution_count": null,
   "id": "5ca25d68-68f7-4e86-9023-2f023513a923",
   "metadata": {},
   "outputs": [],
   "source": []
  }
 ],
 "metadata": {
  "kernelspec": {
   "display_name": "Python 3 (ipykernel)",
   "language": "python",
   "name": "python3"
  },
  "language_info": {
   "codemirror_mode": {
    "name": "ipython",
    "version": 3
   },
   "file_extension": ".py",
   "mimetype": "text/x-python",
   "name": "python",
   "nbconvert_exporter": "python",
   "pygments_lexer": "ipython3",
   "version": "3.10.11"
  }
 },
 "nbformat": 4,
 "nbformat_minor": 5
}
