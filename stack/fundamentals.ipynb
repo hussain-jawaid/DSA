{
 "cells": [
  {
   "cell_type": "code",
   "execution_count": 1,
   "id": "cf19545f-af6b-4e65-badc-c04b4d5196ef",
   "metadata": {},
   "outputs": [],
   "source": [
    "s = []"
   ]
  },
  {
   "cell_type": "code",
   "execution_count": 2,
   "id": "aef9cca2-758b-4366-a0c3-611526559bac",
   "metadata": {},
   "outputs": [],
   "source": [
    "s.append(1)\n",
    "s.append(2)\n",
    "s.append(3)"
   ]
  },
  {
   "cell_type": "code",
   "execution_count": 3,
   "id": "31fb2af3-a86f-42b7-8394-ec1e61edbe39",
   "metadata": {},
   "outputs": [
    {
     "data": {
      "text/plain": [
       "[1, 2, 3]"
      ]
     },
     "execution_count": 3,
     "metadata": {},
     "output_type": "execute_result"
    }
   ],
   "source": [
    "s"
   ]
  },
  {
   "cell_type": "code",
   "execution_count": 4,
   "id": "69e9f1d0-363c-4aa8-bfa2-76cd0c614329",
   "metadata": {},
   "outputs": [
    {
     "data": {
      "text/plain": [
       "3"
      ]
     },
     "execution_count": 4,
     "metadata": {},
     "output_type": "execute_result"
    }
   ],
   "source": [
    "s.pop()"
   ]
  },
  {
   "cell_type": "code",
   "execution_count": 5,
   "id": "d11e8d9b-9039-4ffe-b8b1-a1f976e1b840",
   "metadata": {},
   "outputs": [
    {
     "data": {
      "text/plain": [
       "[1, 2]"
      ]
     },
     "execution_count": 5,
     "metadata": {},
     "output_type": "execute_result"
    }
   ],
   "source": [
    "s"
   ]
  },
  {
   "cell_type": "code",
   "execution_count": 6,
   "id": "0b1b9d48-cc59-42ad-bf65-96497f23765c",
   "metadata": {},
   "outputs": [
    {
     "data": {
      "text/plain": [
       "2"
      ]
     },
     "execution_count": 6,
     "metadata": {},
     "output_type": "execute_result"
    }
   ],
   "source": [
    "s[-1]"
   ]
  },
  {
   "cell_type": "code",
   "execution_count": 7,
   "id": "e76a89a3-67a6-4c09-880f-e39ff44e2c71",
   "metadata": {},
   "outputs": [
    {
     "data": {
      "text/plain": [
       "False"
      ]
     },
     "execution_count": 7,
     "metadata": {},
     "output_type": "execute_result"
    }
   ],
   "source": [
    "len(s) == 0"
   ]
  },
  {
   "cell_type": "code",
   "execution_count": 8,
   "id": "1a0b14bd-8892-4512-aa48-24d8f1fc0813",
   "metadata": {},
   "outputs": [
    {
     "data": {
      "text/plain": [
       "2"
      ]
     },
     "execution_count": 8,
     "metadata": {},
     "output_type": "execute_result"
    }
   ],
   "source": [
    "len(s)"
   ]
  },
  {
   "cell_type": "code",
   "execution_count": 104,
   "id": "501c95db-a308-4845-b1a5-3db7372a8def",
   "metadata": {},
   "outputs": [],
   "source": [
    "class Stack:\n",
    "    def __init__(self, size):\n",
    "        self.size = size\n",
    "        self.__items = [None] * self.size\n",
    "        self.top = -1\n",
    "    \n",
    "    def push(self, data):\n",
    "        if self.top == self.size-1:\n",
    "            raise IndexError(\"Stack Overflow!\")\n",
    "        self.top += 1\n",
    "        self.__items[self.top] = data\n",
    "\n",
    "    def pop(self):\n",
    "        if self.top == -1:\n",
    "            raise IndexError(\"Array is empty\")\n",
    "        value = self.__items[self.top]\n",
    "        self.__items[self.top] = None\n",
    "        self.top -= 1\n",
    "        return value\n",
    "\n",
    "    def peek(self):\n",
    "        if self.top == -1:\n",
    "            raise IndexError(\"Array is empty\")\n",
    "        return self.__items[self.top]\n",
    "\n",
    "    def is_empty(self):\n",
    "        return self.top == -1\n",
    "\n",
    "    def get_size(self):\n",
    "        return self.top+1\n",
    "\n",
    "    def traverse(self):\n",
    "        for i in range(self.top+1):\n",
    "            print(self.__items[i], end=' ')"
   ]
  },
  {
   "cell_type": "code",
   "execution_count": 105,
   "id": "b86e2176-f165-4043-97f8-a55f7c6c426a",
   "metadata": {},
   "outputs": [],
   "source": [
    "s = Stack(4)"
   ]
  },
  {
   "cell_type": "code",
   "execution_count": 99,
   "id": "879ffe86-5f9c-45be-8a71-967d25475ca1",
   "metadata": {},
   "outputs": [],
   "source": [
    "s.push(1)\n",
    "s.push(2)\n",
    "s.push(3)\n",
    "s.push(4)"
   ]
  },
  {
   "cell_type": "code",
   "execution_count": 101,
   "id": "cdcf6e58-3f3a-445f-9fcd-5968b736ce19",
   "metadata": {},
   "outputs": [
    {
     "data": {
      "text/plain": [
       "4"
      ]
     },
     "execution_count": 101,
     "metadata": {},
     "output_type": "execute_result"
    }
   ],
   "source": [
    "s.pop()"
   ]
  },
  {
   "cell_type": "code",
   "execution_count": 92,
   "id": "73868a4f-7125-4b12-a0ba-da4173f014fc",
   "metadata": {},
   "outputs": [
    {
     "data": {
      "text/plain": [
       "4"
      ]
     },
     "execution_count": 92,
     "metadata": {},
     "output_type": "execute_result"
    }
   ],
   "source": [
    "s.peek()"
   ]
  },
  {
   "cell_type": "code",
   "execution_count": 93,
   "id": "67b1f3bf-143c-4500-bea9-81facbd72493",
   "metadata": {},
   "outputs": [
    {
     "data": {
      "text/plain": [
       "False"
      ]
     },
     "execution_count": 93,
     "metadata": {},
     "output_type": "execute_result"
    }
   ],
   "source": [
    "s.is_empty()"
   ]
  },
  {
   "cell_type": "code",
   "execution_count": 103,
   "id": "21664e8d-45c5-4ec3-abc4-72baf0494fa8",
   "metadata": {},
   "outputs": [
    {
     "data": {
      "text/plain": [
       "3"
      ]
     },
     "execution_count": 103,
     "metadata": {},
     "output_type": "execute_result"
    }
   ],
   "source": [
    "s.get_size()"
   ]
  },
  {
   "cell_type": "code",
   "execution_count": 102,
   "id": "67c1a28f-e6d3-44e6-b4c9-634900f0aff1",
   "metadata": {},
   "outputs": [
    {
     "name": "stdout",
     "output_type": "stream",
     "text": [
      "1 2 3 "
     ]
    }
   ],
   "source": [
    "s.traverse()"
   ]
  },
  {
   "cell_type": "markdown",
   "id": "6224da43-86b4-46a8-916e-e9584ea8dd21",
   "metadata": {},
   "source": [
    "**Implement a stack using Python’s list (no custom class). Add methods for push(), pop(), peek(),**"
   ]
  },
  {
   "cell_type": "code",
   "execution_count": 2,
   "id": "87928f54-1a53-4065-9fc8-bf29c52505c3",
   "metadata": {},
   "outputs": [],
   "source": [
    "class Stack:\n",
    "    def __init__(self):\n",
    "        self.__items = []\n",
    "\n",
    "    def push(self, data):\n",
    "        self.__items.append(data)\n",
    "\n",
    "    def pop(self):\n",
    "        if self.is_empty():\n",
    "            raise IndexError(\"pop from empty stack\")\n",
    "        return self.__items.pop()\n",
    "\n",
    "    def peek(self):\n",
    "        if self.is_empty():\n",
    "            raise IndexError(\"stack is empty\")\n",
    "        return self.__items[-1]\n",
    "\n",
    "    def is_empty(self):\n",
    "        return len(self.__items) == 0\n",
    "\n",
    "    def size(self):\n",
    "        return len(self.__items)\n",
    "\n",
    "    def traverse(self):\n",
    "        for i in self.__items:\n",
    "            print(i, end=' ')"
   ]
  },
  {
   "cell_type": "code",
   "execution_count": 3,
   "id": "6dc364d9-8a6e-49a0-a80e-698d49106f5c",
   "metadata": {},
   "outputs": [],
   "source": [
    "s = Stack()"
   ]
  },
  {
   "cell_type": "code",
   "execution_count": 114,
   "id": "8a006959-50a8-41bd-b8f3-8839c03f8979",
   "metadata": {},
   "outputs": [],
   "source": [
    "s.push(1)\n",
    "s.push(2)\n",
    "s.push(3)"
   ]
  },
  {
   "cell_type": "code",
   "execution_count": 123,
   "id": "edd69c17-7921-4b6c-9d88-40b99d8a49e3",
   "metadata": {},
   "outputs": [
    {
     "name": "stdout",
     "output_type": "stream",
     "text": [
      "1 2 "
     ]
    }
   ],
   "source": [
    "s.traverse()"
   ]
  },
  {
   "cell_type": "code",
   "execution_count": 122,
   "id": "56fcfc3a-71f8-40f9-8bab-21cd81d2e971",
   "metadata": {},
   "outputs": [
    {
     "data": {
      "text/plain": [
       "2"
      ]
     },
     "execution_count": 122,
     "metadata": {},
     "output_type": "execute_result"
    }
   ],
   "source": [
    "s.size()"
   ]
  },
  {
   "cell_type": "code",
   "execution_count": 120,
   "id": "ec574394-6e32-4728-8780-0086f901f62a",
   "metadata": {},
   "outputs": [
    {
     "data": {
      "text/plain": [
       "False"
      ]
     },
     "execution_count": 120,
     "metadata": {},
     "output_type": "execute_result"
    }
   ],
   "source": [
    "s.is_empty()"
   ]
  },
  {
   "cell_type": "code",
   "execution_count": 121,
   "id": "308275a1-c9a1-4d90-a9ef-c96ff01c17fa",
   "metadata": {},
   "outputs": [
    {
     "data": {
      "text/plain": [
       "2"
      ]
     },
     "execution_count": 121,
     "metadata": {},
     "output_type": "execute_result"
    }
   ],
   "source": [
    "s.peek()"
   ]
  },
  {
   "cell_type": "code",
   "execution_count": 119,
   "id": "fd2b3c1f-8c30-47d5-b232-2fe284080049",
   "metadata": {},
   "outputs": [
    {
     "data": {
      "text/plain": [
       "3"
      ]
     },
     "execution_count": 119,
     "metadata": {},
     "output_type": "execute_result"
    }
   ],
   "source": [
    "s.pop()"
   ]
  },
  {
   "cell_type": "markdown",
   "id": "1a40cd3a-22a0-4f3c-8f92-241488b165a1",
   "metadata": {},
   "source": [
    "**Implement the stack using a singly linked list.**"
   ]
  },
  {
   "cell_type": "code",
   "execution_count": 5,
   "id": "90eb31bb-2120-46ba-bbee-7ea3812e8c0e",
   "metadata": {},
   "outputs": [],
   "source": [
    "class Node:\n",
    "    def __init__(self, data):\n",
    "        self.data = data\n",
    "        self.next = None"
   ]
  },
  {
   "cell_type": "code",
   "execution_count": 47,
   "id": "bff135ef-aa0c-4125-ad84-bed58d0675cc",
   "metadata": {},
   "outputs": [],
   "source": [
    "class Stack:\n",
    "    def __init__(self):\n",
    "        self.top = None\n",
    "        self.n = 0\n",
    "\n",
    "    def is_empty(self):\n",
    "        return self.n == 0\n",
    "\n",
    "    def size(self):\n",
    "        return self.n\n",
    "\n",
    "    def push(self, data):\n",
    "        new_node = Node(data)\n",
    "        if self.is_empty():\n",
    "            self.top = new_node\n",
    "        else:\n",
    "            new_node.next = self.top\n",
    "            self.top = new_node\n",
    "        self.n += 1\n",
    "\n",
    "    def pop(self):\n",
    "        if self.is_empty():\n",
    "            raise IndexError(\"pop from empty stack\")\n",
    "        value = self.top.data\n",
    "        self.top = self.top.next\n",
    "        self.n -= 1\n",
    "        return value\n",
    "\n",
    "    def peek(self):\n",
    "        if self.is_empty():\n",
    "            raise IndexError(\"stack is empty\")\n",
    "        return self.top.data\n",
    "\n",
    "    def traverse(self):\n",
    "        if self.is_empty(): return None\n",
    "        result = ''\n",
    "        curr = self.top\n",
    "        while curr:\n",
    "            print(curr.data)\n",
    "            curr = curr.next"
   ]
  },
  {
   "cell_type": "code",
   "execution_count": 26,
   "id": "eb806f22-94af-4c35-a1b2-600c00a20a02",
   "metadata": {},
   "outputs": [],
   "source": [
    "s = Stack()"
   ]
  },
  {
   "cell_type": "code",
   "execution_count": 41,
   "id": "3cca14e1-2d68-45d6-a9ad-7e0242d2a586",
   "metadata": {},
   "outputs": [],
   "source": [
    "s.traverse()"
   ]
  },
  {
   "cell_type": "code",
   "execution_count": 42,
   "id": "bfb390f8-ff22-4f83-ac65-ba8a83041195",
   "metadata": {},
   "outputs": [],
   "source": [
    "s.push(1)\n",
    "s.push(2)\n",
    "s.push(3)"
   ]
  },
  {
   "cell_type": "code",
   "execution_count": 43,
   "id": "ab6f366c-6440-4b4f-8b04-f147de9cba6c",
   "metadata": {},
   "outputs": [
    {
     "data": {
      "text/plain": [
       "3"
      ]
     },
     "execution_count": 43,
     "metadata": {},
     "output_type": "execute_result"
    }
   ],
   "source": [
    "s.pop()"
   ]
  },
  {
   "cell_type": "code",
   "execution_count": 44,
   "id": "afad8c7f-da06-4159-ae32-a7631ab50df5",
   "metadata": {},
   "outputs": [
    {
     "data": {
      "text/plain": [
       "2"
      ]
     },
     "execution_count": 44,
     "metadata": {},
     "output_type": "execute_result"
    }
   ],
   "source": [
    "s.peek()"
   ]
  },
  {
   "cell_type": "code",
   "execution_count": 45,
   "id": "b7150c69-d3ff-4db8-bb48-e9b9e8a123aa",
   "metadata": {},
   "outputs": [
    {
     "data": {
      "text/plain": [
       "False"
      ]
     },
     "execution_count": 45,
     "metadata": {},
     "output_type": "execute_result"
    }
   ],
   "source": [
    "s.is_empty()"
   ]
  },
  {
   "cell_type": "code",
   "execution_count": 46,
   "id": "9c7ffebf-beca-4940-8d4e-dcd0a04e392e",
   "metadata": {},
   "outputs": [
    {
     "data": {
      "text/plain": [
       "2"
      ]
     },
     "execution_count": 46,
     "metadata": {},
     "output_type": "execute_result"
    }
   ],
   "source": [
    "s.size()"
   ]
  },
  {
   "cell_type": "markdown",
   "id": "0095882f-e35e-4e67-a0b6-344ace3a5d2e",
   "metadata": {},
   "source": [
    "**Write a function that converts a decimal number to binary using a stack.**"
   ]
  },
  {
   "cell_type": "code",
   "execution_count": 52,
   "id": "5099089d-971c-4557-9023-1684cb6f4b1f",
   "metadata": {},
   "outputs": [],
   "source": [
    "class Node:\n",
    "    def __init__(self, data):\n",
    "        self.data = data\n",
    "        self.next = None"
   ]
  },
  {
   "cell_type": "code",
   "execution_count": 58,
   "id": "7e7bbf00-42ec-49cb-b807-283446813333",
   "metadata": {},
   "outputs": [],
   "source": [
    "class Stack:\n",
    "    def __init__(self):\n",
    "        self.top = None\n",
    "        self.n = 0\n",
    "\n",
    "    def is_empty(self):\n",
    "        return self.n == 0\n",
    "\n",
    "    def size(self):\n",
    "        return self.n\n",
    "\n",
    "    def push(self, data):\n",
    "        new_node = Node(data)\n",
    "        if self.is_empty():\n",
    "            self.top = new_node\n",
    "        else:\n",
    "            new_node.next = self.top\n",
    "            self.top = new_node\n",
    "        self.n += 1\n",
    "\n",
    "    def pop(self):\n",
    "        if self.is_empty():\n",
    "            raise IndexError(\"pop from empty stack\")\n",
    "        value = self.top.data\n",
    "        self.top = self.top.next\n",
    "        self.n -= 1\n",
    "        return value\n",
    "\n",
    "    def peek(self):\n",
    "        if self.is_empty():\n",
    "            raise IndexError(\"stack is empty\")\n",
    "        return self.top.data\n",
    "\n",
    "    def traverse(self):\n",
    "        if self.is_empty(): return None\n",
    "        result = ''\n",
    "        curr = self.top\n",
    "        while curr:\n",
    "            print(curr.data, end='')\n",
    "            curr = curr.next"
   ]
  },
  {
   "cell_type": "code",
   "execution_count": 59,
   "id": "705addb0-3beb-47d8-b5bb-691782830ad4",
   "metadata": {},
   "outputs": [],
   "source": [
    "def decimal_to_binary(n):\n",
    "    s = Stack()\n",
    "    while n > 0:\n",
    "        reminder = n % 2\n",
    "        s.push(reminder)\n",
    "        n //= 2\n",
    "    s.traverse()"
   ]
  },
  {
   "cell_type": "code",
   "execution_count": 61,
   "id": "b4901efd-25ce-4507-8e5d-a4c0669a026b",
   "metadata": {},
   "outputs": [
    {
     "name": "stdout",
     "output_type": "stream",
     "text": [
      "1011100"
     ]
    }
   ],
   "source": [
    "decimal_to_binary(92)"
   ]
  },
  {
   "cell_type": "markdown",
   "id": "64ab425e-ddfa-4b80-9764-09143bace59c",
   "metadata": {},
   "source": [
    "**Implement a function that checks if a string is balanced with multiple types of brackets: ({[ ]}).**"
   ]
  },
  {
   "cell_type": "code",
   "execution_count": 66,
   "id": "b90c7481-f109-4a0f-b2d6-8455f69f9c89",
   "metadata": {},
   "outputs": [],
   "source": [
    "def balanced_parentheses(expe):\n",
    "    s = Stack()\n",
    "    for i in expe:\n",
    "        if i in ['[', '{', '(']:\n",
    "            s.push(i)\n",
    "        elif i in  [')', '}', ']']:\n",
    "            if s.is_empty(): return False\n",
    "            bracket = s.peek()\n",
    "            matches = {']': '[', '}': '{', ')': '('}\n",
    "            if bracket == matches[i]:\n",
    "                s.pop()\n",
    "            else:\n",
    "                return False\n",
    "    if s.size() != 0: return False\n",
    "    return True"
   ]
  },
  {
   "cell_type": "code",
   "execution_count": 70,
   "id": "ee3a1a51-c3d6-4a5b-889e-c1e70bc54b30",
   "metadata": {},
   "outputs": [
    {
     "data": {
      "text/plain": [
       "False"
      ]
     },
     "execution_count": 70,
     "metadata": {},
     "output_type": "execute_result"
    }
   ],
   "source": [
    "expe = \"(a+b)(\"\n",
    "balanced_parentheses(expe)"
   ]
  },
  {
   "cell_type": "markdown",
   "id": "93160b8a-35a0-4fde-b943-b8379ec6ece4",
   "metadata": {},
   "source": [
    "**Use a stack to reverse a linked list.**"
   ]
  },
  {
   "cell_type": "code",
   "execution_count": 1,
   "id": "f6764927-8cfd-4518-999c-7cb72444d630",
   "metadata": {},
   "outputs": [],
   "source": [
    "class Node:\n",
    "    def __init__(self, data):\n",
    "        self.data = data\n",
    "        self.next = None"
   ]
  },
  {
   "cell_type": "code",
   "execution_count": 2,
   "id": "c5008e63-ca6a-4b4d-bbdc-ab264cae23b4",
   "metadata": {},
   "outputs": [],
   "source": [
    "class LinkedList:\n",
    "    def __init__(self):\n",
    "        self.head = None\n",
    "        self.n = 0\n",
    "\n",
    "    def __len__(self):\n",
    "        return self.n\n",
    "\n",
    "    # traverse operations\n",
    "    def traverse(self):\n",
    "        if not self.head: return None\n",
    "        curr = self.head\n",
    "        result = ''\n",
    "        while curr:\n",
    "            result = f\"{result}{curr.data}-->\"\n",
    "            curr = curr.next\n",
    "        return result[:-3]\n",
    "\n",
    "    # insert operations\n",
    "    def prepend(self, data):\n",
    "        new_node = Node(data)\n",
    "        if not self.head:\n",
    "            self.head = new_node\n",
    "        else:\n",
    "            new_node.next = self.head\n",
    "            self.head = new_node\n",
    "        self.n += 1\n",
    "\n",
    "    def append(self, data):\n",
    "        new_node = Node(data)\n",
    "        if not self.head:\n",
    "            self.head = new_node\n",
    "            self.n += 1\n",
    "            return\n",
    "        else:\n",
    "            curr = self.head\n",
    "            while curr:\n",
    "                if curr.next == None:\n",
    "                    curr.next = new_node\n",
    "                    self.n += 1\n",
    "                    return\n",
    "                curr = curr.next\n",
    "\n",
    "    def insert(self, after, data):\n",
    "        new_node = Node(data)\n",
    "        curr = self.head\n",
    "        while curr:\n",
    "            if curr.data == after:\n",
    "                new_node.next = curr.next\n",
    "                curr.next = new_node\n",
    "                self.n += 1\n",
    "                return\n",
    "            curr = curr.next\n",
    "        raise ValueError(\"Invalid Value\")\n",
    "\n",
    "    # delete operations\n",
    "    def clear(self):\n",
    "        self.head = None\n",
    "        self.n = 0\n",
    "\n",
    "    def remove_first(self):\n",
    "        if not self.head:\n",
    "            raise Exception(\"Linked List is empty\")\n",
    "        value = self.head.data\n",
    "        self.head = self.head.next\n",
    "        self.n -= 1\n",
    "        return value\n",
    "\n",
    "    def remove_last(self):\n",
    "        if not self.head:\n",
    "            raise Exception(\"Linked List is empty\")\n",
    "        value = self.head.data\n",
    "        if self.head.next == None:\n",
    "            self.head = self.head.next\n",
    "            self.n -= 1\n",
    "            return value\n",
    "        \n",
    "        curr = self.head\n",
    "        while curr.next:\n",
    "            if curr.next.next == None:\n",
    "                value = curr.next.data\n",
    "                curr.next = None\n",
    "                self.n -= 1\n",
    "                return value\n",
    "            curr = curr.next\n",
    "\n",
    "    def remove(self, value):\n",
    "        if not self.head:\n",
    "            raise ValueError(\"Invalid Value\")\n",
    "        if self.head.data == value:\n",
    "            self.head = self.head.next\n",
    "            self.n -= 1\n",
    "            return value\n",
    "        curr = self.head\n",
    "        while curr.next:\n",
    "            if curr.next.data == value:\n",
    "                curr.next = curr.next.next\n",
    "                self.n -= 1\n",
    "                return value\n",
    "            curr = curr.next\n",
    "        raise ValueError(\"Invalid Value\")\n",
    "\n",
    "    def __delitem__(self, index):\n",
    "        if not self.head:\n",
    "            raise IndexError(\"Invalid Index\")\n",
    "        if index < 0:\n",
    "            index += self.n\n",
    "        i = 0         \n",
    "        curr = self.head\n",
    "        while curr:\n",
    "            if index == i:\n",
    "                self.remove(curr.data) \n",
    "                return\n",
    "            curr = curr.next\n",
    "            i += 1\n",
    "        raise IndexError(\"Invalid Index\")\n",
    "    \n",
    "    # search operations\n",
    "    def index_of(self, value):\n",
    "        if not self.head:\n",
    "            raise ValueError(\"Invalid Value\")\n",
    "        i = 0\n",
    "        curr = self.head\n",
    "        while curr:\n",
    "            if curr.data == value:\n",
    "                return i\n",
    "            curr = curr.next\n",
    "            i += 1\n",
    "        raise ValueError(\"Invalid Value\")\n",
    "\n",
    "    def __getitem__(self, index):\n",
    "        if not self.head:\n",
    "            raise IndexError(\"Invalid Index\")\n",
    "        if index < 0:\n",
    "            index += self.n\n",
    "        i = 0\n",
    "        curr = self.head\n",
    "        while curr:\n",
    "            if index == i:\n",
    "                return curr.data\n",
    "            curr = curr.next\n",
    "            i += 1\n",
    "        raise IndexError(\"Invalid Index\")"
   ]
  },
  {
   "cell_type": "code",
   "execution_count": 12,
   "id": "ba908123-e254-47e6-8a7b-b05f55ab448c",
   "metadata": {},
   "outputs": [],
   "source": [
    "ll = LinkedList()"
   ]
  },
  {
   "cell_type": "code",
   "execution_count": 13,
   "id": "9670b5e0-c64e-4a38-8a7e-e19356e8de0c",
   "metadata": {},
   "outputs": [
    {
     "data": {
      "text/plain": [
       "0"
      ]
     },
     "execution_count": 13,
     "metadata": {},
     "output_type": "execute_result"
    }
   ],
   "source": [
    "len(ll)"
   ]
  },
  {
   "cell_type": "code",
   "execution_count": 14,
   "id": "5980a5eb-50e0-44af-a05b-a0d86d9deb50",
   "metadata": {},
   "outputs": [],
   "source": [
    "ll.prepend(1)\n",
    "ll.prepend(2)\n",
    "ll.prepend(3)"
   ]
  },
  {
   "cell_type": "code",
   "execution_count": 6,
   "id": "e6028380-0466-4837-98b7-daa0cdbb45b9",
   "metadata": {},
   "outputs": [],
   "source": [
    "ll.append(4)"
   ]
  },
  {
   "cell_type": "code",
   "execution_count": 15,
   "id": "52170a68-5b59-4383-a76c-e55dfe313c22",
   "metadata": {},
   "outputs": [
    {
     "data": {
      "text/plain": [
       "'3-->2-->1'"
      ]
     },
     "execution_count": 15,
     "metadata": {},
     "output_type": "execute_result"
    }
   ],
   "source": [
    "ll.traverse()"
   ]
  },
  {
   "cell_type": "code",
   "execution_count": 81,
   "id": "eaf12397-6bac-4873-b2f8-aa2018487a06",
   "metadata": {},
   "outputs": [],
   "source": [
    "ll.insert(3, 10)"
   ]
  },
  {
   "cell_type": "code",
   "execution_count": 236,
   "id": "96815882-1c3e-4f90-8d93-7a93e0bc4076",
   "metadata": {},
   "outputs": [
    {
     "data": {
      "text/plain": [
       "2"
      ]
     },
     "execution_count": 236,
     "metadata": {},
     "output_type": "execute_result"
    }
   ],
   "source": [
    "ll.remove_first()"
   ]
  },
  {
   "cell_type": "code",
   "execution_count": 237,
   "id": "03937881-67fb-49c9-92d3-4cd923edadab",
   "metadata": {},
   "outputs": [
    {
     "data": {
      "text/plain": [
       "1"
      ]
     },
     "execution_count": 237,
     "metadata": {},
     "output_type": "execute_result"
    }
   ],
   "source": [
    "ll.remove_last()"
   ]
  },
  {
   "cell_type": "code",
   "execution_count": 19,
   "id": "b2296e97-ef90-46a0-9b8b-5a1fce63237a",
   "metadata": {},
   "outputs": [
    {
     "data": {
      "text/plain": [
       "1"
      ]
     },
     "execution_count": 19,
     "metadata": {},
     "output_type": "execute_result"
    }
   ],
   "source": [
    "ll.remove(1)"
   ]
  },
  {
   "cell_type": "code",
   "execution_count": 35,
   "id": "05badcbf-3c04-4958-95e1-086d4a41dcae",
   "metadata": {},
   "outputs": [
    {
     "data": {
      "text/plain": [
       "1"
      ]
     },
     "execution_count": 35,
     "metadata": {},
     "output_type": "execute_result"
    }
   ],
   "source": [
    "ll.index_of(2)"
   ]
  },
  {
   "cell_type": "code",
   "execution_count": 62,
   "id": "3211aa43-f6c3-43d5-904e-a92a7da909db",
   "metadata": {},
   "outputs": [
    {
     "data": {
      "text/plain": [
       "1"
      ]
     },
     "execution_count": 62,
     "metadata": {},
     "output_type": "execute_result"
    }
   ],
   "source": [
    "ll[-2]"
   ]
  },
  {
   "cell_type": "code",
   "execution_count": 87,
   "id": "d4adc1ce-3cb4-4407-aeb6-01e2b678a26c",
   "metadata": {},
   "outputs": [],
   "source": [
    "del ll[1]"
   ]
  },
  {
   "cell_type": "code",
   "execution_count": 8,
   "id": "255bfb8c-5fdb-4fc9-b2ad-807cbc2e6c4f",
   "metadata": {},
   "outputs": [],
   "source": [
    "class Stack:\n",
    "    def __init__(self):\n",
    "        self.top = None\n",
    "        self.n = 0\n",
    "\n",
    "    def is_empty(self):\n",
    "        return self.n == 0\n",
    "\n",
    "    def size(self):\n",
    "        return self.n\n",
    "\n",
    "    def push(self, data):\n",
    "        new_node = Node(data)\n",
    "        if self.is_empty():\n",
    "            self.top = new_node\n",
    "        else:\n",
    "            new_node.next = self.top\n",
    "            self.top = new_node\n",
    "        self.n += 1\n",
    "\n",
    "    def pop(self):\n",
    "        if self.is_empty():\n",
    "            raise IndexError(\"pop from empty stack\")\n",
    "        value = self.top.data\n",
    "        self.top = self.top.next\n",
    "        self.n -= 1\n",
    "        return value\n",
    "\n",
    "    def peek(self):\n",
    "        if self.is_empty():\n",
    "            raise IndexError(\"stack is empty\")\n",
    "        return self.top.data\n",
    "\n",
    "    def traverse(self):\n",
    "        if self.is_empty(): return None\n",
    "        result = ''\n",
    "        curr = self.top\n",
    "        while curr:\n",
    "            print(curr.data, end=' ')\n",
    "            curr = curr.next"
   ]
  },
  {
   "cell_type": "code",
   "execution_count": 17,
   "id": "cde552cc-b0ac-4e03-80e1-45e0a72486df",
   "metadata": {},
   "outputs": [],
   "source": [
    "def reverse_ll_using_stack(ll):\n",
    "    if not ll.head or not ll.head.next:\n",
    "        return\n",
    "        \n",
    "    s = Stack()\n",
    "    \n",
    "    curr = ll.head\n",
    "    while curr:\n",
    "        s.push(curr)\n",
    "        curr = curr.next\n",
    "\n",
    "    ll.head = s.pop()\n",
    "    curr = ll.head\n",
    "    \n",
    "    while not s.is_empty():\n",
    "        curr.next = s.pop()\n",
    "        curr = curr.next\n",
    "    curr.next = None"
   ]
  },
  {
   "cell_type": "code",
   "execution_count": 19,
   "id": "879e66e3-b30f-4406-b6e1-32b843b6ee75",
   "metadata": {},
   "outputs": [
    {
     "name": "stdout",
     "output_type": "stream",
     "text": [
      "Before: 6-->5-->4-->3-->2-->1\n",
      "After: 1-->2-->3-->4-->5-->6\n"
     ]
    }
   ],
   "source": [
    "ll = LinkedList()\n",
    "for i in range(1, 7):\n",
    "    ll.prepend(i)\n",
    "\n",
    "print(\"Before:\", ll.traverse())\n",
    "reverse_ll_using_stack(ll)\n",
    "print(\"After:\", ll.traverse())"
   ]
  },
  {
   "cell_type": "markdown",
   "id": "6bfaee6b-4f98-4719-a526-828983114ab5",
   "metadata": {},
   "source": [
    "**What is the \"Next Greater Element\" problem?**"
   ]
  },
  {
   "cell_type": "code",
   "execution_count": 1,
   "id": "8cc8f916-1f3d-4934-9c91-7dd21ce251f9",
   "metadata": {},
   "outputs": [],
   "source": [
    "l = [4, 5, 2, 25]"
   ]
  },
  {
   "cell_type": "code",
   "execution_count": 2,
   "id": "5531ba33-0779-4bfc-9528-bd1efde1adc0",
   "metadata": {},
   "outputs": [
    {
     "data": {
      "text/plain": [
       "[4, 5, 2, 25]"
      ]
     },
     "execution_count": 2,
     "metadata": {},
     "output_type": "execute_result"
    }
   ],
   "source": [
    "l"
   ]
  },
  {
   "cell_type": "code",
   "execution_count": 3,
   "id": "65acae3c-0259-46f6-818f-cbd87feed550",
   "metadata": {},
   "outputs": [],
   "source": [
    "def next_greater_elem(l):\n",
    "    stack = []\n",
    "    for i in range(len(l)):\n",
    "        for j in range(i+1, len(l)):\n",
    "            if l[i] < l[j]:\n",
    "                stack.append(l[j])\n",
    "                break\n",
    "        if i == (len(l)-1):\n",
    "            stack.append(-1)\n",
    "    return stack"
   ]
  },
  {
   "cell_type": "code",
   "execution_count": 4,
   "id": "f28cd6bb-0a39-44a1-9b2e-60e33a903a10",
   "metadata": {},
   "outputs": [
    {
     "data": {
      "text/plain": [
       "[5, 25, 25, -1]"
      ]
     },
     "execution_count": 4,
     "metadata": {},
     "output_type": "execute_result"
    }
   ],
   "source": [
    "l = [4, 5, 2, 25]\n",
    "next_greater_elem(l)"
   ]
  },
  {
   "cell_type": "code",
   "execution_count": 19,
   "id": "143a9ccb-550d-4278-ac4b-1afefed1c085",
   "metadata": {},
   "outputs": [],
   "source": [
    "def next_greater_elem(l):\n",
    "    stack = []\n",
    "    for i in range(len(l)):\n",
    "        found = False\n",
    "        for j in range(i+1, len(l)):\n",
    "            if l[j] > l[i]:\n",
    "                stack.append(l[j])\n",
    "\n",
    "                found = True\n",
    "                break\n",
    "        if not found:\n",
    "            stack.append(-1)\n",
    "    return stack"
   ]
  },
  {
   "cell_type": "code",
   "execution_count": 20,
   "id": "5646d909-5d06-435e-ac0c-c68d35a906a1",
   "metadata": {},
   "outputs": [
    {
     "data": {
      "text/plain": [
       "[5, 25, 25, -1]"
      ]
     },
     "execution_count": 20,
     "metadata": {},
     "output_type": "execute_result"
    }
   ],
   "source": [
    "l = [4, 5, 2, 25]\n",
    "next_greater_elem(l)"
   ]
  },
  {
   "cell_type": "markdown",
   "id": "3fd04d95-c231-41d3-9ff9-dc6d459b0446",
   "metadata": {},
   "source": [
    "**Evaluate an infix expression using stacks.**"
   ]
  },
  {
   "cell_type": "code",
   "execution_count": 27,
   "id": "eb94e622-3378-4f2f-9e05-9a13abaf9e30",
   "metadata": {},
   "outputs": [],
   "source": [
    "import operator\n",
    "\n",
    "def evaluate_infix_expre(expre):\n",
    "    operands = [] # 2, 3, 4\n",
    "    operators= [] # +, *\n",
    "    for i in expre:\n",
    "        if i not in ['+', '-', '*', '/']:\n",
    "            operands.append(i)\n",
    "        else:\n",
    "            operators.append(i)\n",
    "    while len(operators) != 0:\n",
    "        a = operands.pop()\n",
    "        b = operands.pop()\n",
    "        op = operators.pop()\n",
    "        ops = {\n",
    "            '+': operator.add,\n",
    "            '-': operator.sub,\n",
    "            '*': operator.mul,\n",
    "            '/': operator.truediv,\n",
    "        }\n",
    "        result = ops[op](int(b), int(a))\n",
    "        operands.append(result)\n",
    "    result = operands[-1]\n",
    "    return result"
   ]
  },
  {
   "cell_type": "code",
   "execution_count": 28,
   "id": "7631c8d3-2eec-44af-8e67-57fb6195b1f4",
   "metadata": {},
   "outputs": [
    {
     "data": {
      "text/plain": [
       "14"
      ]
     },
     "execution_count": 28,
     "metadata": {},
     "output_type": "execute_result"
    }
   ],
   "source": [
    "expre = \"2+3*4\"\n",
    "evaluate_infix_expre(expre)"
   ]
  },
  {
   "cell_type": "code",
   "execution_count": null,
   "id": "4bdb6b74-dae5-41b5-b6c5-8ac5bd028665",
   "metadata": {},
   "outputs": [],
   "source": []
  }
 ],
 "metadata": {
  "kernelspec": {
   "display_name": "Python 3 (ipykernel)",
   "language": "python",
   "name": "python3"
  },
  "language_info": {
   "codemirror_mode": {
    "name": "ipython",
    "version": 3
   },
   "file_extension": ".py",
   "mimetype": "text/x-python",
   "name": "python",
   "nbconvert_exporter": "python",
   "pygments_lexer": "ipython3",
   "version": "3.10.11"
  }
 },
 "nbformat": 4,
 "nbformat_minor": 5
}
