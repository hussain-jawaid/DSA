{
 "cells": [
  {
   "cell_type": "markdown",
   "id": "d07abffe-2fa9-41c4-9611-a934f7888068",
   "metadata": {},
   "source": [
    "# Reverse a string"
   ]
  },
  {
   "cell_type": "code",
   "execution_count": 22,
   "id": "bee5ecd9-f821-4c1a-a796-97fbd7ccbf12",
   "metadata": {},
   "outputs": [],
   "source": [
    "class Stack:\n",
    "    def __init__(self):\n",
    "        self.items = []\n",
    "\n",
    "    def push(self, item):\n",
    "        self.items.append(item)\n",
    "\n",
    "    def pop(self):\n",
    "        value = self.items.pop() if not is_empty() else None\n",
    "        return value\n",
    "\n",
    "    def is_empty(self):\n",
    "        return len(self.items) == 0\n",
    "\n",
    "    def size(self):\n",
    "        return len(self.items)\n",
    "\n",
    "    def reverse(self):\n",
    "        for i in range(len(self.items)-1, -1, -1):\n",
    "            print(self.items[i], end='')    "
   ]
  },
  {
   "cell_type": "code",
   "execution_count": 23,
   "id": "2beb1a9e-8dc3-4d7d-89d6-ee3a922f8bbf",
   "metadata": {},
   "outputs": [],
   "source": [
    "s = Stack()"
   ]
  },
  {
   "cell_type": "code",
   "execution_count": 24,
   "id": "430508c1-0f32-48cb-945b-e58bfc1a0856",
   "metadata": {},
   "outputs": [],
   "source": [
    "for i in 'Hello':\n",
    "    s.push(i)"
   ]
  },
  {
   "cell_type": "code",
   "execution_count": 25,
   "id": "5d64c58e-44be-45e3-9026-6497d5194f39",
   "metadata": {},
   "outputs": [
    {
     "data": {
      "text/plain": [
       "['H', 'e', 'l', 'l', 'o']"
      ]
     },
     "execution_count": 25,
     "metadata": {},
     "output_type": "execute_result"
    }
   ],
   "source": [
    "s.items"
   ]
  },
  {
   "cell_type": "code",
   "execution_count": 26,
   "id": "a0c53106-71ca-4e62-bd34-6a1273d4f1eb",
   "metadata": {},
   "outputs": [
    {
     "name": "stdout",
     "output_type": "stream",
     "text": [
      "olleH"
     ]
    }
   ],
   "source": [
    "s.reverse()"
   ]
  },
  {
   "cell_type": "code",
   "execution_count": 149,
   "id": "1a483223-f1cf-40c8-bd2a-60dc62505fbf",
   "metadata": {},
   "outputs": [],
   "source": [
    "class Node:\n",
    "    def __init__(self, data):\n",
    "        self.data = data\n",
    "        self.next = None"
   ]
  },
  {
   "cell_type": "code",
   "execution_count": 151,
   "id": "c63b9681-7e1f-4f7a-ac28-e536422acea7",
   "metadata": {},
   "outputs": [],
   "source": [
    "class Stack:\n",
    "    def __init__(self):\n",
    "        self.top = None\n",
    "        self.n = 0\n",
    "\n",
    "    def __len__(self):\n",
    "        return self.n\n",
    "\n",
    "    def is_empty(self):\n",
    "        return len(self) == 0\n",
    "        \n",
    "    def push(self, data):\n",
    "        new_node = Node(data)\n",
    "        new_node.next = self.top\n",
    "        self.top = new_node\n",
    "        self.n += 1\n",
    "        \n",
    "    def pop(self):\n",
    "        if self.is_empty():\n",
    "            raise Exception(\"Stack is empty\")\n",
    "            \n",
    "        value = self.top.data\n",
    "        self.top = self.top.next\n",
    "        self.n -= 1\n",
    "        return value\n",
    "\n",
    "    def peek(self):\n",
    "        return self.top.data if not self.is_empty() else None\n",
    "\n",
    "    def traverse(self):\n",
    "        curr = self.top\n",
    "\n",
    "        while curr:\n",
    "            print(curr.data)\n",
    "            curr = curr.next        "
   ]
  },
  {
   "cell_type": "code",
   "execution_count": 152,
   "id": "1fb300a3-3c7a-48e6-a77f-6555a96fbd17",
   "metadata": {},
   "outputs": [],
   "source": [
    "s = Stack()"
   ]
  },
  {
   "cell_type": "code",
   "execution_count": 153,
   "id": "7a0f8d7b-b377-4e87-8387-0ab887b51882",
   "metadata": {},
   "outputs": [
    {
     "data": {
      "text/plain": [
       "0"
      ]
     },
     "execution_count": 153,
     "metadata": {},
     "output_type": "execute_result"
    }
   ],
   "source": [
    "len(s)"
   ]
  },
  {
   "cell_type": "code",
   "execution_count": 154,
   "id": "286625bc-0ebd-4756-ad69-22858430b9c0",
   "metadata": {},
   "outputs": [
    {
     "data": {
      "text/plain": [
       "True"
      ]
     },
     "execution_count": 154,
     "metadata": {},
     "output_type": "execute_result"
    }
   ],
   "source": [
    "s.is_empty()"
   ]
  },
  {
   "cell_type": "code",
   "execution_count": 155,
   "id": "6684489e-ef50-4c43-91ce-cb43e1e226d8",
   "metadata": {},
   "outputs": [],
   "source": [
    "s.push(1)\n",
    "s.push(2)\n",
    "s.push(3)\n",
    "s.push(4)"
   ]
  },
  {
   "cell_type": "code",
   "execution_count": 156,
   "id": "915bb6b3-f3d2-43ef-bf57-b8516a6f9b23",
   "metadata": {},
   "outputs": [
    {
     "data": {
      "text/plain": [
       "4"
      ]
     },
     "execution_count": 156,
     "metadata": {},
     "output_type": "execute_result"
    }
   ],
   "source": [
    "len(s)"
   ]
  },
  {
   "cell_type": "code",
   "execution_count": 157,
   "id": "aa1f3507-7392-4a2d-a715-d1fe13a51c56",
   "metadata": {},
   "outputs": [
    {
     "data": {
      "text/plain": [
       "4"
      ]
     },
     "execution_count": 157,
     "metadata": {},
     "output_type": "execute_result"
    }
   ],
   "source": [
    "s.pop()"
   ]
  },
  {
   "cell_type": "code",
   "execution_count": 158,
   "id": "7814bb06-95ad-4d5c-81e4-4c3395c50516",
   "metadata": {},
   "outputs": [
    {
     "data": {
      "text/plain": [
       "3"
      ]
     },
     "execution_count": 158,
     "metadata": {},
     "output_type": "execute_result"
    }
   ],
   "source": [
    "len(s)"
   ]
  },
  {
   "cell_type": "code",
   "execution_count": 159,
   "id": "09b4e5ec-386b-4f16-ab78-01e3663c5506",
   "metadata": {},
   "outputs": [
    {
     "name": "stdout",
     "output_type": "stream",
     "text": [
      "3\n",
      "2\n",
      "1\n"
     ]
    }
   ],
   "source": [
    "s.traverse()"
   ]
  },
  {
   "cell_type": "code",
   "execution_count": 160,
   "id": "49aef0da-24b1-44dc-b1b8-a6c711d6d241",
   "metadata": {},
   "outputs": [
    {
     "data": {
      "text/plain": [
       "3"
      ]
     },
     "execution_count": 160,
     "metadata": {},
     "output_type": "execute_result"
    }
   ],
   "source": [
    "s.peek()"
   ]
  },
  {
   "cell_type": "markdown",
   "id": "c6e64f2c-752d-4902-ae17-2d2bab729413",
   "metadata": {},
   "source": [
    "# Balanced Parentheses Problem"
   ]
  },
  {
   "cell_type": "code",
   "execution_count": 146,
   "id": "2f0fb9e9-f80b-4ef7-af91-7a9dfb144c6c",
   "metadata": {},
   "outputs": [],
   "source": [
    "expe = '[{(a+b)}]'"
   ]
  },
  {
   "cell_type": "code",
   "execution_count": 161,
   "id": "1832044d-bbb6-493b-ad2c-46b7b3765117",
   "metadata": {},
   "outputs": [],
   "source": [
    "def balanced_parentheses(expe):\n",
    "    s = Stack()\n",
    "    \n",
    "    for i in expe:\n",
    "        if i in ['[', '{', '(']:\n",
    "            s.push(i)\n",
    "        elif i in [')', '}', ']']:\n",
    "            if s.is_empty(): return False\n",
    "            cores = s.peek()\n",
    "            matches = {')': '(', '}': '{', ']': '['}\n",
    "            if cores == matches[i]:\n",
    "                s.pop()\n",
    "            else:\n",
    "                return False\n",
    "\n",
    "    if not s.is_empty(): return False\n",
    "    \n",
    "    return True\n",
    "            "
   ]
  },
  {
   "cell_type": "code",
   "execution_count": 162,
   "id": "abc1742d-c4c1-42bd-9635-5d3c3f5ae98c",
   "metadata": {},
   "outputs": [
    {
     "data": {
      "text/plain": [
       "True"
      ]
     },
     "execution_count": 162,
     "metadata": {},
     "output_type": "execute_result"
    }
   ],
   "source": [
    "balanced_parentheses(expe)"
   ]
  },
  {
   "cell_type": "markdown",
   "id": "4f4bff34-f397-4d6d-a298-c4b55a57a7fb",
   "metadata": {},
   "source": [
    "# String is a Palindrome"
   ]
  },
  {
   "cell_type": "code",
   "execution_count": 165,
   "id": "af472381-5f53-4d11-9400-ed423bc46750",
   "metadata": {},
   "outputs": [],
   "source": [
    "def string_palindrome(string):\n",
    "    s = Stack()\n",
    "    for i in string:\n",
    "        s.push(i)\n",
    "\n",
    "    reversed_str = ''\n",
    "    while not s.is_empty():\n",
    "        reversed_str += s.pop()\n",
    "    return string == reversed_str"
   ]
  },
  {
   "cell_type": "code",
   "execution_count": 170,
   "id": "7ad1dfec-f78a-4fd0-9f8e-5f558c30d771",
   "metadata": {},
   "outputs": [
    {
     "data": {
      "text/plain": [
       "False"
      ]
     },
     "execution_count": 170,
     "metadata": {},
     "output_type": "execute_result"
    }
   ],
   "source": [
    "string_palindrome('car')"
   ]
  },
  {
   "cell_type": "markdown",
   "id": "d971ee2e-21fa-4a21-a318-81ad091c937e",
   "metadata": {},
   "source": [
    "# Postfix Experession"
   ]
  },
  {
   "cell_type": "code",
   "execution_count": 192,
   "id": "3e829eba-7144-435e-a8ef-099ce2ae59d2",
   "metadata": {},
   "outputs": [],
   "source": [
    "import operator\n",
    "\n",
    "def check_postfix_expr(expr):\n",
    "    s = Stack()\n",
    "    for i in expr:\n",
    "        if i not in ['+', '-', '*', '/']:\n",
    "            s.push(i)\n",
    "        elif i in ['+', '-', '*', '/']:\n",
    "            if len(s) < 2: return 'Expression is invalid'\n",
    "            first_num = s.pop()\n",
    "            second_num = s.pop()\n",
    "            ops = {\n",
    "                '+': operator.add, \n",
    "                '-': operator.sub,\n",
    "                '*': operator.mul,\n",
    "                '/': operator.truediv\n",
    "            }\n",
    "            result = ops[i](int(first_num), int(second_num))\n",
    "            s.push(result)\n",
    "    if len(s) > 1:\n",
    "        return 'Expression is invalid'\n",
    "    return s.pop()"
   ]
  },
  {
   "cell_type": "code",
   "execution_count": 200,
   "id": "8622afcc-97dc-424c-a7bd-d3d7ee3bf4e5",
   "metadata": {},
   "outputs": [
    {
     "data": {
      "text/plain": [
       "3"
      ]
     },
     "execution_count": 200,
     "metadata": {},
     "output_type": "execute_result"
    }
   ],
   "source": [
    "expr = '34+25*-'\n",
    "check_postfix_expr(expr)"
   ]
  },
  {
   "cell_type": "markdown",
   "id": "a1c9b3c0-d2f3-4ce3-a18d-d4bd34182445",
   "metadata": {},
   "source": [
    "# Retrieving the minimum element in constant time"
   ]
  },
  {
   "cell_type": "code",
   "execution_count": 225,
   "id": "50ef0eff-e1ae-415c-82af-29dd5a3f2288",
   "metadata": {},
   "outputs": [],
   "source": [
    "class NodeMin:\n",
    "    def __init__(self, data, minVal):\n",
    "        self.data = data\n",
    "        self.minSoFar = minVal\n",
    "        self.next = None"
   ]
  },
  {
   "cell_type": "code",
   "execution_count": 226,
   "id": "5f354f84-95ac-4884-90a4-0fd5fcecae6f",
   "metadata": {},
   "outputs": [],
   "source": [
    "class StackMin:\n",
    "    def __init__(self):\n",
    "        self.top = None\n",
    "        self.n = 0\n",
    "\n",
    "    def push(self, data):\n",
    "        if self.n == 0:\n",
    "            minVal = data\n",
    "        elif self.top.minSoFar > data:\n",
    "            minVal = data\n",
    "        else:\n",
    "            minVal = self.top.minSoFar\n",
    "        new_node = NodeMin(data, minVal)\n",
    "        new_node.next = self.top\n",
    "        self.top = new_node\n",
    "        self.n += 1\n",
    "\n",
    "    def pop(self):\n",
    "        if self.n == 0:\n",
    "            raise Exception('pop from empty stack')\n",
    "        value = self.top.data\n",
    "        self.top = self.top.next\n",
    "        self.n -= 1\n",
    "        return value\n",
    "\n",
    "    def peek(self):\n",
    "        if self.n == 0:\n",
    "            raise Exception('stack is empty')\n",
    "        return self.top.data\n",
    "\n",
    "    def getMin(self):\n",
    "        if self.n == 0: raise Exception('stack is empty')\n",
    "        return self.top.minSoFar"
   ]
  },
  {
   "cell_type": "code",
   "execution_count": 239,
   "id": "4fe63092-bfde-4483-b0e1-c2c8c375b601",
   "metadata": {},
   "outputs": [],
   "source": [
    "s = StackMin()"
   ]
  },
  {
   "cell_type": "code",
   "execution_count": 252,
   "id": "3b225e26-1827-4961-a5a0-f29dcb90524e",
   "metadata": {},
   "outputs": [],
   "source": [
    "s.push(20)\n",
    "s.push(35)\n",
    "s.push(12)\n",
    "s.push(9)\n",
    "s.push(11)\n",
    "s.push(10)\n",
    "s.push(20)\n",
    "s.push(489)\n",
    "s.push(11)"
   ]
  },
  {
   "cell_type": "code",
   "execution_count": 271,
   "id": "6b56a9b6-3476-4a24-8995-a13eaa9e0bff",
   "metadata": {},
   "outputs": [
    {
     "data": {
      "text/plain": [
       "20"
      ]
     },
     "execution_count": 271,
     "metadata": {},
     "output_type": "execute_result"
    }
   ],
   "source": [
    "s.peek()"
   ]
  },
  {
   "cell_type": "code",
   "execution_count": 269,
   "id": "f3ece0e4-0e7a-4412-9c7f-1b3f8d962a7d",
   "metadata": {},
   "outputs": [
    {
     "data": {
      "text/plain": [
       "35"
      ]
     },
     "execution_count": 269,
     "metadata": {},
     "output_type": "execute_result"
    }
   ],
   "source": [
    "s.pop()"
   ]
  },
  {
   "cell_type": "code",
   "execution_count": 270,
   "id": "901fb0d4-5df7-4529-8b72-cc36eb1f9e64",
   "metadata": {},
   "outputs": [
    {
     "data": {
      "text/plain": [
       "20"
      ]
     },
     "execution_count": 270,
     "metadata": {},
     "output_type": "execute_result"
    }
   ],
   "source": [
    "s.getMin()"
   ]
  },
  {
   "cell_type": "markdown",
   "id": "2cf75b1a-b2f1-4112-86ce-e9b748bd41bf",
   "metadata": {},
   "source": [
    "# Two stacks using a single list"
   ]
  },
  {
   "cell_type": "code",
   "execution_count": 316,
   "id": "d045e83b-e12a-4757-a83c-0823fdd2fdd5",
   "metadata": {},
   "outputs": [],
   "source": [
    "class TwoStacks:\n",
    "    def __init__(self, size):\n",
    "        self.size = size\n",
    "        self.arr = [None] * self.size\n",
    "        self.top1 = -1\n",
    "        self.top2 = -1\n",
    "    \n",
    "    def push1(self, data):\n",
    "        if self.top1 == self.size-1:\n",
    "            raise Exception('Array is not empty')\n",
    "        self.top1 += 1 \n",
    "        self.arr[self.top1] = data\n",
    "    \n",
    "    def pop1(self):\n",
    "        if self.top1 == -1:\n",
    "            raise Exception('Array is empty')\n",
    "        value = self.arr[self.top1]\n",
    "        self.arr[self.top1] = None\n",
    "        self.top1 -= 1\n",
    "        return value\n",
    "\n",
    "    def push2(self, data):\n",
    "        if (self.top2 + self.size) == 1:\n",
    "            raise Exception('Array is not empty') \n",
    "        self.arr[self.top2+1] = data\n",
    "        self.top2 -= 1\n",
    "    \n",
    "    def pop2(self):\n",
    "        if self.top2 == -1:\n",
    "            raise Exception('Array is empty')\n",
    "        value = self.arr[self.top2]\n",
    "        self.arr[self.top2] = None\n",
    "        self.top2 += 1\n",
    "        return value"
   ]
  },
  {
   "cell_type": "code",
   "execution_count": 317,
   "id": "65099706-ebea-4549-9640-8d0e61363f23",
   "metadata": {},
   "outputs": [],
   "source": [
    "s = TwoStacks(4)"
   ]
  },
  {
   "cell_type": "code",
   "execution_count": 321,
   "id": "490406c1-c288-4353-998b-cad13394af1d",
   "metadata": {},
   "outputs": [
    {
     "data": {
      "text/plain": [
       "[1, 2, 3, None]"
      ]
     },
     "execution_count": 321,
     "metadata": {},
     "output_type": "execute_result"
    }
   ],
   "source": [
    "s.arr"
   ]
  },
  {
   "cell_type": "code",
   "execution_count": 319,
   "id": "41f553e5-b548-4c5a-ae0d-0851dccfc364",
   "metadata": {},
   "outputs": [],
   "source": [
    "s.push1(1)\n",
    "s.push1(2)\n",
    "s.push1(3)\n",
    "s.push1(4)"
   ]
  },
  {
   "cell_type": "code",
   "execution_count": 320,
   "id": "b546393b-c464-4b7e-9937-04ceb9514301",
   "metadata": {},
   "outputs": [
    {
     "data": {
      "text/plain": [
       "4"
      ]
     },
     "execution_count": 320,
     "metadata": {},
     "output_type": "execute_result"
    }
   ],
   "source": [
    "s.pop1()"
   ]
  },
  {
   "cell_type": "code",
   "execution_count": null,
   "id": "c386b5c7-827d-4e0f-b7eb-6da60fefbe48",
   "metadata": {},
   "outputs": [],
   "source": []
  }
 ],
 "metadata": {
  "kernelspec": {
   "display_name": "Python 3 (ipykernel)",
   "language": "python",
   "name": "python3"
  },
  "language_info": {
   "codemirror_mode": {
    "name": "ipython",
    "version": 3
   },
   "file_extension": ".py",
   "mimetype": "text/x-python",
   "name": "python",
   "nbconvert_exporter": "python",
   "pygments_lexer": "ipython3",
   "version": "3.10.11"
  }
 },
 "nbformat": 4,
 "nbformat_minor": 5
}
