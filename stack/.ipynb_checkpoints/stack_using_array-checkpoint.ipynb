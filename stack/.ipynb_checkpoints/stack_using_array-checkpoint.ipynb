{
 "cells": [
  {
   "cell_type": "code",
   "execution_count": 161,
   "id": "39bde42c-6dac-4668-83f4-ed6c86dd8554",
   "metadata": {},
   "outputs": [],
   "source": [
    "class Stack:\n",
    "    def __init__(self, size):\n",
    "        self.size = size\n",
    "        self.__stack = [None] * self.size\n",
    "        self.top = -1\n",
    "    \n",
    "    def push(self, data):\n",
    "        if self.top == self.size - 1:\n",
    "            raise Exception(\"Array getting overflow\")\n",
    "        self.top += 1\n",
    "        self.__stack[self.top] = data\n",
    "\n",
    "    def pop(self):\n",
    "        if not self.__stack[0]:\n",
    "            raise Exception(\"Array is empty\")\n",
    "        data = self.__stack[self.top]\n",
    "        self.top -= 1\n",
    "        return data\n",
    "\n",
    "    def __len__(self):\n",
    "        return self.top + 1\n",
    "\n",
    "    def is_empty(self):\n",
    "        return True if not self.__stack[0] else False\n",
    "\n",
    "    def traverse(self):\n",
    "        for i in range(self.top, -1, -1):\n",
    "            print(self.__stack[i])"
   ]
  },
  {
   "cell_type": "code",
   "execution_count": 162,
   "id": "c6db5d64-8d07-462e-a435-b7758443acf1",
   "metadata": {},
   "outputs": [],
   "source": [
    "s = Stack(3)"
   ]
  },
  {
   "cell_type": "code",
   "execution_count": 169,
   "id": "60c49c4b-8958-42c5-bebe-ddcda619af8f",
   "metadata": {},
   "outputs": [
    {
     "name": "stdout",
     "output_type": "stream",
     "text": [
      "2\n",
      "1\n"
     ]
    }
   ],
   "source": [
    "s.traverse()"
   ]
  },
  {
   "cell_type": "code",
   "execution_count": 164,
   "id": "fd33968c-9482-406c-84a8-a04fbbeaf2a0",
   "metadata": {},
   "outputs": [],
   "source": [
    "s.push(1)\n",
    "s.push(2)\n",
    "s.push(3)"
   ]
  },
  {
   "cell_type": "code",
   "execution_count": 166,
   "id": "6ca15d9a-b36b-44d2-8463-47fd169e4bb3",
   "metadata": {},
   "outputs": [
    {
     "data": {
      "text/plain": [
       "3"
      ]
     },
     "execution_count": 166,
     "metadata": {},
     "output_type": "execute_result"
    }
   ],
   "source": [
    "s.pop()"
   ]
  },
  {
   "cell_type": "code",
   "execution_count": 167,
   "id": "f20a9298-9a27-414b-9019-fb3c9ec79dbe",
   "metadata": {},
   "outputs": [
    {
     "data": {
      "text/plain": [
       "2"
      ]
     },
     "execution_count": 167,
     "metadata": {},
     "output_type": "execute_result"
    }
   ],
   "source": [
    "len(s)"
   ]
  },
  {
   "cell_type": "code",
   "execution_count": 168,
   "id": "fcdeb8b2-edaf-4c3d-adb5-bb51758ae52c",
   "metadata": {},
   "outputs": [
    {
     "data": {
      "text/plain": [
       "False"
      ]
     },
     "execution_count": 168,
     "metadata": {},
     "output_type": "execute_result"
    }
   ],
   "source": [
    "s.is_empty()"
   ]
  },
  {
   "cell_type": "code",
   "execution_count": null,
   "id": "7a934e15-7605-48e7-a0c1-978412db7df5",
   "metadata": {},
   "outputs": [],
   "source": []
  }
 ],
 "metadata": {
  "kernelspec": {
   "display_name": "Python 3 (ipykernel)",
   "language": "python",
   "name": "python3"
  },
  "language_info": {
   "codemirror_mode": {
    "name": "ipython",
    "version": 3
   },
   "file_extension": ".py",
   "mimetype": "text/x-python",
   "name": "python",
   "nbconvert_exporter": "python",
   "pygments_lexer": "ipython3",
   "version": "3.10.11"
  }
 },
 "nbformat": 4,
 "nbformat_minor": 5
}
